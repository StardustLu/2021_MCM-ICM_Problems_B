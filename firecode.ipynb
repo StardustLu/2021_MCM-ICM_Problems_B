{
 "metadata": {
  "language_info": {
   "codemirror_mode": {
    "name": "ipython",
    "version": 3
   },
   "file_extension": ".py",
   "mimetype": "text/x-python",
   "name": "python",
   "nbconvert_exporter": "python",
   "pygments_lexer": "ipython3",
   "version": "3.8.3-final"
  },
  "orig_nbformat": 2,
  "kernelspec": {
   "name": "python3",
   "display_name": "Python 3",
   "language": "python"
  }
 },
 "nbformat": 4,
 "nbformat_minor": 2,
 "cells": [
  {
   "cell_type": "code",
   "execution_count": 1,
   "metadata": {},
   "outputs": [],
   "source": [
    "import pandas as pd\n",
    "import matplotlib.pyplot as plt\n",
    "import seaborn as sns\n",
    "sns.set()"
   ]
  },
  {
   "cell_type": "code",
   "execution_count": 2,
   "metadata": {},
   "outputs": [],
   "source": [
    "location = 'C:/Users/Lenovo/Desktop/fire_history.csv'\n",
    "data0 = pd.read_csv(location)"
   ]
  },
  {
   "cell_type": "code",
   "execution_count": 3,
   "metadata": {},
   "outputs": [],
   "source": [
    "data = data0[data0['FIRETYPE'] == 'BUSHFIRE']  # 只取类型为bushfire的火灾数据"
   ]
  },
  {
   "cell_type": "code",
   "execution_count": 4,
   "metadata": {},
   "outputs": [
    {
     "output_type": "execute_result",
     "data": {
      "text/plain": [
       "           FID  FIRETYPE  SEASON FIRE_NO  \\\n",
       "0            0  BUSHFIRE    1969     999   \n",
       "1            1  BUSHFIRE    1969     999   \n",
       "2            2  BUSHFIRE    1970     999   \n",
       "3            3  BUSHFIRE    1970     999   \n",
       "4            4  BUSHFIRE    1971     999   \n",
       "...        ...       ...     ...     ...   \n",
       "149696  149696  BUSHFIRE    2020      41   \n",
       "149697  149697  BUSHFIRE    2020      41   \n",
       "149698  149698  BUSHFIRE    2020      41   \n",
       "149699  149699  BUSHFIRE    2020      41   \n",
       "149700  149700  BUSHFIRE    2020      41   \n",
       "\n",
       "                                           NAME       START_DATE  STRTDATIT  \\\n",
       "0                                                            NaN   19690101   \n",
       "1                                                            NaN   19690101   \n",
       "2                                                            NaN   19700101   \n",
       "3                                                            NaN   19700101   \n",
       "4                                                            NaN   19710101   \n",
       "...                                         ...              ...        ...   \n",
       "149696  OVENS 41 - ABBEYARD - YARRARABULA SOUTH  2019/12/31 0:00   20191231   \n",
       "149697  OVENS 41 - ABBEYARD - YARRARABULA SOUTH  2019/12/31 0:00   20191231   \n",
       "149698  OVENS 41 - ABBEYARD - YARRARABULA SOUTH  2019/12/31 0:00   20191231   \n",
       "149699  OVENS 41 - ABBEYARD - YARRARABULA SOUTH  2019/12/31 0:00   20191231   \n",
       "149700  OVENS 41 - ABBEYARD - YARRARABULA SOUTH  2019/12/31 0:00   20191231   \n",
       "\n",
       "       TREAT_TYPE     FIRE_SVRTY FIRE_COVER     FIREKEY        CR_DATE  \\\n",
       "0            FIRE  BURNT_UNKNOWN    UNKNOWN  W196912999            NaN   \n",
       "1            FIRE  BURNT_UNKNOWN        0-9  W196912999            NaN   \n",
       "2            FIRE  BURNT_UNKNOWN        0-9  W197012999            NaN   \n",
       "3            FIRE  BURNT_UNKNOWN        0-9  W197012999            NaN   \n",
       "4            FIRE  BURNT_UNKNOWN    UNKNOWN  W197112999            NaN   \n",
       "...           ...            ...        ...         ...            ...   \n",
       "149696       FIRE        BURNT_1     90-100  W202034041  2020/5/4 0:00   \n",
       "149697       FIRE       BURNT_2P     90-100  W202034041  2020/5/4 0:00   \n",
       "149698       FIRE       BURNT_2P     90-100  W202034041  2020/5/4 0:00   \n",
       "149699       FIRE        BURNT_1     90-100  W202034041  2020/5/4 0:00   \n",
       "149700       FIRE       BURNT_2P     90-100  W202034041  2020/5/4 0:00   \n",
       "\n",
       "       UPDATEDATE  AREA_HA                                      METHOD  \\\n",
       "0             NaN  1123.40                                     Unknown   \n",
       "1             NaN     3.86                                     Unknown   \n",
       "2             NaN     9.41                                     Unknown   \n",
       "3             NaN     4.24                                     Unknown   \n",
       "4             NaN   313.81                                     Unknown   \n",
       "...           ...      ...                                         ...   \n",
       "149696        NaN     0.36  Satellite Image Interpretation - Automated   \n",
       "149697        NaN     2.00  Satellite Image Interpretation - Automated   \n",
       "149698        NaN     0.20  Satellite Image Interpretation - Automated   \n",
       "149699        NaN     4.40  Satellite Image Interpretation - Automated   \n",
       "149700        NaN     0.28  Satellite Image Interpretation - Automated   \n",
       "\n",
       "                     METHD_CMNT ACCURACY  DSE_ID  CFA_ID  DISTRICTID  \n",
       "0                                UNKNOWN       0       0         NaN  \n",
       "1                                UNKNOWN       0       0         NaN  \n",
       "2                                UNKNOWN       0       0         NaN  \n",
       "3                                UNKNOWN       0       0         NaN  \n",
       "4                                UNKNOWN       0       0         NaN  \n",
       "...                         ...      ...     ...     ...         ...  \n",
       "149696  Source: ANZVI0803008638     HIGH  971017       0        34.0  \n",
       "149697  Source: ANZVI0803008638     HIGH  971017       0        34.0  \n",
       "149698  Source: ANZVI0803008638     HIGH  971017       0        34.0  \n",
       "149699  Source: ANZVI0803008638     HIGH  971017       0        34.0  \n",
       "149700  Source: ANZVI0803008638     HIGH  971017       0        34.0  \n",
       "\n",
       "[77136 rows x 20 columns]"
      ],
      "text/html": "<div>\n<style scoped>\n    .dataframe tbody tr th:only-of-type {\n        vertical-align: middle;\n    }\n\n    .dataframe tbody tr th {\n        vertical-align: top;\n    }\n\n    .dataframe thead th {\n        text-align: right;\n    }\n</style>\n<table border=\"1\" class=\"dataframe\">\n  <thead>\n    <tr style=\"text-align: right;\">\n      <th></th>\n      <th>FID</th>\n      <th>FIRETYPE</th>\n      <th>SEASON</th>\n      <th>FIRE_NO</th>\n      <th>NAME</th>\n      <th>START_DATE</th>\n      <th>STRTDATIT</th>\n      <th>TREAT_TYPE</th>\n      <th>FIRE_SVRTY</th>\n      <th>FIRE_COVER</th>\n      <th>FIREKEY</th>\n      <th>CR_DATE</th>\n      <th>UPDATEDATE</th>\n      <th>AREA_HA</th>\n      <th>METHOD</th>\n      <th>METHD_CMNT</th>\n      <th>ACCURACY</th>\n      <th>DSE_ID</th>\n      <th>CFA_ID</th>\n      <th>DISTRICTID</th>\n    </tr>\n  </thead>\n  <tbody>\n    <tr>\n      <th>0</th>\n      <td>0</td>\n      <td>BUSHFIRE</td>\n      <td>1969</td>\n      <td>999</td>\n      <td></td>\n      <td>NaN</td>\n      <td>19690101</td>\n      <td>FIRE</td>\n      <td>BURNT_UNKNOWN</td>\n      <td>UNKNOWN</td>\n      <td>W196912999</td>\n      <td>NaN</td>\n      <td>NaN</td>\n      <td>1123.40</td>\n      <td>Unknown</td>\n      <td></td>\n      <td>UNKNOWN</td>\n      <td>0</td>\n      <td>0</td>\n      <td>NaN</td>\n    </tr>\n    <tr>\n      <th>1</th>\n      <td>1</td>\n      <td>BUSHFIRE</td>\n      <td>1969</td>\n      <td>999</td>\n      <td></td>\n      <td>NaN</td>\n      <td>19690101</td>\n      <td>FIRE</td>\n      <td>BURNT_UNKNOWN</td>\n      <td>0-9</td>\n      <td>W196912999</td>\n      <td>NaN</td>\n      <td>NaN</td>\n      <td>3.86</td>\n      <td>Unknown</td>\n      <td></td>\n      <td>UNKNOWN</td>\n      <td>0</td>\n      <td>0</td>\n      <td>NaN</td>\n    </tr>\n    <tr>\n      <th>2</th>\n      <td>2</td>\n      <td>BUSHFIRE</td>\n      <td>1970</td>\n      <td>999</td>\n      <td></td>\n      <td>NaN</td>\n      <td>19700101</td>\n      <td>FIRE</td>\n      <td>BURNT_UNKNOWN</td>\n      <td>0-9</td>\n      <td>W197012999</td>\n      <td>NaN</td>\n      <td>NaN</td>\n      <td>9.41</td>\n      <td>Unknown</td>\n      <td></td>\n      <td>UNKNOWN</td>\n      <td>0</td>\n      <td>0</td>\n      <td>NaN</td>\n    </tr>\n    <tr>\n      <th>3</th>\n      <td>3</td>\n      <td>BUSHFIRE</td>\n      <td>1970</td>\n      <td>999</td>\n      <td></td>\n      <td>NaN</td>\n      <td>19700101</td>\n      <td>FIRE</td>\n      <td>BURNT_UNKNOWN</td>\n      <td>0-9</td>\n      <td>W197012999</td>\n      <td>NaN</td>\n      <td>NaN</td>\n      <td>4.24</td>\n      <td>Unknown</td>\n      <td></td>\n      <td>UNKNOWN</td>\n      <td>0</td>\n      <td>0</td>\n      <td>NaN</td>\n    </tr>\n    <tr>\n      <th>4</th>\n      <td>4</td>\n      <td>BUSHFIRE</td>\n      <td>1971</td>\n      <td>999</td>\n      <td></td>\n      <td>NaN</td>\n      <td>19710101</td>\n      <td>FIRE</td>\n      <td>BURNT_UNKNOWN</td>\n      <td>UNKNOWN</td>\n      <td>W197112999</td>\n      <td>NaN</td>\n      <td>NaN</td>\n      <td>313.81</td>\n      <td>Unknown</td>\n      <td></td>\n      <td>UNKNOWN</td>\n      <td>0</td>\n      <td>0</td>\n      <td>NaN</td>\n    </tr>\n    <tr>\n      <th>...</th>\n      <td>...</td>\n      <td>...</td>\n      <td>...</td>\n      <td>...</td>\n      <td>...</td>\n      <td>...</td>\n      <td>...</td>\n      <td>...</td>\n      <td>...</td>\n      <td>...</td>\n      <td>...</td>\n      <td>...</td>\n      <td>...</td>\n      <td>...</td>\n      <td>...</td>\n      <td>...</td>\n      <td>...</td>\n      <td>...</td>\n      <td>...</td>\n      <td>...</td>\n    </tr>\n    <tr>\n      <th>149696</th>\n      <td>149696</td>\n      <td>BUSHFIRE</td>\n      <td>2020</td>\n      <td>41</td>\n      <td>OVENS 41 - ABBEYARD - YARRARABULA SOUTH</td>\n      <td>2019/12/31 0:00</td>\n      <td>20191231</td>\n      <td>FIRE</td>\n      <td>BURNT_1</td>\n      <td>90-100</td>\n      <td>W202034041</td>\n      <td>2020/5/4 0:00</td>\n      <td>NaN</td>\n      <td>0.36</td>\n      <td>Satellite Image Interpretation - Automated</td>\n      <td>Source: ANZVI0803008638</td>\n      <td>HIGH</td>\n      <td>971017</td>\n      <td>0</td>\n      <td>34.0</td>\n    </tr>\n    <tr>\n      <th>149697</th>\n      <td>149697</td>\n      <td>BUSHFIRE</td>\n      <td>2020</td>\n      <td>41</td>\n      <td>OVENS 41 - ABBEYARD - YARRARABULA SOUTH</td>\n      <td>2019/12/31 0:00</td>\n      <td>20191231</td>\n      <td>FIRE</td>\n      <td>BURNT_2P</td>\n      <td>90-100</td>\n      <td>W202034041</td>\n      <td>2020/5/4 0:00</td>\n      <td>NaN</td>\n      <td>2.00</td>\n      <td>Satellite Image Interpretation - Automated</td>\n      <td>Source: ANZVI0803008638</td>\n      <td>HIGH</td>\n      <td>971017</td>\n      <td>0</td>\n      <td>34.0</td>\n    </tr>\n    <tr>\n      <th>149698</th>\n      <td>149698</td>\n      <td>BUSHFIRE</td>\n      <td>2020</td>\n      <td>41</td>\n      <td>OVENS 41 - ABBEYARD - YARRARABULA SOUTH</td>\n      <td>2019/12/31 0:00</td>\n      <td>20191231</td>\n      <td>FIRE</td>\n      <td>BURNT_2P</td>\n      <td>90-100</td>\n      <td>W202034041</td>\n      <td>2020/5/4 0:00</td>\n      <td>NaN</td>\n      <td>0.20</td>\n      <td>Satellite Image Interpretation - Automated</td>\n      <td>Source: ANZVI0803008638</td>\n      <td>HIGH</td>\n      <td>971017</td>\n      <td>0</td>\n      <td>34.0</td>\n    </tr>\n    <tr>\n      <th>149699</th>\n      <td>149699</td>\n      <td>BUSHFIRE</td>\n      <td>2020</td>\n      <td>41</td>\n      <td>OVENS 41 - ABBEYARD - YARRARABULA SOUTH</td>\n      <td>2019/12/31 0:00</td>\n      <td>20191231</td>\n      <td>FIRE</td>\n      <td>BURNT_1</td>\n      <td>90-100</td>\n      <td>W202034041</td>\n      <td>2020/5/4 0:00</td>\n      <td>NaN</td>\n      <td>4.40</td>\n      <td>Satellite Image Interpretation - Automated</td>\n      <td>Source: ANZVI0803008638</td>\n      <td>HIGH</td>\n      <td>971017</td>\n      <td>0</td>\n      <td>34.0</td>\n    </tr>\n    <tr>\n      <th>149700</th>\n      <td>149700</td>\n      <td>BUSHFIRE</td>\n      <td>2020</td>\n      <td>41</td>\n      <td>OVENS 41 - ABBEYARD - YARRARABULA SOUTH</td>\n      <td>2019/12/31 0:00</td>\n      <td>20191231</td>\n      <td>FIRE</td>\n      <td>BURNT_2P</td>\n      <td>90-100</td>\n      <td>W202034041</td>\n      <td>2020/5/4 0:00</td>\n      <td>NaN</td>\n      <td>0.28</td>\n      <td>Satellite Image Interpretation - Automated</td>\n      <td>Source: ANZVI0803008638</td>\n      <td>HIGH</td>\n      <td>971017</td>\n      <td>0</td>\n      <td>34.0</td>\n    </tr>\n  </tbody>\n</table>\n<p>77136 rows × 20 columns</p>\n</div>"
     },
     "metadata": {},
     "execution_count": 4
    }
   ],
   "source": [
    "data"
   ]
  },
  {
   "cell_type": "code",
   "execution_count": 5,
   "metadata": {},
   "outputs": [
    {
     "output_type": "execute_result",
     "data": {
      "text/plain": [
       "UPDATEDATE    76352\n",
       "CR_DATE       16546\n",
       "DISTRICTID    16467\n",
       "START_DATE     3557\n",
       "FIRE_SVRTY        0\n",
       "FIRETYPE          0\n",
       "SEASON            0\n",
       "FIRE_NO           0\n",
       "NAME              0\n",
       "STRTDATIT         0\n",
       "TREAT_TYPE        0\n",
       "FIRE_COVER        0\n",
       "CFA_ID            0\n",
       "FIREKEY           0\n",
       "AREA_HA           0\n",
       "METHOD            0\n",
       "METHD_CMNT        0\n",
       "ACCURACY          0\n",
       "DSE_ID            0\n",
       "FID               0\n",
       "dtype: int64"
      ]
     },
     "metadata": {},
     "execution_count": 5
    }
   ],
   "source": [
    "# 查看缺失值情况\n",
    "data.isnull().sum().sort_values(ascending = False)"
   ]
  },
  {
   "cell_type": "code",
   "execution_count": 6,
   "metadata": {},
   "outputs": [
    {
     "output_type": "stream",
     "name": "stdout",
     "text": [
      "FIRE              77042\nFUEL REDUCTION       94\nName: TREAT_TYPE, dtype: int64\n"
     ]
    }
   ],
   "source": [
    "print(data['TREAT_TYPE'].value_counts())"
   ]
  },
  {
   "cell_type": "code",
   "execution_count": 7,
   "metadata": {},
   "outputs": [
    {
     "output_type": "stream",
     "name": "stdout",
     "text": [
      "BURNT_2P           27093\nBURNT_3            17244\nBURNT_2F           11910\nBURNT_1             9225\nBURNT_UNKNOWN       8078\nBURNT_NONFOREST     1938\nBURNT_2             1525\nBURNT_FOREST         123\nName: FIRE_SVRTY, dtype: int64\n"
     ]
    }
   ],
   "source": [
    "print(data['FIRE_SVRTY'].value_counts())"
   ]
  },
  {
   "cell_type": "code",
   "execution_count": 8,
   "metadata": {},
   "outputs": [
    {
     "output_type": "stream",
     "name": "stdout",
     "text": [
      "90-100     64483\nUNKNOWN    11353\n0-9          651\n50-69        317\n70-89        213\n10月29日       102\n30-49         17\nName: FIRE_COVER, dtype: int64\n"
     ]
    }
   ],
   "source": [
    "print(data['FIRE_COVER'].value_counts())"
   ]
  },
  {
   "cell_type": "code",
   "execution_count": 9,
   "metadata": {},
   "outputs": [
    {
     "output_type": "stream",
     "name": "stdout",
     "text": [
      "HIGH       69528\nUNKNOWN     6383\nMEDIUM      1133\nLOW           92\nName: ACCURACY, dtype: int64\n"
     ]
    }
   ],
   "source": [
    "print(data['ACCURACY'].value_counts())"
   ]
  },
  {
   "cell_type": "code",
   "execution_count": 10,
   "metadata": {},
   "outputs": [
    {
     "output_type": "stream",
     "name": "stdout",
     "text": [
      "34.0    33476\n36.0    24779\n14.0      598\n22.0      456\n12.0      442\n37.0      301\n41.0      142\n44.0      136\n45.0      111\n13.0       51\n21.0       48\n15.0       36\n47.0       36\n38.0       34\n52.0       12\n53.0       11\nName: DISTRICTID, dtype: int64\n"
     ]
    }
   ],
   "source": [
    "print(data['DISTRICTID'].value_counts())"
   ]
  },
  {
   "cell_type": "code",
   "execution_count": 11,
   "metadata": {},
   "outputs": [
    {
     "output_type": "execute_result",
     "data": {
      "text/plain": [
       "           FID  FIRETYPE  SEASON FIRE_NO  \\\n",
       "0            0  BUSHFIRE    1969     999   \n",
       "1            1  BUSHFIRE    1969     999   \n",
       "2            2  BUSHFIRE    1970     999   \n",
       "3            3  BUSHFIRE    1970     999   \n",
       "4            4  BUSHFIRE    1971     999   \n",
       "...        ...       ...     ...     ...   \n",
       "149696  149696  BUSHFIRE    2020      41   \n",
       "149697  149697  BUSHFIRE    2020      41   \n",
       "149698  149698  BUSHFIRE    2020      41   \n",
       "149699  149699  BUSHFIRE    2020      41   \n",
       "149700  149700  BUSHFIRE    2020      41   \n",
       "\n",
       "                                           NAME       START_DATE  STRTDATIT  \\\n",
       "0                                                            NaN   19690101   \n",
       "1                                                            NaN   19690101   \n",
       "2                                                            NaN   19700101   \n",
       "3                                                            NaN   19700101   \n",
       "4                                                            NaN   19710101   \n",
       "...                                         ...              ...        ...   \n",
       "149696  OVENS 41 - ABBEYARD - YARRARABULA SOUTH  2019/12/31 0:00   20191231   \n",
       "149697  OVENS 41 - ABBEYARD - YARRARABULA SOUTH  2019/12/31 0:00   20191231   \n",
       "149698  OVENS 41 - ABBEYARD - YARRARABULA SOUTH  2019/12/31 0:00   20191231   \n",
       "149699  OVENS 41 - ABBEYARD - YARRARABULA SOUTH  2019/12/31 0:00   20191231   \n",
       "149700  OVENS 41 - ABBEYARD - YARRARABULA SOUTH  2019/12/31 0:00   20191231   \n",
       "\n",
       "       TREAT_TYPE     FIRE_SVRTY FIRE_COVER     FIREKEY        CR_DATE  \\\n",
       "0            FIRE  BURNT_UNKNOWN    UNKNOWN  W196912999            NaN   \n",
       "1            FIRE  BURNT_UNKNOWN        0-9  W196912999            NaN   \n",
       "2            FIRE  BURNT_UNKNOWN        0-9  W197012999            NaN   \n",
       "3            FIRE  BURNT_UNKNOWN        0-9  W197012999            NaN   \n",
       "4            FIRE  BURNT_UNKNOWN    UNKNOWN  W197112999            NaN   \n",
       "...           ...            ...        ...         ...            ...   \n",
       "149696       FIRE        BURNT_1     90-100  W202034041  2020/5/4 0:00   \n",
       "149697       FIRE       BURNT_2P     90-100  W202034041  2020/5/4 0:00   \n",
       "149698       FIRE       BURNT_2P     90-100  W202034041  2020/5/4 0:00   \n",
       "149699       FIRE        BURNT_1     90-100  W202034041  2020/5/4 0:00   \n",
       "149700       FIRE       BURNT_2P     90-100  W202034041  2020/5/4 0:00   \n",
       "\n",
       "       UPDATEDATE  AREA_HA                                      METHOD  \\\n",
       "0             NaN  1123.40                                     Unknown   \n",
       "1             NaN     3.86                                     Unknown   \n",
       "2             NaN     9.41                                     Unknown   \n",
       "3             NaN     4.24                                     Unknown   \n",
       "4             NaN   313.81                                     Unknown   \n",
       "...           ...      ...                                         ...   \n",
       "149696        NaN     0.36  Satellite Image Interpretation - Automated   \n",
       "149697        NaN     2.00  Satellite Image Interpretation - Automated   \n",
       "149698        NaN     0.20  Satellite Image Interpretation - Automated   \n",
       "149699        NaN     4.40  Satellite Image Interpretation - Automated   \n",
       "149700        NaN     0.28  Satellite Image Interpretation - Automated   \n",
       "\n",
       "                     METHD_CMNT ACCURACY  DSE_ID  CFA_ID  DISTRICTID  \n",
       "0                                UNKNOWN       0       0         NaN  \n",
       "1                                UNKNOWN       0       0         NaN  \n",
       "2                                UNKNOWN       0       0         NaN  \n",
       "3                                UNKNOWN       0       0         NaN  \n",
       "4                                UNKNOWN       0       0         NaN  \n",
       "...                         ...      ...     ...     ...         ...  \n",
       "149696  Source: ANZVI0803008638     HIGH  971017       0        34.0  \n",
       "149697  Source: ANZVI0803008638     HIGH  971017       0        34.0  \n",
       "149698  Source: ANZVI0803008638     HIGH  971017       0        34.0  \n",
       "149699  Source: ANZVI0803008638     HIGH  971017       0        34.0  \n",
       "149700  Source: ANZVI0803008638     HIGH  971017       0        34.0  \n",
       "\n",
       "[77136 rows x 20 columns]"
      ],
      "text/html": "<div>\n<style scoped>\n    .dataframe tbody tr th:only-of-type {\n        vertical-align: middle;\n    }\n\n    .dataframe tbody tr th {\n        vertical-align: top;\n    }\n\n    .dataframe thead th {\n        text-align: right;\n    }\n</style>\n<table border=\"1\" class=\"dataframe\">\n  <thead>\n    <tr style=\"text-align: right;\">\n      <th></th>\n      <th>FID</th>\n      <th>FIRETYPE</th>\n      <th>SEASON</th>\n      <th>FIRE_NO</th>\n      <th>NAME</th>\n      <th>START_DATE</th>\n      <th>STRTDATIT</th>\n      <th>TREAT_TYPE</th>\n      <th>FIRE_SVRTY</th>\n      <th>FIRE_COVER</th>\n      <th>FIREKEY</th>\n      <th>CR_DATE</th>\n      <th>UPDATEDATE</th>\n      <th>AREA_HA</th>\n      <th>METHOD</th>\n      <th>METHD_CMNT</th>\n      <th>ACCURACY</th>\n      <th>DSE_ID</th>\n      <th>CFA_ID</th>\n      <th>DISTRICTID</th>\n    </tr>\n  </thead>\n  <tbody>\n    <tr>\n      <th>0</th>\n      <td>0</td>\n      <td>BUSHFIRE</td>\n      <td>1969</td>\n      <td>999</td>\n      <td></td>\n      <td>NaN</td>\n      <td>19690101</td>\n      <td>FIRE</td>\n      <td>BURNT_UNKNOWN</td>\n      <td>UNKNOWN</td>\n      <td>W196912999</td>\n      <td>NaN</td>\n      <td>NaN</td>\n      <td>1123.40</td>\n      <td>Unknown</td>\n      <td></td>\n      <td>UNKNOWN</td>\n      <td>0</td>\n      <td>0</td>\n      <td>NaN</td>\n    </tr>\n    <tr>\n      <th>1</th>\n      <td>1</td>\n      <td>BUSHFIRE</td>\n      <td>1969</td>\n      <td>999</td>\n      <td></td>\n      <td>NaN</td>\n      <td>19690101</td>\n      <td>FIRE</td>\n      <td>BURNT_UNKNOWN</td>\n      <td>0-9</td>\n      <td>W196912999</td>\n      <td>NaN</td>\n      <td>NaN</td>\n      <td>3.86</td>\n      <td>Unknown</td>\n      <td></td>\n      <td>UNKNOWN</td>\n      <td>0</td>\n      <td>0</td>\n      <td>NaN</td>\n    </tr>\n    <tr>\n      <th>2</th>\n      <td>2</td>\n      <td>BUSHFIRE</td>\n      <td>1970</td>\n      <td>999</td>\n      <td></td>\n      <td>NaN</td>\n      <td>19700101</td>\n      <td>FIRE</td>\n      <td>BURNT_UNKNOWN</td>\n      <td>0-9</td>\n      <td>W197012999</td>\n      <td>NaN</td>\n      <td>NaN</td>\n      <td>9.41</td>\n      <td>Unknown</td>\n      <td></td>\n      <td>UNKNOWN</td>\n      <td>0</td>\n      <td>0</td>\n      <td>NaN</td>\n    </tr>\n    <tr>\n      <th>3</th>\n      <td>3</td>\n      <td>BUSHFIRE</td>\n      <td>1970</td>\n      <td>999</td>\n      <td></td>\n      <td>NaN</td>\n      <td>19700101</td>\n      <td>FIRE</td>\n      <td>BURNT_UNKNOWN</td>\n      <td>0-9</td>\n      <td>W197012999</td>\n      <td>NaN</td>\n      <td>NaN</td>\n      <td>4.24</td>\n      <td>Unknown</td>\n      <td></td>\n      <td>UNKNOWN</td>\n      <td>0</td>\n      <td>0</td>\n      <td>NaN</td>\n    </tr>\n    <tr>\n      <th>4</th>\n      <td>4</td>\n      <td>BUSHFIRE</td>\n      <td>1971</td>\n      <td>999</td>\n      <td></td>\n      <td>NaN</td>\n      <td>19710101</td>\n      <td>FIRE</td>\n      <td>BURNT_UNKNOWN</td>\n      <td>UNKNOWN</td>\n      <td>W197112999</td>\n      <td>NaN</td>\n      <td>NaN</td>\n      <td>313.81</td>\n      <td>Unknown</td>\n      <td></td>\n      <td>UNKNOWN</td>\n      <td>0</td>\n      <td>0</td>\n      <td>NaN</td>\n    </tr>\n    <tr>\n      <th>...</th>\n      <td>...</td>\n      <td>...</td>\n      <td>...</td>\n      <td>...</td>\n      <td>...</td>\n      <td>...</td>\n      <td>...</td>\n      <td>...</td>\n      <td>...</td>\n      <td>...</td>\n      <td>...</td>\n      <td>...</td>\n      <td>...</td>\n      <td>...</td>\n      <td>...</td>\n      <td>...</td>\n      <td>...</td>\n      <td>...</td>\n      <td>...</td>\n      <td>...</td>\n    </tr>\n    <tr>\n      <th>149696</th>\n      <td>149696</td>\n      <td>BUSHFIRE</td>\n      <td>2020</td>\n      <td>41</td>\n      <td>OVENS 41 - ABBEYARD - YARRARABULA SOUTH</td>\n      <td>2019/12/31 0:00</td>\n      <td>20191231</td>\n      <td>FIRE</td>\n      <td>BURNT_1</td>\n      <td>90-100</td>\n      <td>W202034041</td>\n      <td>2020/5/4 0:00</td>\n      <td>NaN</td>\n      <td>0.36</td>\n      <td>Satellite Image Interpretation - Automated</td>\n      <td>Source: ANZVI0803008638</td>\n      <td>HIGH</td>\n      <td>971017</td>\n      <td>0</td>\n      <td>34.0</td>\n    </tr>\n    <tr>\n      <th>149697</th>\n      <td>149697</td>\n      <td>BUSHFIRE</td>\n      <td>2020</td>\n      <td>41</td>\n      <td>OVENS 41 - ABBEYARD - YARRARABULA SOUTH</td>\n      <td>2019/12/31 0:00</td>\n      <td>20191231</td>\n      <td>FIRE</td>\n      <td>BURNT_2P</td>\n      <td>90-100</td>\n      <td>W202034041</td>\n      <td>2020/5/4 0:00</td>\n      <td>NaN</td>\n      <td>2.00</td>\n      <td>Satellite Image Interpretation - Automated</td>\n      <td>Source: ANZVI0803008638</td>\n      <td>HIGH</td>\n      <td>971017</td>\n      <td>0</td>\n      <td>34.0</td>\n    </tr>\n    <tr>\n      <th>149698</th>\n      <td>149698</td>\n      <td>BUSHFIRE</td>\n      <td>2020</td>\n      <td>41</td>\n      <td>OVENS 41 - ABBEYARD - YARRARABULA SOUTH</td>\n      <td>2019/12/31 0:00</td>\n      <td>20191231</td>\n      <td>FIRE</td>\n      <td>BURNT_2P</td>\n      <td>90-100</td>\n      <td>W202034041</td>\n      <td>2020/5/4 0:00</td>\n      <td>NaN</td>\n      <td>0.20</td>\n      <td>Satellite Image Interpretation - Automated</td>\n      <td>Source: ANZVI0803008638</td>\n      <td>HIGH</td>\n      <td>971017</td>\n      <td>0</td>\n      <td>34.0</td>\n    </tr>\n    <tr>\n      <th>149699</th>\n      <td>149699</td>\n      <td>BUSHFIRE</td>\n      <td>2020</td>\n      <td>41</td>\n      <td>OVENS 41 - ABBEYARD - YARRARABULA SOUTH</td>\n      <td>2019/12/31 0:00</td>\n      <td>20191231</td>\n      <td>FIRE</td>\n      <td>BURNT_1</td>\n      <td>90-100</td>\n      <td>W202034041</td>\n      <td>2020/5/4 0:00</td>\n      <td>NaN</td>\n      <td>4.40</td>\n      <td>Satellite Image Interpretation - Automated</td>\n      <td>Source: ANZVI0803008638</td>\n      <td>HIGH</td>\n      <td>971017</td>\n      <td>0</td>\n      <td>34.0</td>\n    </tr>\n    <tr>\n      <th>149700</th>\n      <td>149700</td>\n      <td>BUSHFIRE</td>\n      <td>2020</td>\n      <td>41</td>\n      <td>OVENS 41 - ABBEYARD - YARRARABULA SOUTH</td>\n      <td>2019/12/31 0:00</td>\n      <td>20191231</td>\n      <td>FIRE</td>\n      <td>BURNT_2P</td>\n      <td>90-100</td>\n      <td>W202034041</td>\n      <td>2020/5/4 0:00</td>\n      <td>NaN</td>\n      <td>0.28</td>\n      <td>Satellite Image Interpretation - Automated</td>\n      <td>Source: ANZVI0803008638</td>\n      <td>HIGH</td>\n      <td>971017</td>\n      <td>0</td>\n      <td>34.0</td>\n    </tr>\n  </tbody>\n</table>\n<p>77136 rows × 20 columns</p>\n</div>"
     },
     "metadata": {},
     "execution_count": 11
    }
   ],
   "source": [
    "data"
   ]
  },
  {
   "cell_type": "code",
   "execution_count": 12,
   "metadata": {},
   "outputs": [
    {
     "output_type": "execute_result",
     "data": {
      "text/plain": [
       "                                           NAME  STRTDATIT     FIRE_SVRTY  \\\n",
       "0                                                 19690101  BURNT_UNKNOWN   \n",
       "1                                                 19690101  BURNT_UNKNOWN   \n",
       "2                                                 19700101  BURNT_UNKNOWN   \n",
       "3                                                 19700101  BURNT_UNKNOWN   \n",
       "4                                                 19710101  BURNT_UNKNOWN   \n",
       "...                                         ...        ...            ...   \n",
       "149696  OVENS 41 - ABBEYARD - YARRARABULA SOUTH   20191231        BURNT_1   \n",
       "149697  OVENS 41 - ABBEYARD - YARRARABULA SOUTH   20191231       BURNT_2P   \n",
       "149698  OVENS 41 - ABBEYARD - YARRARABULA SOUTH   20191231       BURNT_2P   \n",
       "149699  OVENS 41 - ABBEYARD - YARRARABULA SOUTH   20191231        BURNT_1   \n",
       "149700  OVENS 41 - ABBEYARD - YARRARABULA SOUTH   20191231       BURNT_2P   \n",
       "\n",
       "       FIRE_COVER ACCURACY  AREA_HA  DISTRICTID  \n",
       "0         UNKNOWN  UNKNOWN  1123.40         NaN  \n",
       "1             0-9  UNKNOWN     3.86         NaN  \n",
       "2             0-9  UNKNOWN     9.41         NaN  \n",
       "3             0-9  UNKNOWN     4.24         NaN  \n",
       "4         UNKNOWN  UNKNOWN   313.81         NaN  \n",
       "...           ...      ...      ...         ...  \n",
       "149696     90-100     HIGH     0.36        34.0  \n",
       "149697     90-100     HIGH     2.00        34.0  \n",
       "149698     90-100     HIGH     0.20        34.0  \n",
       "149699     90-100     HIGH     4.40        34.0  \n",
       "149700     90-100     HIGH     0.28        34.0  \n",
       "\n",
       "[77136 rows x 7 columns]"
      ],
      "text/html": "<div>\n<style scoped>\n    .dataframe tbody tr th:only-of-type {\n        vertical-align: middle;\n    }\n\n    .dataframe tbody tr th {\n        vertical-align: top;\n    }\n\n    .dataframe thead th {\n        text-align: right;\n    }\n</style>\n<table border=\"1\" class=\"dataframe\">\n  <thead>\n    <tr style=\"text-align: right;\">\n      <th></th>\n      <th>NAME</th>\n      <th>STRTDATIT</th>\n      <th>FIRE_SVRTY</th>\n      <th>FIRE_COVER</th>\n      <th>ACCURACY</th>\n      <th>AREA_HA</th>\n      <th>DISTRICTID</th>\n    </tr>\n  </thead>\n  <tbody>\n    <tr>\n      <th>0</th>\n      <td></td>\n      <td>19690101</td>\n      <td>BURNT_UNKNOWN</td>\n      <td>UNKNOWN</td>\n      <td>UNKNOWN</td>\n      <td>1123.40</td>\n      <td>NaN</td>\n    </tr>\n    <tr>\n      <th>1</th>\n      <td></td>\n      <td>19690101</td>\n      <td>BURNT_UNKNOWN</td>\n      <td>0-9</td>\n      <td>UNKNOWN</td>\n      <td>3.86</td>\n      <td>NaN</td>\n    </tr>\n    <tr>\n      <th>2</th>\n      <td></td>\n      <td>19700101</td>\n      <td>BURNT_UNKNOWN</td>\n      <td>0-9</td>\n      <td>UNKNOWN</td>\n      <td>9.41</td>\n      <td>NaN</td>\n    </tr>\n    <tr>\n      <th>3</th>\n      <td></td>\n      <td>19700101</td>\n      <td>BURNT_UNKNOWN</td>\n      <td>0-9</td>\n      <td>UNKNOWN</td>\n      <td>4.24</td>\n      <td>NaN</td>\n    </tr>\n    <tr>\n      <th>4</th>\n      <td></td>\n      <td>19710101</td>\n      <td>BURNT_UNKNOWN</td>\n      <td>UNKNOWN</td>\n      <td>UNKNOWN</td>\n      <td>313.81</td>\n      <td>NaN</td>\n    </tr>\n    <tr>\n      <th>...</th>\n      <td>...</td>\n      <td>...</td>\n      <td>...</td>\n      <td>...</td>\n      <td>...</td>\n      <td>...</td>\n      <td>...</td>\n    </tr>\n    <tr>\n      <th>149696</th>\n      <td>OVENS 41 - ABBEYARD - YARRARABULA SOUTH</td>\n      <td>20191231</td>\n      <td>BURNT_1</td>\n      <td>90-100</td>\n      <td>HIGH</td>\n      <td>0.36</td>\n      <td>34.0</td>\n    </tr>\n    <tr>\n      <th>149697</th>\n      <td>OVENS 41 - ABBEYARD - YARRARABULA SOUTH</td>\n      <td>20191231</td>\n      <td>BURNT_2P</td>\n      <td>90-100</td>\n      <td>HIGH</td>\n      <td>2.00</td>\n      <td>34.0</td>\n    </tr>\n    <tr>\n      <th>149698</th>\n      <td>OVENS 41 - ABBEYARD - YARRARABULA SOUTH</td>\n      <td>20191231</td>\n      <td>BURNT_2P</td>\n      <td>90-100</td>\n      <td>HIGH</td>\n      <td>0.20</td>\n      <td>34.0</td>\n    </tr>\n    <tr>\n      <th>149699</th>\n      <td>OVENS 41 - ABBEYARD - YARRARABULA SOUTH</td>\n      <td>20191231</td>\n      <td>BURNT_1</td>\n      <td>90-100</td>\n      <td>HIGH</td>\n      <td>4.40</td>\n      <td>34.0</td>\n    </tr>\n    <tr>\n      <th>149700</th>\n      <td>OVENS 41 - ABBEYARD - YARRARABULA SOUTH</td>\n      <td>20191231</td>\n      <td>BURNT_2P</td>\n      <td>90-100</td>\n      <td>HIGH</td>\n      <td>0.28</td>\n      <td>34.0</td>\n    </tr>\n  </tbody>\n</table>\n<p>77136 rows × 7 columns</p>\n</div>"
     },
     "metadata": {},
     "execution_count": 12
    }
   ],
   "source": [
    "data1 = data.loc[:,['NAME', 'STRTDATIT', 'FIRE_SVRTY', 'FIRE_COVER', 'ACCURACY', 'AREA_HA', 'DISTRICTID']]\n",
    "data1"
   ]
  },
  {
   "cell_type": "code",
   "execution_count": 13,
   "metadata": {},
   "outputs": [
    {
     "output_type": "stream",
     "name": "stdout",
     "text": [
      "BURNT_2P           27093\nBURNT_3            17244\nBURNT_2F           11910\nBURNT_1             9225\nBURNT_UNKNOWN       8078\nBURNT_NONFOREST     1938\nBURNT_2             1525\nBURNT_FOREST         123\nName: FIRE_SVRTY, dtype: int64\n"
     ]
    }
   ],
   "source": [
    "print(data1['FIRE_SVRTY'].value_counts())"
   ]
  },
  {
   "cell_type": "code",
   "execution_count": 14,
   "metadata": {},
   "outputs": [
    {
     "output_type": "stream",
     "name": "stdout",
     "text": [
      "90-100     64483\nUNKNOWN    11353\n0-9          651\n50-69        317\n70-89        213\n10月29日       102\n30-49         17\nName: FIRE_COVER, dtype: int64\n"
     ]
    }
   ],
   "source": [
    "print(data1['FIRE_COVER'].value_counts())"
   ]
  },
  {
   "cell_type": "code",
   "execution_count": 15,
   "metadata": {},
   "outputs": [
    {
     "output_type": "stream",
     "name": "stdout",
     "text": [
      "HIGH       69528\nUNKNOWN     6383\nMEDIUM      1133\nLOW           92\nName: ACCURACY, dtype: int64\n"
     ]
    }
   ],
   "source": [
    "print(data1['ACCURACY'].value_counts())"
   ]
  },
  {
   "cell_type": "code",
   "execution_count": 16,
   "metadata": {},
   "outputs": [
    {
     "output_type": "stream",
     "name": "stdout",
     "text": [
      "34.0    33476\n36.0    24779\n14.0      598\n22.0      456\n12.0      442\n37.0      301\n41.0      142\n44.0      136\n45.0      111\n13.0       51\n21.0       48\n15.0       36\n47.0       36\n38.0       34\n52.0       12\n53.0       11\nName: DISTRICTID, dtype: int64\n"
     ]
    }
   ],
   "source": [
    "print(data1['DISTRICTID'].value_counts())"
   ]
  },
  {
   "cell_type": "code",
   "execution_count": 17,
   "metadata": {},
   "outputs": [
    {
     "output_type": "execute_result",
     "data": {
      "text/plain": [
       "count    7.713600e+04\n",
       "mean     1.980269e+02\n",
       "std      1.096793e+04\n",
       "min      0.000000e+00\n",
       "25%      2.400000e-01\n",
       "50%      5.200000e-01\n",
       "75%      2.120000e+00\n",
       "max      2.383892e+06\n",
       "Name: AREA_HA, dtype: float64"
      ]
     },
     "metadata": {},
     "execution_count": 17
    }
   ],
   "source": [
    "data1['AREA_HA'].describe()"
   ]
  },
  {
   "cell_type": "code",
   "execution_count": 18,
   "metadata": {},
   "outputs": [],
   "source": [
    "data1 = data1.sort_values(by=['STRTDATIT', 'NAME'])"
   ]
  },
  {
   "cell_type": "code",
   "execution_count": 19,
   "metadata": {},
   "outputs": [
    {
     "output_type": "execute_result",
     "data": {
      "text/plain": [
       "                                         NAME  STRTDATIT     FIRE_SVRTY  \\\n",
       "1412                                            19270101   BURNT_FOREST   \n",
       "22927                                           19270101  BURNT_UNKNOWN   \n",
       "58354                                           19320101  BURNT_UNKNOWN   \n",
       "58355                                           19320101  BURNT_UNKNOWN   \n",
       "58356                                           19320101  BURNT_UNKNOWN   \n",
       "...                                       ...        ...            ...   \n",
       "83841   GOULBURN 225 - HOWQUA - STEINERS ROAD   20200301        BURNT_1   \n",
       "143407                              Temporary   20200307  BURNT_UNKNOWN   \n",
       "149321   WIMMERA 53 - JILPANGER - FARNHAMS RD   20200308  BURNT_UNKNOWN   \n",
       "142306   MIDLANDS 61 - HEPBURN - DRY DIGGINGS   20200311  BURNT_UNKNOWN   \n",
       "137884        SNOWY 22 - WAYGARA - BEACH ROAD   20200619  BURNT_UNKNOWN   \n",
       "\n",
       "       FIRE_COVER ACCURACY   AREA_HA  DISTRICTID  \n",
       "1412      UNKNOWN  UNKNOWN     76.58         NaN  \n",
       "22927         0-9  UNKNOWN  21020.47         NaN  \n",
       "58354      90-100  UNKNOWN      8.89         NaN  \n",
       "58355      90-100  UNKNOWN      9.34         NaN  \n",
       "58356      90-100  UNKNOWN      2.41         NaN  \n",
       "...           ...      ...       ...         ...  \n",
       "83841      90-100     HIGH      1.34        37.0  \n",
       "143407    UNKNOWN  UNKNOWN      0.64         NaN  \n",
       "149321    UNKNOWN  UNKNOWN     85.71        13.0  \n",
       "142306     90-100  UNKNOWN     10.08        15.0  \n",
       "137884     90-100   MEDIUM     46.41        45.0  \n",
       "\n",
       "[77136 rows x 7 columns]"
      ],
      "text/html": "<div>\n<style scoped>\n    .dataframe tbody tr th:only-of-type {\n        vertical-align: middle;\n    }\n\n    .dataframe tbody tr th {\n        vertical-align: top;\n    }\n\n    .dataframe thead th {\n        text-align: right;\n    }\n</style>\n<table border=\"1\" class=\"dataframe\">\n  <thead>\n    <tr style=\"text-align: right;\">\n      <th></th>\n      <th>NAME</th>\n      <th>STRTDATIT</th>\n      <th>FIRE_SVRTY</th>\n      <th>FIRE_COVER</th>\n      <th>ACCURACY</th>\n      <th>AREA_HA</th>\n      <th>DISTRICTID</th>\n    </tr>\n  </thead>\n  <tbody>\n    <tr>\n      <th>1412</th>\n      <td></td>\n      <td>19270101</td>\n      <td>BURNT_FOREST</td>\n      <td>UNKNOWN</td>\n      <td>UNKNOWN</td>\n      <td>76.58</td>\n      <td>NaN</td>\n    </tr>\n    <tr>\n      <th>22927</th>\n      <td></td>\n      <td>19270101</td>\n      <td>BURNT_UNKNOWN</td>\n      <td>0-9</td>\n      <td>UNKNOWN</td>\n      <td>21020.47</td>\n      <td>NaN</td>\n    </tr>\n    <tr>\n      <th>58354</th>\n      <td></td>\n      <td>19320101</td>\n      <td>BURNT_UNKNOWN</td>\n      <td>90-100</td>\n      <td>UNKNOWN</td>\n      <td>8.89</td>\n      <td>NaN</td>\n    </tr>\n    <tr>\n      <th>58355</th>\n      <td></td>\n      <td>19320101</td>\n      <td>BURNT_UNKNOWN</td>\n      <td>90-100</td>\n      <td>UNKNOWN</td>\n      <td>9.34</td>\n      <td>NaN</td>\n    </tr>\n    <tr>\n      <th>58356</th>\n      <td></td>\n      <td>19320101</td>\n      <td>BURNT_UNKNOWN</td>\n      <td>90-100</td>\n      <td>UNKNOWN</td>\n      <td>2.41</td>\n      <td>NaN</td>\n    </tr>\n    <tr>\n      <th>...</th>\n      <td>...</td>\n      <td>...</td>\n      <td>...</td>\n      <td>...</td>\n      <td>...</td>\n      <td>...</td>\n      <td>...</td>\n    </tr>\n    <tr>\n      <th>83841</th>\n      <td>GOULBURN 225 - HOWQUA - STEINERS ROAD</td>\n      <td>20200301</td>\n      <td>BURNT_1</td>\n      <td>90-100</td>\n      <td>HIGH</td>\n      <td>1.34</td>\n      <td>37.0</td>\n    </tr>\n    <tr>\n      <th>143407</th>\n      <td>Temporary</td>\n      <td>20200307</td>\n      <td>BURNT_UNKNOWN</td>\n      <td>UNKNOWN</td>\n      <td>UNKNOWN</td>\n      <td>0.64</td>\n      <td>NaN</td>\n    </tr>\n    <tr>\n      <th>149321</th>\n      <td>WIMMERA 53 - JILPANGER - FARNHAMS RD</td>\n      <td>20200308</td>\n      <td>BURNT_UNKNOWN</td>\n      <td>UNKNOWN</td>\n      <td>UNKNOWN</td>\n      <td>85.71</td>\n      <td>13.0</td>\n    </tr>\n    <tr>\n      <th>142306</th>\n      <td>MIDLANDS 61 - HEPBURN - DRY DIGGINGS</td>\n      <td>20200311</td>\n      <td>BURNT_UNKNOWN</td>\n      <td>90-100</td>\n      <td>UNKNOWN</td>\n      <td>10.08</td>\n      <td>15.0</td>\n    </tr>\n    <tr>\n      <th>137884</th>\n      <td>SNOWY 22 - WAYGARA - BEACH ROAD</td>\n      <td>20200619</td>\n      <td>BURNT_UNKNOWN</td>\n      <td>90-100</td>\n      <td>MEDIUM</td>\n      <td>46.41</td>\n      <td>45.0</td>\n    </tr>\n  </tbody>\n</table>\n<p>77136 rows × 7 columns</p>\n</div>"
     },
     "metadata": {},
     "execution_count": 19
    }
   ],
   "source": [
    "data1"
   ]
  },
  {
   "cell_type": "code",
   "execution_count": 20,
   "metadata": {},
   "outputs": [],
   "source": [
    "data2=data1.groupby(['NAME', 'STRTDATIT'], as_index=False).AREA_HA.sum()"
   ]
  },
  {
   "cell_type": "code",
   "execution_count": 21,
   "metadata": {},
   "outputs": [
    {
     "output_type": "execute_result",
     "data": {
      "text/plain": [
       "                           NAME  STRTDATIT     AREA_HA\n",
       "0                                 19270101    21097.05\n",
       "1                                 19320101    17576.89\n",
       "2                                 19360101      691.93\n",
       "3                                 19380101     1493.73\n",
       "4                                 19390101  3417937.46\n",
       "...                         ...        ...         ...\n",
       "2362      YIELIMA - HUGHES LANE   20140105       36.67\n",
       "2363  Yandoit - McPhersons Lane   20121231       54.39\n",
       "2364  Yanipy - Miram South Road   20151025      114.28\n",
       "2365         Yarram - Napier Rd   20090223     1400.84\n",
       "2366        Yellow Bog Rd (NSW)   20200108      273.86\n",
       "\n",
       "[2367 rows x 3 columns]"
      ],
      "text/html": "<div>\n<style scoped>\n    .dataframe tbody tr th:only-of-type {\n        vertical-align: middle;\n    }\n\n    .dataframe tbody tr th {\n        vertical-align: top;\n    }\n\n    .dataframe thead th {\n        text-align: right;\n    }\n</style>\n<table border=\"1\" class=\"dataframe\">\n  <thead>\n    <tr style=\"text-align: right;\">\n      <th></th>\n      <th>NAME</th>\n      <th>STRTDATIT</th>\n      <th>AREA_HA</th>\n    </tr>\n  </thead>\n  <tbody>\n    <tr>\n      <th>0</th>\n      <td></td>\n      <td>19270101</td>\n      <td>21097.05</td>\n    </tr>\n    <tr>\n      <th>1</th>\n      <td></td>\n      <td>19320101</td>\n      <td>17576.89</td>\n    </tr>\n    <tr>\n      <th>2</th>\n      <td></td>\n      <td>19360101</td>\n      <td>691.93</td>\n    </tr>\n    <tr>\n      <th>3</th>\n      <td></td>\n      <td>19380101</td>\n      <td>1493.73</td>\n    </tr>\n    <tr>\n      <th>4</th>\n      <td></td>\n      <td>19390101</td>\n      <td>3417937.46</td>\n    </tr>\n    <tr>\n      <th>...</th>\n      <td>...</td>\n      <td>...</td>\n      <td>...</td>\n    </tr>\n    <tr>\n      <th>2362</th>\n      <td>YIELIMA - HUGHES LANE</td>\n      <td>20140105</td>\n      <td>36.67</td>\n    </tr>\n    <tr>\n      <th>2363</th>\n      <td>Yandoit - McPhersons Lane</td>\n      <td>20121231</td>\n      <td>54.39</td>\n    </tr>\n    <tr>\n      <th>2364</th>\n      <td>Yanipy - Miram South Road</td>\n      <td>20151025</td>\n      <td>114.28</td>\n    </tr>\n    <tr>\n      <th>2365</th>\n      <td>Yarram - Napier Rd</td>\n      <td>20090223</td>\n      <td>1400.84</td>\n    </tr>\n    <tr>\n      <th>2366</th>\n      <td>Yellow Bog Rd (NSW)</td>\n      <td>20200108</td>\n      <td>273.86</td>\n    </tr>\n  </tbody>\n</table>\n<p>2367 rows × 3 columns</p>\n</div>"
     },
     "metadata": {},
     "execution_count": 21
    }
   ],
   "source": [
    "data2"
   ]
  },
  {
   "cell_type": "code",
   "execution_count": 22,
   "metadata": {},
   "outputs": [],
   "source": [
    "data2['STRTDATIT'] = data2['STRTDATIT'].astype(str)"
   ]
  },
  {
   "cell_type": "code",
   "execution_count": 23,
   "metadata": {},
   "outputs": [
    {
     "output_type": "error",
     "ename": "ParserError",
     "evalue": "month must be in 1..12: 19861307",
     "traceback": [
      "\u001b[1;31m---------------------------------------------------------------------------\u001b[0m",
      "\u001b[1;31mValueError\u001b[0m                                Traceback (most recent call last)",
      "\u001b[1;32m~\\AppData\\Roaming\\Python\\Python38\\site-packages\\dateutil\\parser\\_parser.py\u001b[0m in \u001b[0;36mparse\u001b[1;34m(self, timestr, default, ignoretz, tzinfos, **kwargs)\u001b[0m\n\u001b[0;32m    654\u001b[0m         \u001b[1;32mtry\u001b[0m\u001b[1;33m:\u001b[0m\u001b[1;33m\u001b[0m\u001b[1;33m\u001b[0m\u001b[0m\n\u001b[1;32m--> 655\u001b[1;33m             \u001b[0mret\u001b[0m \u001b[1;33m=\u001b[0m \u001b[0mself\u001b[0m\u001b[1;33m.\u001b[0m\u001b[0m_build_naive\u001b[0m\u001b[1;33m(\u001b[0m\u001b[0mres\u001b[0m\u001b[1;33m,\u001b[0m \u001b[0mdefault\u001b[0m\u001b[1;33m)\u001b[0m\u001b[1;33m\u001b[0m\u001b[1;33m\u001b[0m\u001b[0m\n\u001b[0m\u001b[0;32m    656\u001b[0m         \u001b[1;32mexcept\u001b[0m \u001b[0mValueError\u001b[0m \u001b[1;32mas\u001b[0m \u001b[0me\u001b[0m\u001b[1;33m:\u001b[0m\u001b[1;33m\u001b[0m\u001b[1;33m\u001b[0m\u001b[0m\n",
      "\u001b[1;32m~\\AppData\\Roaming\\Python\\Python38\\site-packages\\dateutil\\parser\\_parser.py\u001b[0m in \u001b[0;36m_build_naive\u001b[1;34m(self, res, default)\u001b[0m\n\u001b[0;32m   1240\u001b[0m \u001b[1;33m\u001b[0m\u001b[0m\n\u001b[1;32m-> 1241\u001b[1;33m         \u001b[0mnaive\u001b[0m \u001b[1;33m=\u001b[0m \u001b[0mdefault\u001b[0m\u001b[1;33m.\u001b[0m\u001b[0mreplace\u001b[0m\u001b[1;33m(\u001b[0m\u001b[1;33m**\u001b[0m\u001b[0mrepl\u001b[0m\u001b[1;33m)\u001b[0m\u001b[1;33m\u001b[0m\u001b[1;33m\u001b[0m\u001b[0m\n\u001b[0m\u001b[0;32m   1242\u001b[0m \u001b[1;33m\u001b[0m\u001b[0m\n",
      "\u001b[1;31mValueError\u001b[0m: month must be in 1..12",
      "\nThe above exception was the direct cause of the following exception:\n",
      "\u001b[1;31mParserError\u001b[0m                               Traceback (most recent call last)",
      "\u001b[1;32mpandas\\_libs\\tslib.pyx\u001b[0m in \u001b[0;36mpandas._libs.tslib.array_to_datetime\u001b[1;34m()\u001b[0m\n",
      "\u001b[1;32mpandas\\_libs\\tslibs\\parsing.pyx\u001b[0m in \u001b[0;36mpandas._libs.tslibs.parsing.parse_datetime_string\u001b[1;34m()\u001b[0m\n",
      "\u001b[1;32m~\\AppData\\Roaming\\Python\\Python38\\site-packages\\dateutil\\parser\\_parser.py\u001b[0m in \u001b[0;36mparse\u001b[1;34m(timestr, parserinfo, **kwargs)\u001b[0m\n\u001b[0;32m   1373\u001b[0m     \u001b[1;32melse\u001b[0m\u001b[1;33m:\u001b[0m\u001b[1;33m\u001b[0m\u001b[1;33m\u001b[0m\u001b[0m\n\u001b[1;32m-> 1374\u001b[1;33m         \u001b[1;32mreturn\u001b[0m \u001b[0mDEFAULTPARSER\u001b[0m\u001b[1;33m.\u001b[0m\u001b[0mparse\u001b[0m\u001b[1;33m(\u001b[0m\u001b[0mtimestr\u001b[0m\u001b[1;33m,\u001b[0m \u001b[1;33m**\u001b[0m\u001b[0mkwargs\u001b[0m\u001b[1;33m)\u001b[0m\u001b[1;33m\u001b[0m\u001b[1;33m\u001b[0m\u001b[0m\n\u001b[0m\u001b[0;32m   1375\u001b[0m \u001b[1;33m\u001b[0m\u001b[0m\n",
      "\u001b[1;32m~\\AppData\\Roaming\\Python\\Python38\\site-packages\\dateutil\\parser\\_parser.py\u001b[0m in \u001b[0;36mparse\u001b[1;34m(self, timestr, default, ignoretz, tzinfos, **kwargs)\u001b[0m\n\u001b[0;32m    656\u001b[0m         \u001b[1;32mexcept\u001b[0m \u001b[0mValueError\u001b[0m \u001b[1;32mas\u001b[0m \u001b[0me\u001b[0m\u001b[1;33m:\u001b[0m\u001b[1;33m\u001b[0m\u001b[1;33m\u001b[0m\u001b[0m\n\u001b[1;32m--> 657\u001b[1;33m             \u001b[0msix\u001b[0m\u001b[1;33m.\u001b[0m\u001b[0mraise_from\u001b[0m\u001b[1;33m(\u001b[0m\u001b[0mParserError\u001b[0m\u001b[1;33m(\u001b[0m\u001b[0me\u001b[0m\u001b[1;33m.\u001b[0m\u001b[0margs\u001b[0m\u001b[1;33m[\u001b[0m\u001b[1;36m0\u001b[0m\u001b[1;33m]\u001b[0m \u001b[1;33m+\u001b[0m \u001b[1;34m\": %s\"\u001b[0m\u001b[1;33m,\u001b[0m \u001b[0mtimestr\u001b[0m\u001b[1;33m)\u001b[0m\u001b[1;33m,\u001b[0m \u001b[0me\u001b[0m\u001b[1;33m)\u001b[0m\u001b[1;33m\u001b[0m\u001b[1;33m\u001b[0m\u001b[0m\n\u001b[0m\u001b[0;32m    658\u001b[0m \u001b[1;33m\u001b[0m\u001b[0m\n",
      "\u001b[1;32mE:\\anaconda3\\lib\\site-packages\\six.py\u001b[0m in \u001b[0;36mraise_from\u001b[1;34m(value, from_value)\u001b[0m\n",
      "\u001b[1;31mParserError\u001b[0m: month must be in 1..12: 19861307",
      "\nDuring handling of the above exception, another exception occurred:\n",
      "\u001b[1;31mTypeError\u001b[0m                                 Traceback (most recent call last)",
      "\u001b[1;32mpandas\\_libs\\tslib.pyx\u001b[0m in \u001b[0;36mpandas._libs.tslib.array_to_datetime\u001b[1;34m()\u001b[0m\n",
      "\u001b[1;31mTypeError\u001b[0m: invalid string coercion to datetime",
      "\nDuring handling of the above exception, another exception occurred:\n",
      "\u001b[1;31mValueError\u001b[0m                                Traceback (most recent call last)",
      "\u001b[1;32m~\\AppData\\Roaming\\Python\\Python38\\site-packages\\dateutil\\parser\\_parser.py\u001b[0m in \u001b[0;36mparse\u001b[1;34m(self, timestr, default, ignoretz, tzinfos, **kwargs)\u001b[0m\n\u001b[0;32m    654\u001b[0m         \u001b[1;32mtry\u001b[0m\u001b[1;33m:\u001b[0m\u001b[1;33m\u001b[0m\u001b[1;33m\u001b[0m\u001b[0m\n\u001b[1;32m--> 655\u001b[1;33m             \u001b[0mret\u001b[0m \u001b[1;33m=\u001b[0m \u001b[0mself\u001b[0m\u001b[1;33m.\u001b[0m\u001b[0m_build_naive\u001b[0m\u001b[1;33m(\u001b[0m\u001b[0mres\u001b[0m\u001b[1;33m,\u001b[0m \u001b[0mdefault\u001b[0m\u001b[1;33m)\u001b[0m\u001b[1;33m\u001b[0m\u001b[1;33m\u001b[0m\u001b[0m\n\u001b[0m\u001b[0;32m    656\u001b[0m         \u001b[1;32mexcept\u001b[0m \u001b[0mValueError\u001b[0m \u001b[1;32mas\u001b[0m \u001b[0me\u001b[0m\u001b[1;33m:\u001b[0m\u001b[1;33m\u001b[0m\u001b[1;33m\u001b[0m\u001b[0m\n",
      "\u001b[1;32m~\\AppData\\Roaming\\Python\\Python38\\site-packages\\dateutil\\parser\\_parser.py\u001b[0m in \u001b[0;36m_build_naive\u001b[1;34m(self, res, default)\u001b[0m\n\u001b[0;32m   1240\u001b[0m \u001b[1;33m\u001b[0m\u001b[0m\n\u001b[1;32m-> 1241\u001b[1;33m         \u001b[0mnaive\u001b[0m \u001b[1;33m=\u001b[0m \u001b[0mdefault\u001b[0m\u001b[1;33m.\u001b[0m\u001b[0mreplace\u001b[0m\u001b[1;33m(\u001b[0m\u001b[1;33m**\u001b[0m\u001b[0mrepl\u001b[0m\u001b[1;33m)\u001b[0m\u001b[1;33m\u001b[0m\u001b[1;33m\u001b[0m\u001b[0m\n\u001b[0m\u001b[0;32m   1242\u001b[0m \u001b[1;33m\u001b[0m\u001b[0m\n",
      "\u001b[1;31mValueError\u001b[0m: month must be in 1..12",
      "\nThe above exception was the direct cause of the following exception:\n",
      "\u001b[1;31mParserError\u001b[0m                               Traceback (most recent call last)",
      "\u001b[1;32m<ipython-input-23-cd58d609eed5>\u001b[0m in \u001b[0;36m<module>\u001b[1;34m\u001b[0m\n\u001b[1;32m----> 1\u001b[1;33m \u001b[0mdata2\u001b[0m\u001b[1;33m[\u001b[0m\u001b[1;34m'STRTDATIT'\u001b[0m\u001b[1;33m]\u001b[0m \u001b[1;33m=\u001b[0m \u001b[0mpd\u001b[0m\u001b[1;33m.\u001b[0m\u001b[0mto_datetime\u001b[0m\u001b[1;33m(\u001b[0m\u001b[0mdata2\u001b[0m\u001b[1;33m[\u001b[0m\u001b[1;34m'STRTDATIT'\u001b[0m\u001b[1;33m]\u001b[0m\u001b[1;33m)\u001b[0m\u001b[1;33m\u001b[0m\u001b[1;33m\u001b[0m\u001b[0m\n\u001b[0m",
      "\u001b[1;32mE:\\anaconda3\\lib\\site-packages\\pandas\\core\\tools\\datetimes.py\u001b[0m in \u001b[0;36mto_datetime\u001b[1;34m(arg, errors, dayfirst, yearfirst, utc, format, exact, unit, infer_datetime_format, origin, cache)\u001b[0m\n\u001b[0;32m    726\u001b[0m             \u001b[0mresult\u001b[0m \u001b[1;33m=\u001b[0m \u001b[0marg\u001b[0m\u001b[1;33m.\u001b[0m\u001b[0mmap\u001b[0m\u001b[1;33m(\u001b[0m\u001b[0mcache_array\u001b[0m\u001b[1;33m)\u001b[0m\u001b[1;33m\u001b[0m\u001b[1;33m\u001b[0m\u001b[0m\n\u001b[0;32m    727\u001b[0m         \u001b[1;32melse\u001b[0m\u001b[1;33m:\u001b[0m\u001b[1;33m\u001b[0m\u001b[1;33m\u001b[0m\u001b[0m\n\u001b[1;32m--> 728\u001b[1;33m             \u001b[0mvalues\u001b[0m \u001b[1;33m=\u001b[0m \u001b[0mconvert_listlike\u001b[0m\u001b[1;33m(\u001b[0m\u001b[0marg\u001b[0m\u001b[1;33m.\u001b[0m\u001b[0m_values\u001b[0m\u001b[1;33m,\u001b[0m \u001b[0mformat\u001b[0m\u001b[1;33m)\u001b[0m\u001b[1;33m\u001b[0m\u001b[1;33m\u001b[0m\u001b[0m\n\u001b[0m\u001b[0;32m    729\u001b[0m             \u001b[0mresult\u001b[0m \u001b[1;33m=\u001b[0m \u001b[0marg\u001b[0m\u001b[1;33m.\u001b[0m\u001b[0m_constructor\u001b[0m\u001b[1;33m(\u001b[0m\u001b[0mvalues\u001b[0m\u001b[1;33m,\u001b[0m \u001b[0mindex\u001b[0m\u001b[1;33m=\u001b[0m\u001b[0marg\u001b[0m\u001b[1;33m.\u001b[0m\u001b[0mindex\u001b[0m\u001b[1;33m,\u001b[0m \u001b[0mname\u001b[0m\u001b[1;33m=\u001b[0m\u001b[0marg\u001b[0m\u001b[1;33m.\u001b[0m\u001b[0mname\u001b[0m\u001b[1;33m)\u001b[0m\u001b[1;33m\u001b[0m\u001b[1;33m\u001b[0m\u001b[0m\n\u001b[0;32m    730\u001b[0m     \u001b[1;32melif\u001b[0m \u001b[0misinstance\u001b[0m\u001b[1;33m(\u001b[0m\u001b[0marg\u001b[0m\u001b[1;33m,\u001b[0m \u001b[1;33m(\u001b[0m\u001b[0mABCDataFrame\u001b[0m\u001b[1;33m,\u001b[0m \u001b[0mabc\u001b[0m\u001b[1;33m.\u001b[0m\u001b[0mMutableMapping\u001b[0m\u001b[1;33m)\u001b[0m\u001b[1;33m)\u001b[0m\u001b[1;33m:\u001b[0m\u001b[1;33m\u001b[0m\u001b[1;33m\u001b[0m\u001b[0m\n",
      "\u001b[1;32mE:\\anaconda3\\lib\\site-packages\\pandas\\core\\tools\\datetimes.py\u001b[0m in \u001b[0;36m_convert_listlike_datetimes\u001b[1;34m(arg, format, name, tz, unit, errors, infer_datetime_format, dayfirst, yearfirst, exact)\u001b[0m\n\u001b[0;32m    438\u001b[0m         \u001b[1;32massert\u001b[0m \u001b[0mformat\u001b[0m \u001b[1;32mis\u001b[0m \u001b[1;32mNone\u001b[0m \u001b[1;32mor\u001b[0m \u001b[0minfer_datetime_format\u001b[0m\u001b[1;33m\u001b[0m\u001b[1;33m\u001b[0m\u001b[0m\n\u001b[0;32m    439\u001b[0m         \u001b[0mutc\u001b[0m \u001b[1;33m=\u001b[0m \u001b[0mtz\u001b[0m \u001b[1;33m==\u001b[0m \u001b[1;34m\"utc\"\u001b[0m\u001b[1;33m\u001b[0m\u001b[1;33m\u001b[0m\u001b[0m\n\u001b[1;32m--> 440\u001b[1;33m         result, tz_parsed = objects_to_datetime64ns(\n\u001b[0m\u001b[0;32m    441\u001b[0m             \u001b[0marg\u001b[0m\u001b[1;33m,\u001b[0m\u001b[1;33m\u001b[0m\u001b[1;33m\u001b[0m\u001b[0m\n\u001b[0;32m    442\u001b[0m             \u001b[0mdayfirst\u001b[0m\u001b[1;33m=\u001b[0m\u001b[0mdayfirst\u001b[0m\u001b[1;33m,\u001b[0m\u001b[1;33m\u001b[0m\u001b[1;33m\u001b[0m\u001b[0m\n",
      "\u001b[1;32mE:\\anaconda3\\lib\\site-packages\\pandas\\core\\arrays\\datetimes.py\u001b[0m in \u001b[0;36mobjects_to_datetime64ns\u001b[1;34m(data, dayfirst, yearfirst, utc, errors, require_iso8601, allow_object)\u001b[0m\n\u001b[0;32m   1861\u001b[0m             \u001b[1;32mreturn\u001b[0m \u001b[0mvalues\u001b[0m\u001b[1;33m.\u001b[0m\u001b[0mview\u001b[0m\u001b[1;33m(\u001b[0m\u001b[1;34m\"i8\"\u001b[0m\u001b[1;33m)\u001b[0m\u001b[1;33m,\u001b[0m \u001b[0mtz_parsed\u001b[0m\u001b[1;33m\u001b[0m\u001b[1;33m\u001b[0m\u001b[0m\n\u001b[0;32m   1862\u001b[0m         \u001b[1;32mexcept\u001b[0m \u001b[1;33m(\u001b[0m\u001b[0mValueError\u001b[0m\u001b[1;33m,\u001b[0m \u001b[0mTypeError\u001b[0m\u001b[1;33m)\u001b[0m\u001b[1;33m:\u001b[0m\u001b[1;33m\u001b[0m\u001b[1;33m\u001b[0m\u001b[0m\n\u001b[1;32m-> 1863\u001b[1;33m             \u001b[1;32mraise\u001b[0m \u001b[0me\u001b[0m\u001b[1;33m\u001b[0m\u001b[1;33m\u001b[0m\u001b[0m\n\u001b[0m\u001b[0;32m   1864\u001b[0m \u001b[1;33m\u001b[0m\u001b[0m\n\u001b[0;32m   1865\u001b[0m     \u001b[1;32mif\u001b[0m \u001b[0mtz_parsed\u001b[0m \u001b[1;32mis\u001b[0m \u001b[1;32mnot\u001b[0m \u001b[1;32mNone\u001b[0m\u001b[1;33m:\u001b[0m\u001b[1;33m\u001b[0m\u001b[1;33m\u001b[0m\u001b[0m\n",
      "\u001b[1;32mE:\\anaconda3\\lib\\site-packages\\pandas\\core\\arrays\\datetimes.py\u001b[0m in \u001b[0;36mobjects_to_datetime64ns\u001b[1;34m(data, dayfirst, yearfirst, utc, errors, require_iso8601, allow_object)\u001b[0m\n\u001b[0;32m   1846\u001b[0m \u001b[1;33m\u001b[0m\u001b[0m\n\u001b[0;32m   1847\u001b[0m     \u001b[1;32mtry\u001b[0m\u001b[1;33m:\u001b[0m\u001b[1;33m\u001b[0m\u001b[1;33m\u001b[0m\u001b[0m\n\u001b[1;32m-> 1848\u001b[1;33m         result, tz_parsed = tslib.array_to_datetime(\n\u001b[0m\u001b[0;32m   1849\u001b[0m             \u001b[0mdata\u001b[0m\u001b[1;33m,\u001b[0m\u001b[1;33m\u001b[0m\u001b[1;33m\u001b[0m\u001b[0m\n\u001b[0;32m   1850\u001b[0m             \u001b[0merrors\u001b[0m\u001b[1;33m=\u001b[0m\u001b[0merrors\u001b[0m\u001b[1;33m,\u001b[0m\u001b[1;33m\u001b[0m\u001b[1;33m\u001b[0m\u001b[0m\n",
      "\u001b[1;32mpandas\\_libs\\tslib.pyx\u001b[0m in \u001b[0;36mpandas._libs.tslib.array_to_datetime\u001b[1;34m()\u001b[0m\n",
      "\u001b[1;32mpandas\\_libs\\tslib.pyx\u001b[0m in \u001b[0;36mpandas._libs.tslib.array_to_datetime\u001b[1;34m()\u001b[0m\n",
      "\u001b[1;32mpandas\\_libs\\tslib.pyx\u001b[0m in \u001b[0;36mpandas._libs.tslib.array_to_datetime_object\u001b[1;34m()\u001b[0m\n",
      "\u001b[1;32mpandas\\_libs\\tslib.pyx\u001b[0m in \u001b[0;36mpandas._libs.tslib.array_to_datetime_object\u001b[1;34m()\u001b[0m\n",
      "\u001b[1;32mpandas\\_libs\\tslibs\\parsing.pyx\u001b[0m in \u001b[0;36mpandas._libs.tslibs.parsing.parse_datetime_string\u001b[1;34m()\u001b[0m\n",
      "\u001b[1;32m~\\AppData\\Roaming\\Python\\Python38\\site-packages\\dateutil\\parser\\_parser.py\u001b[0m in \u001b[0;36mparse\u001b[1;34m(timestr, parserinfo, **kwargs)\u001b[0m\n\u001b[0;32m   1372\u001b[0m         \u001b[1;32mreturn\u001b[0m \u001b[0mparser\u001b[0m\u001b[1;33m(\u001b[0m\u001b[0mparserinfo\u001b[0m\u001b[1;33m)\u001b[0m\u001b[1;33m.\u001b[0m\u001b[0mparse\u001b[0m\u001b[1;33m(\u001b[0m\u001b[0mtimestr\u001b[0m\u001b[1;33m,\u001b[0m \u001b[1;33m**\u001b[0m\u001b[0mkwargs\u001b[0m\u001b[1;33m)\u001b[0m\u001b[1;33m\u001b[0m\u001b[1;33m\u001b[0m\u001b[0m\n\u001b[0;32m   1373\u001b[0m     \u001b[1;32melse\u001b[0m\u001b[1;33m:\u001b[0m\u001b[1;33m\u001b[0m\u001b[1;33m\u001b[0m\u001b[0m\n\u001b[1;32m-> 1374\u001b[1;33m         \u001b[1;32mreturn\u001b[0m \u001b[0mDEFAULTPARSER\u001b[0m\u001b[1;33m.\u001b[0m\u001b[0mparse\u001b[0m\u001b[1;33m(\u001b[0m\u001b[0mtimestr\u001b[0m\u001b[1;33m,\u001b[0m \u001b[1;33m**\u001b[0m\u001b[0mkwargs\u001b[0m\u001b[1;33m)\u001b[0m\u001b[1;33m\u001b[0m\u001b[1;33m\u001b[0m\u001b[0m\n\u001b[0m\u001b[0;32m   1375\u001b[0m \u001b[1;33m\u001b[0m\u001b[0m\n\u001b[0;32m   1376\u001b[0m \u001b[1;33m\u001b[0m\u001b[0m\n",
      "\u001b[1;32m~\\AppData\\Roaming\\Python\\Python38\\site-packages\\dateutil\\parser\\_parser.py\u001b[0m in \u001b[0;36mparse\u001b[1;34m(self, timestr, default, ignoretz, tzinfos, **kwargs)\u001b[0m\n\u001b[0;32m    655\u001b[0m             \u001b[0mret\u001b[0m \u001b[1;33m=\u001b[0m \u001b[0mself\u001b[0m\u001b[1;33m.\u001b[0m\u001b[0m_build_naive\u001b[0m\u001b[1;33m(\u001b[0m\u001b[0mres\u001b[0m\u001b[1;33m,\u001b[0m \u001b[0mdefault\u001b[0m\u001b[1;33m)\u001b[0m\u001b[1;33m\u001b[0m\u001b[1;33m\u001b[0m\u001b[0m\n\u001b[0;32m    656\u001b[0m         \u001b[1;32mexcept\u001b[0m \u001b[0mValueError\u001b[0m \u001b[1;32mas\u001b[0m \u001b[0me\u001b[0m\u001b[1;33m:\u001b[0m\u001b[1;33m\u001b[0m\u001b[1;33m\u001b[0m\u001b[0m\n\u001b[1;32m--> 657\u001b[1;33m             \u001b[0msix\u001b[0m\u001b[1;33m.\u001b[0m\u001b[0mraise_from\u001b[0m\u001b[1;33m(\u001b[0m\u001b[0mParserError\u001b[0m\u001b[1;33m(\u001b[0m\u001b[0me\u001b[0m\u001b[1;33m.\u001b[0m\u001b[0margs\u001b[0m\u001b[1;33m[\u001b[0m\u001b[1;36m0\u001b[0m\u001b[1;33m]\u001b[0m \u001b[1;33m+\u001b[0m \u001b[1;34m\": %s\"\u001b[0m\u001b[1;33m,\u001b[0m \u001b[0mtimestr\u001b[0m\u001b[1;33m)\u001b[0m\u001b[1;33m,\u001b[0m \u001b[0me\u001b[0m\u001b[1;33m)\u001b[0m\u001b[1;33m\u001b[0m\u001b[1;33m\u001b[0m\u001b[0m\n\u001b[0m\u001b[0;32m    658\u001b[0m \u001b[1;33m\u001b[0m\u001b[0m\n\u001b[0;32m    659\u001b[0m         \u001b[1;32mif\u001b[0m \u001b[1;32mnot\u001b[0m \u001b[0mignoretz\u001b[0m\u001b[1;33m:\u001b[0m\u001b[1;33m\u001b[0m\u001b[1;33m\u001b[0m\u001b[0m\n",
      "\u001b[1;32mE:\\anaconda3\\lib\\site-packages\\six.py\u001b[0m in \u001b[0;36mraise_from\u001b[1;34m(value, from_value)\u001b[0m\n",
      "\u001b[1;31mParserError\u001b[0m: month must be in 1..12: 19861307"
     ]
    }
   ],
   "source": [
    "data2['STRTDATIT'] = pd.to_datetime(data2['STRTDATIT'])"
   ]
  },
  {
   "cell_type": "code",
   "execution_count": 24,
   "metadata": {},
   "outputs": [
    {
     "output_type": "execute_result",
     "data": {
      "text/plain": [
       "1"
      ]
     },
     "metadata": {},
     "execution_count": 24
    }
   ],
   "source": [
    "count = 0\n",
    "for i in data2['STRTDATIT']:\n",
    "    if i[4:6]>'12':\n",
    "        count = count+1\n",
    "count"
   ]
  },
  {
   "cell_type": "code",
   "execution_count": 25,
   "metadata": {},
   "outputs": [],
   "source": [
    "data2 = data2[~data2['STRTDATIT'].isin(['19861307'])]"
   ]
  },
  {
   "cell_type": "code",
   "execution_count": 26,
   "metadata": {},
   "outputs": [],
   "source": [
    "data2['STRTDATIT'] = pd.to_datetime(data2['STRTDATIT'])"
   ]
  },
  {
   "cell_type": "code",
   "execution_count": 27,
   "metadata": {},
   "outputs": [
    {
     "output_type": "execute_result",
     "data": {
      "text/plain": [
       "                           NAME  STRTDATIT     AREA_HA\n",
       "0                               1927-01-01    21097.05\n",
       "1                               1932-01-01    17576.89\n",
       "2                               1936-01-01      691.93\n",
       "3                               1938-01-01     1493.73\n",
       "4                               1939-01-01  3417937.46\n",
       "...                         ...        ...         ...\n",
       "2362      YIELIMA - HUGHES LANE 2014-01-05       36.67\n",
       "2363  Yandoit - McPhersons Lane 2012-12-31       54.39\n",
       "2364  Yanipy - Miram South Road 2015-10-25      114.28\n",
       "2365         Yarram - Napier Rd 2009-02-23     1400.84\n",
       "2366        Yellow Bog Rd (NSW) 2020-01-08      273.86\n",
       "\n",
       "[2366 rows x 3 columns]"
      ],
      "text/html": "<div>\n<style scoped>\n    .dataframe tbody tr th:only-of-type {\n        vertical-align: middle;\n    }\n\n    .dataframe tbody tr th {\n        vertical-align: top;\n    }\n\n    .dataframe thead th {\n        text-align: right;\n    }\n</style>\n<table border=\"1\" class=\"dataframe\">\n  <thead>\n    <tr style=\"text-align: right;\">\n      <th></th>\n      <th>NAME</th>\n      <th>STRTDATIT</th>\n      <th>AREA_HA</th>\n    </tr>\n  </thead>\n  <tbody>\n    <tr>\n      <th>0</th>\n      <td></td>\n      <td>1927-01-01</td>\n      <td>21097.05</td>\n    </tr>\n    <tr>\n      <th>1</th>\n      <td></td>\n      <td>1932-01-01</td>\n      <td>17576.89</td>\n    </tr>\n    <tr>\n      <th>2</th>\n      <td></td>\n      <td>1936-01-01</td>\n      <td>691.93</td>\n    </tr>\n    <tr>\n      <th>3</th>\n      <td></td>\n      <td>1938-01-01</td>\n      <td>1493.73</td>\n    </tr>\n    <tr>\n      <th>4</th>\n      <td></td>\n      <td>1939-01-01</td>\n      <td>3417937.46</td>\n    </tr>\n    <tr>\n      <th>...</th>\n      <td>...</td>\n      <td>...</td>\n      <td>...</td>\n    </tr>\n    <tr>\n      <th>2362</th>\n      <td>YIELIMA - HUGHES LANE</td>\n      <td>2014-01-05</td>\n      <td>36.67</td>\n    </tr>\n    <tr>\n      <th>2363</th>\n      <td>Yandoit - McPhersons Lane</td>\n      <td>2012-12-31</td>\n      <td>54.39</td>\n    </tr>\n    <tr>\n      <th>2364</th>\n      <td>Yanipy - Miram South Road</td>\n      <td>2015-10-25</td>\n      <td>114.28</td>\n    </tr>\n    <tr>\n      <th>2365</th>\n      <td>Yarram - Napier Rd</td>\n      <td>2009-02-23</td>\n      <td>1400.84</td>\n    </tr>\n    <tr>\n      <th>2366</th>\n      <td>Yellow Bog Rd (NSW)</td>\n      <td>2020-01-08</td>\n      <td>273.86</td>\n    </tr>\n  </tbody>\n</table>\n<p>2366 rows × 3 columns</p>\n</div>"
     },
     "metadata": {},
     "execution_count": 27
    }
   ],
   "source": [
    "data2"
   ]
  },
  {
   "cell_type": "code",
   "execution_count": 28,
   "metadata": {},
   "outputs": [],
   "source": [
    "outputfile1 = 'C:/Users/Lenovo/Desktop/firedata2.csv'\n",
    "data2.to_csv(outputfile1)"
   ]
  },
  {
   "cell_type": "code",
   "execution_count": 29,
   "metadata": {},
   "outputs": [
    {
     "output_type": "execute_result",
     "data": {
      "text/plain": [
       "count    2.366000e+03\n",
       "mean     6.455961e+03\n",
       "std      8.519726e+04\n",
       "min      0.000000e+00\n",
       "25%      1.862500e+00\n",
       "50%      1.112500e+01\n",
       "75%      1.076375e+02\n",
       "max      3.417937e+06\n",
       "Name: AREA_HA, dtype: float64"
      ]
     },
     "metadata": {},
     "execution_count": 29
    }
   ],
   "source": [
    "data2['AREA_HA'].describe()"
   ]
  },
  {
   "cell_type": "code",
   "execution_count": 30,
   "metadata": {},
   "outputs": [
    {
     "output_type": "execute_result",
     "data": {
      "text/plain": [
       "<matplotlib.axes._subplots.AxesSubplot at 0x281fa347250>"
      ]
     },
     "metadata": {},
     "execution_count": 30
    },
    {
     "output_type": "display_data",
     "data": {
      "text/plain": "<Figure size 1296x288 with 3 Axes>",
      "image/svg+xml": "<?xml version=\"1.0\" encoding=\"utf-8\" standalone=\"no\"?>\r\n<!DOCTYPE svg PUBLIC \"-//W3C//DTD SVG 1.1//EN\"\r\n  \"http://www.w3.org/Graphics/SVG/1.1/DTD/svg11.dtd\">\r\n<!-- Created with matplotlib (https://matplotlib.org/) -->\r\n<svg height=\"277.247813pt\" version=\"1.1\" viewBox=\"0 0 1053.428845 277.247813\" width=\"1053.428845pt\" xmlns=\"http://www.w3.org/2000/svg\" xmlns:xlink=\"http://www.w3.org/1999/xlink\">\r\n <defs>\r\n  <style type=\"text/css\">\r\n*{stroke-linecap:butt;stroke-linejoin:round;}\r\n  </style>\r\n </defs>\r\n <g id=\"figure_1\">\r\n  <g id=\"patch_1\">\r\n   <path d=\"M 0 277.247813 \r\nL 1053.428845 277.247813 \r\nL 1053.428845 0 \r\nL 0 0 \r\nz\r\n\" style=\"fill:#ffffff;\"/>\r\n  </g>\r\n  <g id=\"axes_1\">\r\n   <g id=\"patch_2\">\r\n    <path d=\"M 41.168125 235.513594 \r\nL 336.57989 235.513594 \r\nL 336.57989 18.073594 \r\nL 41.168125 18.073594 \r\nz\r\n\" style=\"fill:#eaeaf2;\"/>\r\n   </g>\r\n   <g id=\"matplotlib.axis_1\">\r\n    <g id=\"xtick_1\">\r\n     <g id=\"line2d_1\">\r\n      <path clip-path=\"url(#pc5a62e2e12)\" d=\"M 54.595932 235.513594 \r\nL 54.595932 18.073594 \r\n\" style=\"fill:none;stroke:#ffffff;stroke-linecap:round;\"/>\r\n     </g>\r\n     <g id=\"text_1\">\r\n      <!-- 0.0 -->\r\n      <defs>\r\n       <path d=\"M 4.15625 35.296875 \r\nQ 4.15625 48 6.765625 55.734375 \r\nQ 9.375 63.484375 14.515625 67.671875 \r\nQ 19.671875 71.875 27.484375 71.875 \r\nQ 33.25 71.875 37.59375 69.546875 \r\nQ 41.9375 67.234375 44.765625 62.859375 \r\nQ 47.609375 58.5 49.21875 52.21875 \r\nQ 50.828125 45.953125 50.828125 35.296875 \r\nQ 50.828125 22.703125 48.234375 14.96875 \r\nQ 45.65625 7.234375 40.5 3 \r\nQ 35.359375 -1.21875 27.484375 -1.21875 \r\nQ 17.140625 -1.21875 11.234375 6.203125 \r\nQ 4.15625 15.140625 4.15625 35.296875 \r\nz\r\nM 13.1875 35.296875 \r\nQ 13.1875 17.671875 17.3125 11.828125 \r\nQ 21.4375 6 27.484375 6 \r\nQ 33.546875 6 37.671875 11.859375 \r\nQ 41.796875 17.71875 41.796875 35.296875 \r\nQ 41.796875 52.984375 37.671875 58.78125 \r\nQ 33.546875 64.59375 27.390625 64.59375 \r\nQ 21.34375 64.59375 17.71875 59.46875 \r\nQ 13.1875 52.9375 13.1875 35.296875 \r\nz\r\n\" id=\"ArialMT-48\"/>\r\n       <path d=\"M 9.078125 0 \r\nL 9.078125 10.015625 \r\nL 19.09375 10.015625 \r\nL 19.09375 0 \r\nz\r\n\" id=\"ArialMT-46\"/>\r\n      </defs>\r\n      <g style=\"fill:#262626;\" transform=\"translate(46.950932 252.887188)scale(0.11 -0.11)\">\r\n       <use xlink:href=\"#ArialMT-48\"/>\r\n       <use x=\"55.615234\" xlink:href=\"#ArialMT-46\"/>\r\n       <use x=\"83.398438\" xlink:href=\"#ArialMT-48\"/>\r\n      </g>\r\n     </g>\r\n    </g>\r\n    <g id=\"xtick_2\">\r\n     <g id=\"line2d_2\">\r\n      <path clip-path=\"url(#pc5a62e2e12)\" d=\"M 93.88222 235.513594 \r\nL 93.88222 18.073594 \r\n\" style=\"fill:none;stroke:#ffffff;stroke-linecap:round;\"/>\r\n     </g>\r\n     <g id=\"text_2\">\r\n      <!-- 0.5 -->\r\n      <defs>\r\n       <path d=\"M 4.15625 18.75 \r\nL 13.375 19.53125 \r\nQ 14.40625 12.796875 18.140625 9.390625 \r\nQ 21.875 6 27.15625 6 \r\nQ 33.5 6 37.890625 10.78125 \r\nQ 42.28125 15.578125 42.28125 23.484375 \r\nQ 42.28125 31 38.0625 35.34375 \r\nQ 33.84375 39.703125 27 39.703125 \r\nQ 22.75 39.703125 19.328125 37.765625 \r\nQ 15.921875 35.84375 13.96875 32.765625 \r\nL 5.71875 33.84375 \r\nL 12.640625 70.609375 \r\nL 48.25 70.609375 \r\nL 48.25 62.203125 \r\nL 19.671875 62.203125 \r\nL 15.828125 42.96875 \r\nQ 22.265625 47.46875 29.34375 47.46875 \r\nQ 38.71875 47.46875 45.15625 40.96875 \r\nQ 51.609375 34.46875 51.609375 24.265625 \r\nQ 51.609375 14.546875 45.953125 7.46875 \r\nQ 39.0625 -1.21875 27.15625 -1.21875 \r\nQ 17.390625 -1.21875 11.203125 4.25 \r\nQ 5.03125 9.71875 4.15625 18.75 \r\nz\r\n\" id=\"ArialMT-53\"/>\r\n      </defs>\r\n      <g style=\"fill:#262626;\" transform=\"translate(86.23722 252.887188)scale(0.11 -0.11)\">\r\n       <use xlink:href=\"#ArialMT-48\"/>\r\n       <use x=\"55.615234\" xlink:href=\"#ArialMT-46\"/>\r\n       <use x=\"83.398438\" xlink:href=\"#ArialMT-53\"/>\r\n      </g>\r\n     </g>\r\n    </g>\r\n    <g id=\"xtick_3\">\r\n     <g id=\"line2d_3\">\r\n      <path clip-path=\"url(#pc5a62e2e12)\" d=\"M 133.168508 235.513594 \r\nL 133.168508 18.073594 \r\n\" style=\"fill:none;stroke:#ffffff;stroke-linecap:round;\"/>\r\n     </g>\r\n     <g id=\"text_3\">\r\n      <!-- 1.0 -->\r\n      <defs>\r\n       <path d=\"M 37.25 0 \r\nL 28.46875 0 \r\nL 28.46875 56 \r\nQ 25.296875 52.984375 20.140625 49.953125 \r\nQ 14.984375 46.921875 10.890625 45.40625 \r\nL 10.890625 53.90625 \r\nQ 18.265625 57.375 23.78125 62.296875 \r\nQ 29.296875 67.234375 31.59375 71.875 \r\nL 37.25 71.875 \r\nz\r\n\" id=\"ArialMT-49\"/>\r\n      </defs>\r\n      <g style=\"fill:#262626;\" transform=\"translate(125.523508 252.887188)scale(0.11 -0.11)\">\r\n       <use xlink:href=\"#ArialMT-49\"/>\r\n       <use x=\"55.615234\" xlink:href=\"#ArialMT-46\"/>\r\n       <use x=\"83.398438\" xlink:href=\"#ArialMT-48\"/>\r\n      </g>\r\n     </g>\r\n    </g>\r\n    <g id=\"xtick_4\">\r\n     <g id=\"line2d_4\">\r\n      <path clip-path=\"url(#pc5a62e2e12)\" d=\"M 172.454796 235.513594 \r\nL 172.454796 18.073594 \r\n\" style=\"fill:none;stroke:#ffffff;stroke-linecap:round;\"/>\r\n     </g>\r\n     <g id=\"text_4\">\r\n      <!-- 1.5 -->\r\n      <g style=\"fill:#262626;\" transform=\"translate(164.809796 252.887188)scale(0.11 -0.11)\">\r\n       <use xlink:href=\"#ArialMT-49\"/>\r\n       <use x=\"55.615234\" xlink:href=\"#ArialMT-46\"/>\r\n       <use x=\"83.398438\" xlink:href=\"#ArialMT-53\"/>\r\n      </g>\r\n     </g>\r\n    </g>\r\n    <g id=\"xtick_5\">\r\n     <g id=\"line2d_5\">\r\n      <path clip-path=\"url(#pc5a62e2e12)\" d=\"M 211.741084 235.513594 \r\nL 211.741084 18.073594 \r\n\" style=\"fill:none;stroke:#ffffff;stroke-linecap:round;\"/>\r\n     </g>\r\n     <g id=\"text_5\">\r\n      <!-- 2.0 -->\r\n      <defs>\r\n       <path d=\"M 50.34375 8.453125 \r\nL 50.34375 0 \r\nL 3.03125 0 \r\nQ 2.9375 3.171875 4.046875 6.109375 \r\nQ 5.859375 10.9375 9.828125 15.625 \r\nQ 13.8125 20.3125 21.34375 26.46875 \r\nQ 33.015625 36.03125 37.109375 41.625 \r\nQ 41.21875 47.21875 41.21875 52.203125 \r\nQ 41.21875 57.421875 37.46875 61 \r\nQ 33.734375 64.59375 27.734375 64.59375 \r\nQ 21.390625 64.59375 17.578125 60.78125 \r\nQ 13.765625 56.984375 13.71875 50.25 \r\nL 4.6875 51.171875 \r\nQ 5.609375 61.28125 11.65625 66.578125 \r\nQ 17.71875 71.875 27.9375 71.875 \r\nQ 38.234375 71.875 44.234375 66.15625 \r\nQ 50.25 60.453125 50.25 52 \r\nQ 50.25 47.703125 48.484375 43.546875 \r\nQ 46.734375 39.40625 42.65625 34.8125 \r\nQ 38.578125 30.21875 29.109375 22.21875 \r\nQ 21.1875 15.578125 18.9375 13.203125 \r\nQ 16.703125 10.84375 15.234375 8.453125 \r\nz\r\n\" id=\"ArialMT-50\"/>\r\n      </defs>\r\n      <g style=\"fill:#262626;\" transform=\"translate(204.096084 252.887188)scale(0.11 -0.11)\">\r\n       <use xlink:href=\"#ArialMT-50\"/>\r\n       <use x=\"55.615234\" xlink:href=\"#ArialMT-46\"/>\r\n       <use x=\"83.398438\" xlink:href=\"#ArialMT-48\"/>\r\n      </g>\r\n     </g>\r\n    </g>\r\n    <g id=\"xtick_6\">\r\n     <g id=\"line2d_6\">\r\n      <path clip-path=\"url(#pc5a62e2e12)\" d=\"M 251.027372 235.513594 \r\nL 251.027372 18.073594 \r\n\" style=\"fill:none;stroke:#ffffff;stroke-linecap:round;\"/>\r\n     </g>\r\n     <g id=\"text_6\">\r\n      <!-- 2.5 -->\r\n      <g style=\"fill:#262626;\" transform=\"translate(243.382372 252.887188)scale(0.11 -0.11)\">\r\n       <use xlink:href=\"#ArialMT-50\"/>\r\n       <use x=\"55.615234\" xlink:href=\"#ArialMT-46\"/>\r\n       <use x=\"83.398438\" xlink:href=\"#ArialMT-53\"/>\r\n      </g>\r\n     </g>\r\n    </g>\r\n    <g id=\"xtick_7\">\r\n     <g id=\"line2d_7\">\r\n      <path clip-path=\"url(#pc5a62e2e12)\" d=\"M 290.31366 235.513594 \r\nL 290.31366 18.073594 \r\n\" style=\"fill:none;stroke:#ffffff;stroke-linecap:round;\"/>\r\n     </g>\r\n     <g id=\"text_7\">\r\n      <!-- 3.0 -->\r\n      <defs>\r\n       <path d=\"M 4.203125 18.890625 \r\nL 12.984375 20.0625 \r\nQ 14.5 12.59375 18.140625 9.296875 \r\nQ 21.78125 6 27 6 \r\nQ 33.203125 6 37.46875 10.296875 \r\nQ 41.75 14.59375 41.75 20.953125 \r\nQ 41.75 27 37.796875 30.921875 \r\nQ 33.84375 34.859375 27.734375 34.859375 \r\nQ 25.25 34.859375 21.53125 33.890625 \r\nL 22.515625 41.609375 \r\nQ 23.390625 41.5 23.921875 41.5 \r\nQ 29.546875 41.5 34.03125 44.421875 \r\nQ 38.53125 47.359375 38.53125 53.46875 \r\nQ 38.53125 58.296875 35.25 61.46875 \r\nQ 31.984375 64.65625 26.8125 64.65625 \r\nQ 21.6875 64.65625 18.265625 61.421875 \r\nQ 14.84375 58.203125 13.875 51.765625 \r\nL 5.078125 53.328125 \r\nQ 6.6875 62.15625 12.390625 67.015625 \r\nQ 18.109375 71.875 26.609375 71.875 \r\nQ 32.46875 71.875 37.390625 69.359375 \r\nQ 42.328125 66.84375 44.9375 62.5 \r\nQ 47.5625 58.15625 47.5625 53.265625 \r\nQ 47.5625 48.640625 45.0625 44.828125 \r\nQ 42.578125 41.015625 37.703125 38.765625 \r\nQ 44.046875 37.3125 47.5625 32.6875 \r\nQ 51.078125 28.078125 51.078125 21.140625 \r\nQ 51.078125 11.765625 44.234375 5.25 \r\nQ 37.40625 -1.265625 26.953125 -1.265625 \r\nQ 17.53125 -1.265625 11.296875 4.34375 \r\nQ 5.078125 9.96875 4.203125 18.890625 \r\nz\r\n\" id=\"ArialMT-51\"/>\r\n      </defs>\r\n      <g style=\"fill:#262626;\" transform=\"translate(282.66866 252.887188)scale(0.11 -0.11)\">\r\n       <use xlink:href=\"#ArialMT-51\"/>\r\n       <use x=\"55.615234\" xlink:href=\"#ArialMT-46\"/>\r\n       <use x=\"83.398438\" xlink:href=\"#ArialMT-48\"/>\r\n      </g>\r\n     </g>\r\n    </g>\r\n    <g id=\"xtick_8\">\r\n     <g id=\"line2d_8\">\r\n      <path clip-path=\"url(#pc5a62e2e12)\" d=\"M 329.599947 235.513594 \r\nL 329.599947 18.073594 \r\n\" style=\"fill:none;stroke:#ffffff;stroke-linecap:round;\"/>\r\n     </g>\r\n     <g id=\"text_8\">\r\n      <!-- 3.5 -->\r\n      <g style=\"fill:#262626;\" transform=\"translate(321.954947 252.887188)scale(0.11 -0.11)\">\r\n       <use xlink:href=\"#ArialMT-51\"/>\r\n       <use x=\"55.615234\" xlink:href=\"#ArialMT-46\"/>\r\n       <use x=\"83.398438\" xlink:href=\"#ArialMT-53\"/>\r\n      </g>\r\n     </g>\r\n    </g>\r\n    <g id=\"text_9\">\r\n     <!-- 1e6 -->\r\n     <defs>\r\n      <path d=\"M 42.09375 16.703125 \r\nL 51.171875 15.578125 \r\nQ 49.03125 7.625 43.21875 3.21875 \r\nQ 37.40625 -1.171875 28.375 -1.171875 \r\nQ 17 -1.171875 10.328125 5.828125 \r\nQ 3.65625 12.84375 3.65625 25.484375 \r\nQ 3.65625 38.578125 10.390625 45.796875 \r\nQ 17.140625 53.03125 27.875 53.03125 \r\nQ 38.28125 53.03125 44.875 45.953125 \r\nQ 51.46875 38.875 51.46875 26.03125 \r\nQ 51.46875 25.25 51.421875 23.6875 \r\nL 12.75 23.6875 \r\nQ 13.234375 15.140625 17.578125 10.59375 \r\nQ 21.921875 6.0625 28.421875 6.0625 \r\nQ 33.25 6.0625 36.671875 8.59375 \r\nQ 40.09375 11.140625 42.09375 16.703125 \r\nz\r\nM 13.234375 30.90625 \r\nL 42.1875 30.90625 \r\nQ 41.609375 37.453125 38.875 40.71875 \r\nQ 34.671875 45.796875 27.984375 45.796875 \r\nQ 21.921875 45.796875 17.796875 41.75 \r\nQ 13.671875 37.703125 13.234375 30.90625 \r\nz\r\n\" id=\"ArialMT-101\"/>\r\n      <path d=\"M 49.75 54.046875 \r\nL 41.015625 53.375 \r\nQ 39.84375 58.546875 37.703125 60.890625 \r\nQ 34.125 64.65625 28.90625 64.65625 \r\nQ 24.703125 64.65625 21.53125 62.3125 \r\nQ 17.390625 59.28125 14.984375 53.46875 \r\nQ 12.59375 47.65625 12.5 36.921875 \r\nQ 15.671875 41.75 20.265625 44.09375 \r\nQ 24.859375 46.4375 29.890625 46.4375 \r\nQ 38.671875 46.4375 44.84375 39.96875 \r\nQ 51.03125 33.5 51.03125 23.25 \r\nQ 51.03125 16.5 48.125 10.71875 \r\nQ 45.21875 4.9375 40.140625 1.859375 \r\nQ 35.0625 -1.21875 28.609375 -1.21875 \r\nQ 17.625 -1.21875 10.6875 6.859375 \r\nQ 3.765625 14.9375 3.765625 33.5 \r\nQ 3.765625 54.25 11.421875 63.671875 \r\nQ 18.109375 71.875 29.4375 71.875 \r\nQ 37.890625 71.875 43.28125 67.140625 \r\nQ 48.6875 62.40625 49.75 54.046875 \r\nz\r\nM 13.875 23.1875 \r\nQ 13.875 18.65625 15.796875 14.5 \r\nQ 17.71875 10.359375 21.1875 8.171875 \r\nQ 24.65625 6 28.46875 6 \r\nQ 34.03125 6 38.03125 10.484375 \r\nQ 42.046875 14.984375 42.046875 22.703125 \r\nQ 42.046875 30.125 38.078125 34.390625 \r\nQ 34.125 38.671875 28.125 38.671875 \r\nQ 22.171875 38.671875 18.015625 34.390625 \r\nQ 13.875 30.125 13.875 23.1875 \r\nz\r\n\" id=\"ArialMT-54\"/>\r\n     </defs>\r\n     <g style=\"fill:#262626;\" transform=\"translate(318.228796 265.947031)scale(0.11 -0.11)\">\r\n      <use xlink:href=\"#ArialMT-49\"/>\r\n      <use x=\"55.615234\" xlink:href=\"#ArialMT-101\"/>\r\n      <use x=\"111.230469\" xlink:href=\"#ArialMT-54\"/>\r\n     </g>\r\n    </g>\r\n   </g>\r\n   <g id=\"matplotlib.axis_2\">\r\n    <g id=\"ytick_1\">\r\n     <g id=\"line2d_9\">\r\n      <path clip-path=\"url(#pc5a62e2e12)\" d=\"M 41.168125 235.513594 \r\nL 336.57989 235.513594 \r\n\" style=\"fill:none;stroke:#ffffff;stroke-linecap:round;\"/>\r\n     </g>\r\n     <g id=\"text_10\">\r\n      <!-- 0 -->\r\n      <g style=\"fill:#262626;\" transform=\"translate(25.551094 239.450391)scale(0.11 -0.11)\">\r\n       <use xlink:href=\"#ArialMT-48\"/>\r\n      </g>\r\n     </g>\r\n    </g>\r\n    <g id=\"ytick_2\">\r\n     <g id=\"line2d_10\">\r\n      <path clip-path=\"url(#pc5a62e2e12)\" d=\"M 41.168125 191.602289 \r\nL 336.57989 191.602289 \r\n\" style=\"fill:none;stroke:#ffffff;stroke-linecap:round;\"/>\r\n     </g>\r\n     <g id=\"text_11\">\r\n      <!-- 500 -->\r\n      <g style=\"fill:#262626;\" transform=\"translate(13.317031 195.539086)scale(0.11 -0.11)\">\r\n       <use xlink:href=\"#ArialMT-53\"/>\r\n       <use x=\"55.615234\" xlink:href=\"#ArialMT-48\"/>\r\n       <use x=\"111.230469\" xlink:href=\"#ArialMT-48\"/>\r\n      </g>\r\n     </g>\r\n    </g>\r\n    <g id=\"ytick_3\">\r\n     <g id=\"line2d_11\">\r\n      <path clip-path=\"url(#pc5a62e2e12)\" d=\"M 41.168125 147.690984 \r\nL 336.57989 147.690984 \r\n\" style=\"fill:none;stroke:#ffffff;stroke-linecap:round;\"/>\r\n     </g>\r\n     <g id=\"text_12\">\r\n      <!-- 1000 -->\r\n      <g style=\"fill:#262626;\" transform=\"translate(7.2 151.627781)scale(0.11 -0.11)\">\r\n       <use xlink:href=\"#ArialMT-49\"/>\r\n       <use x=\"55.615234\" xlink:href=\"#ArialMT-48\"/>\r\n       <use x=\"111.230469\" xlink:href=\"#ArialMT-48\"/>\r\n       <use x=\"166.845703\" xlink:href=\"#ArialMT-48\"/>\r\n      </g>\r\n     </g>\r\n    </g>\r\n    <g id=\"ytick_4\">\r\n     <g id=\"line2d_12\">\r\n      <path clip-path=\"url(#pc5a62e2e12)\" d=\"M 41.168125 103.779679 \r\nL 336.57989 103.779679 \r\n\" style=\"fill:none;stroke:#ffffff;stroke-linecap:round;\"/>\r\n     </g>\r\n     <g id=\"text_13\">\r\n      <!-- 1500 -->\r\n      <g style=\"fill:#262626;\" transform=\"translate(7.2 107.716476)scale(0.11 -0.11)\">\r\n       <use xlink:href=\"#ArialMT-49\"/>\r\n       <use x=\"55.615234\" xlink:href=\"#ArialMT-53\"/>\r\n       <use x=\"111.230469\" xlink:href=\"#ArialMT-48\"/>\r\n       <use x=\"166.845703\" xlink:href=\"#ArialMT-48\"/>\r\n      </g>\r\n     </g>\r\n    </g>\r\n    <g id=\"ytick_5\">\r\n     <g id=\"line2d_13\">\r\n      <path clip-path=\"url(#pc5a62e2e12)\" d=\"M 41.168125 59.868374 \r\nL 336.57989 59.868374 \r\n\" style=\"fill:none;stroke:#ffffff;stroke-linecap:round;\"/>\r\n     </g>\r\n     <g id=\"text_14\">\r\n      <!-- 2000 -->\r\n      <g style=\"fill:#262626;\" transform=\"translate(7.2 63.805171)scale(0.11 -0.11)\">\r\n       <use xlink:href=\"#ArialMT-50\"/>\r\n       <use x=\"55.615234\" xlink:href=\"#ArialMT-48\"/>\r\n       <use x=\"111.230469\" xlink:href=\"#ArialMT-48\"/>\r\n       <use x=\"166.845703\" xlink:href=\"#ArialMT-48\"/>\r\n      </g>\r\n     </g>\r\n    </g>\r\n   </g>\r\n   <g id=\"patch_3\">\r\n    <path clip-path=\"url(#pc5a62e2e12)\" d=\"M 54.595932 235.513594 \r\nL 81.451547 235.513594 \r\nL 81.451547 28.427879 \r\nL 54.595932 28.427879 \r\nz\r\n\" style=\"fill:#4c72b0;stroke:#ffffff;stroke-linejoin:miter;\"/>\r\n   </g>\r\n   <g id=\"patch_4\">\r\n    <path clip-path=\"url(#pc5a62e2e12)\" d=\"M 81.451547 235.513594 \r\nL 108.307162 235.513594 \r\nL 108.307162 235.162303 \r\nL 81.451547 235.162303 \r\nz\r\n\" style=\"fill:#4c72b0;stroke:#ffffff;stroke-linejoin:miter;\"/>\r\n   </g>\r\n   <g id=\"patch_5\">\r\n    <path clip-path=\"url(#pc5a62e2e12)\" d=\"M 108.307162 235.513594 \r\nL 135.162777 235.513594 \r\nL 135.162777 235.425771 \r\nL 108.307162 235.425771 \r\nz\r\n\" style=\"fill:#4c72b0;stroke:#ffffff;stroke-linejoin:miter;\"/>\r\n   </g>\r\n   <g id=\"patch_6\">\r\n    <path clip-path=\"url(#pc5a62e2e12)\" d=\"M 135.162777 235.513594 \r\nL 162.018392 235.513594 \r\nL 162.018392 235.425771 \r\nL 135.162777 235.425771 \r\nz\r\n\" style=\"fill:#4c72b0;stroke:#ffffff;stroke-linejoin:miter;\"/>\r\n   </g>\r\n   <g id=\"patch_7\">\r\n    <path clip-path=\"url(#pc5a62e2e12)\" d=\"M 162.018392 235.513594 \r\nL 188.874007 235.513594 \r\nL 188.874007 235.425771 \r\nL 162.018392 235.425771 \r\nz\r\n\" style=\"fill:#4c72b0;stroke:#ffffff;stroke-linejoin:miter;\"/>\r\n   </g>\r\n   <g id=\"patch_8\">\r\n    <path clip-path=\"url(#pc5a62e2e12)\" d=\"M 188.874007 235.513594 \r\nL 215.729622 235.513594 \r\nL 215.729622 235.513594 \r\nL 188.874007 235.513594 \r\nz\r\n\" style=\"fill:#4c72b0;stroke:#ffffff;stroke-linejoin:miter;\"/>\r\n   </g>\r\n   <g id=\"patch_9\">\r\n    <path clip-path=\"url(#pc5a62e2e12)\" d=\"M 215.729622 235.513594 \r\nL 242.585237 235.513594 \r\nL 242.585237 235.513594 \r\nL 215.729622 235.513594 \r\nz\r\n\" style=\"fill:#4c72b0;stroke:#ffffff;stroke-linejoin:miter;\"/>\r\n   </g>\r\n   <g id=\"patch_10\">\r\n    <path clip-path=\"url(#pc5a62e2e12)\" d=\"M 242.585237 235.513594 \r\nL 269.440852 235.513594 \r\nL 269.440852 235.513594 \r\nL 242.585237 235.513594 \r\nz\r\n\" style=\"fill:#4c72b0;stroke:#ffffff;stroke-linejoin:miter;\"/>\r\n   </g>\r\n   <g id=\"patch_11\">\r\n    <path clip-path=\"url(#pc5a62e2e12)\" d=\"M 269.440852 235.513594 \r\nL 296.296467 235.513594 \r\nL 296.296467 235.513594 \r\nL 269.440852 235.513594 \r\nz\r\n\" style=\"fill:#4c72b0;stroke:#ffffff;stroke-linejoin:miter;\"/>\r\n   </g>\r\n   <g id=\"patch_12\">\r\n    <path clip-path=\"url(#pc5a62e2e12)\" d=\"M 296.296467 235.513594 \r\nL 323.152082 235.513594 \r\nL 323.152082 235.425771 \r\nL 296.296467 235.425771 \r\nz\r\n\" style=\"fill:#4c72b0;stroke:#ffffff;stroke-linejoin:miter;\"/>\r\n   </g>\r\n   <g id=\"patch_13\">\r\n    <path d=\"M 41.168125 235.513594 \r\nL 41.168125 18.073594 \r\n\" style=\"fill:none;stroke:#ffffff;stroke-linecap:square;stroke-linejoin:miter;stroke-width:1.25;\"/>\r\n   </g>\r\n   <g id=\"patch_14\">\r\n    <path d=\"M 336.57989 235.513594 \r\nL 336.57989 18.073594 \r\n\" style=\"fill:none;stroke:#ffffff;stroke-linecap:square;stroke-linejoin:miter;stroke-width:1.25;\"/>\r\n   </g>\r\n   <g id=\"patch_15\">\r\n    <path d=\"M 41.168125 235.513594 \r\nL 336.57989 235.513594 \r\n\" style=\"fill:none;stroke:#ffffff;stroke-linecap:square;stroke-linejoin:miter;stroke-width:1.25;\"/>\r\n   </g>\r\n   <g id=\"patch_16\">\r\n    <path d=\"M 41.168125 18.073594 \r\nL 336.57989 18.073594 \r\n\" style=\"fill:none;stroke:#ffffff;stroke-linecap:square;stroke-linejoin:miter;stroke-width:1.25;\"/>\r\n   </g>\r\n  </g>\r\n  <g id=\"axes_2\">\r\n   <g id=\"patch_17\">\r\n    <path d=\"M 395.662243 235.513594 \r\nL 691.074007 235.513594 \r\nL 691.074007 18.073594 \r\nL 395.662243 18.073594 \r\nz\r\n\" style=\"fill:#eaeaf2;\"/>\r\n   </g>\r\n   <g id=\"matplotlib.axis_3\">\r\n    <g id=\"xtick_9\">\r\n     <g id=\"line2d_14\">\r\n      <path clip-path=\"url(#pa4d6a0d0ee)\" d=\"M 397.656512 235.513594 \r\nL 397.656512 18.073594 \r\n\" style=\"fill:none;stroke:#ffffff;stroke-linecap:round;\"/>\r\n     </g>\r\n     <g id=\"text_15\">\r\n      <!-- −2 -->\r\n      <defs>\r\n       <path d=\"M 52.828125 31.203125 \r\nL 5.5625 31.203125 \r\nL 5.5625 39.40625 \r\nL 52.828125 39.40625 \r\nz\r\n\" id=\"ArialMT-8722\"/>\r\n      </defs>\r\n      <g style=\"fill:#262626;\" transform=\"translate(391.385653 252.887188)scale(0.11 -0.11)\">\r\n       <use xlink:href=\"#ArialMT-8722\"/>\r\n       <use x=\"58.398438\" xlink:href=\"#ArialMT-50\"/>\r\n      </g>\r\n     </g>\r\n    </g>\r\n    <g id=\"xtick_10\">\r\n     <g id=\"line2d_15\">\r\n      <path clip-path=\"url(#pa4d6a0d0ee)\" d=\"M 436.9428 235.513594 \r\nL 436.9428 18.073594 \r\n\" style=\"fill:none;stroke:#ffffff;stroke-linecap:round;\"/>\r\n     </g>\r\n     <g id=\"text_16\">\r\n      <!-- −1 -->\r\n      <g style=\"fill:#262626;\" transform=\"translate(430.67194 252.887188)scale(0.11 -0.11)\">\r\n       <use xlink:href=\"#ArialMT-8722\"/>\r\n       <use x=\"58.398438\" xlink:href=\"#ArialMT-49\"/>\r\n      </g>\r\n     </g>\r\n    </g>\r\n    <g id=\"xtick_11\">\r\n     <g id=\"line2d_16\">\r\n      <path clip-path=\"url(#pa4d6a0d0ee)\" d=\"M 476.229088 235.513594 \r\nL 476.229088 18.073594 \r\n\" style=\"fill:none;stroke:#ffffff;stroke-linecap:round;\"/>\r\n     </g>\r\n     <g id=\"text_17\">\r\n      <!-- 0 -->\r\n      <g style=\"fill:#262626;\" transform=\"translate(473.170572 252.887188)scale(0.11 -0.11)\">\r\n       <use xlink:href=\"#ArialMT-48\"/>\r\n      </g>\r\n     </g>\r\n    </g>\r\n    <g id=\"xtick_12\">\r\n     <g id=\"line2d_17\">\r\n      <path clip-path=\"url(#pa4d6a0d0ee)\" d=\"M 515.515375 235.513594 \r\nL 515.515375 18.073594 \r\n\" style=\"fill:none;stroke:#ffffff;stroke-linecap:round;\"/>\r\n     </g>\r\n     <g id=\"text_18\">\r\n      <!-- 1 -->\r\n      <g style=\"fill:#262626;\" transform=\"translate(512.45686 252.887188)scale(0.11 -0.11)\">\r\n       <use xlink:href=\"#ArialMT-49\"/>\r\n      </g>\r\n     </g>\r\n    </g>\r\n    <g id=\"xtick_13\">\r\n     <g id=\"line2d_18\">\r\n      <path clip-path=\"url(#pa4d6a0d0ee)\" d=\"M 554.801663 235.513594 \r\nL 554.801663 18.073594 \r\n\" style=\"fill:none;stroke:#ffffff;stroke-linecap:round;\"/>\r\n     </g>\r\n     <g id=\"text_19\">\r\n      <!-- 2 -->\r\n      <g style=\"fill:#262626;\" transform=\"translate(551.743148 252.887188)scale(0.11 -0.11)\">\r\n       <use xlink:href=\"#ArialMT-50\"/>\r\n      </g>\r\n     </g>\r\n    </g>\r\n    <g id=\"xtick_14\">\r\n     <g id=\"line2d_19\">\r\n      <path clip-path=\"url(#pa4d6a0d0ee)\" d=\"M 594.087951 235.513594 \r\nL 594.087951 18.073594 \r\n\" style=\"fill:none;stroke:#ffffff;stroke-linecap:round;\"/>\r\n     </g>\r\n     <g id=\"text_20\">\r\n      <!-- 3 -->\r\n      <g style=\"fill:#262626;\" transform=\"translate(591.029435 252.887188)scale(0.11 -0.11)\">\r\n       <use xlink:href=\"#ArialMT-51\"/>\r\n      </g>\r\n     </g>\r\n    </g>\r\n    <g id=\"xtick_15\">\r\n     <g id=\"line2d_20\">\r\n      <path clip-path=\"url(#pa4d6a0d0ee)\" d=\"M 633.374239 235.513594 \r\nL 633.374239 18.073594 \r\n\" style=\"fill:none;stroke:#ffffff;stroke-linecap:round;\"/>\r\n     </g>\r\n     <g id=\"text_21\">\r\n      <!-- 4 -->\r\n      <defs>\r\n       <path d=\"M 32.328125 0 \r\nL 32.328125 17.140625 \r\nL 1.265625 17.140625 \r\nL 1.265625 25.203125 \r\nL 33.9375 71.578125 \r\nL 41.109375 71.578125 \r\nL 41.109375 25.203125 \r\nL 50.78125 25.203125 \r\nL 50.78125 17.140625 \r\nL 41.109375 17.140625 \r\nL 41.109375 0 \r\nz\r\nM 32.328125 25.203125 \r\nL 32.328125 57.46875 \r\nL 9.90625 25.203125 \r\nz\r\n\" id=\"ArialMT-52\"/>\r\n      </defs>\r\n      <g style=\"fill:#262626;\" transform=\"translate(630.315723 252.887188)scale(0.11 -0.11)\">\r\n       <use xlink:href=\"#ArialMT-52\"/>\r\n      </g>\r\n     </g>\r\n    </g>\r\n    <g id=\"xtick_16\">\r\n     <g id=\"line2d_21\">\r\n      <path clip-path=\"url(#pa4d6a0d0ee)\" d=\"M 672.660527 235.513594 \r\nL 672.660527 18.073594 \r\n\" style=\"fill:none;stroke:#ffffff;stroke-linecap:round;\"/>\r\n     </g>\r\n     <g id=\"text_22\">\r\n      <!-- 5 -->\r\n      <g style=\"fill:#262626;\" transform=\"translate(669.602011 252.887188)scale(0.11 -0.11)\">\r\n       <use xlink:href=\"#ArialMT-53\"/>\r\n      </g>\r\n     </g>\r\n    </g>\r\n    <g id=\"text_23\">\r\n     <!-- 1e6 -->\r\n     <g style=\"fill:#262626;\" transform=\"translate(672.722914 265.947031)scale(0.11 -0.11)\">\r\n      <use xlink:href=\"#ArialMT-49\"/>\r\n      <use x=\"55.615234\" xlink:href=\"#ArialMT-101\"/>\r\n      <use x=\"111.230469\" xlink:href=\"#ArialMT-54\"/>\r\n     </g>\r\n    </g>\r\n   </g>\r\n   <g id=\"matplotlib.axis_4\">\r\n    <g id=\"ytick_6\">\r\n     <g id=\"line2d_22\">\r\n      <path clip-path=\"url(#pa4d6a0d0ee)\" d=\"M 395.662243 225.629957 \r\nL 691.074007 225.629957 \r\n\" style=\"fill:none;stroke:#ffffff;stroke-linecap:round;\"/>\r\n     </g>\r\n     <g id=\"text_24\">\r\n      <!-- 0.0 -->\r\n      <g style=\"fill:#262626;\" transform=\"translate(370.872243 229.566754)scale(0.11 -0.11)\">\r\n       <use xlink:href=\"#ArialMT-48\"/>\r\n       <use x=\"55.615234\" xlink:href=\"#ArialMT-46\"/>\r\n       <use x=\"83.398438\" xlink:href=\"#ArialMT-48\"/>\r\n      </g>\r\n     </g>\r\n    </g>\r\n    <g id=\"ytick_7\">\r\n     <g id=\"line2d_23\">\r\n      <path clip-path=\"url(#pa4d6a0d0ee)\" d=\"M 395.662243 179.378687 \r\nL 691.074007 179.378687 \r\n\" style=\"fill:none;stroke:#ffffff;stroke-linecap:round;\"/>\r\n     </g>\r\n     <g id=\"text_25\">\r\n      <!-- 0.5 -->\r\n      <g style=\"fill:#262626;\" transform=\"translate(370.872243 183.315483)scale(0.11 -0.11)\">\r\n       <use xlink:href=\"#ArialMT-48\"/>\r\n       <use x=\"55.615234\" xlink:href=\"#ArialMT-46\"/>\r\n       <use x=\"83.398438\" xlink:href=\"#ArialMT-53\"/>\r\n      </g>\r\n     </g>\r\n    </g>\r\n    <g id=\"ytick_8\">\r\n     <g id=\"line2d_24\">\r\n      <path clip-path=\"url(#pa4d6a0d0ee)\" d=\"M 395.662243 133.127416 \r\nL 691.074007 133.127416 \r\n\" style=\"fill:none;stroke:#ffffff;stroke-linecap:round;\"/>\r\n     </g>\r\n     <g id=\"text_26\">\r\n      <!-- 1.0 -->\r\n      <g style=\"fill:#262626;\" transform=\"translate(370.872243 137.064213)scale(0.11 -0.11)\">\r\n       <use xlink:href=\"#ArialMT-49\"/>\r\n       <use x=\"55.615234\" xlink:href=\"#ArialMT-46\"/>\r\n       <use x=\"83.398438\" xlink:href=\"#ArialMT-48\"/>\r\n      </g>\r\n     </g>\r\n    </g>\r\n    <g id=\"ytick_9\">\r\n     <g id=\"line2d_25\">\r\n      <path clip-path=\"url(#pa4d6a0d0ee)\" d=\"M 395.662243 86.876145 \r\nL 691.074007 86.876145 \r\n\" style=\"fill:none;stroke:#ffffff;stroke-linecap:round;\"/>\r\n     </g>\r\n     <g id=\"text_27\">\r\n      <!-- 1.5 -->\r\n      <g style=\"fill:#262626;\" transform=\"translate(370.872243 90.812942)scale(0.11 -0.11)\">\r\n       <use xlink:href=\"#ArialMT-49\"/>\r\n       <use x=\"55.615234\" xlink:href=\"#ArialMT-46\"/>\r\n       <use x=\"83.398438\" xlink:href=\"#ArialMT-53\"/>\r\n      </g>\r\n     </g>\r\n    </g>\r\n    <g id=\"ytick_10\">\r\n     <g id=\"line2d_26\">\r\n      <path clip-path=\"url(#pa4d6a0d0ee)\" d=\"M 395.662243 40.624874 \r\nL 691.074007 40.624874 \r\n\" style=\"fill:none;stroke:#ffffff;stroke-linecap:round;\"/>\r\n     </g>\r\n     <g id=\"text_28\">\r\n      <!-- 2.0 -->\r\n      <g style=\"fill:#262626;\" transform=\"translate(370.872243 44.561671)scale(0.11 -0.11)\">\r\n       <use xlink:href=\"#ArialMT-50\"/>\r\n       <use x=\"55.615234\" xlink:href=\"#ArialMT-46\"/>\r\n       <use x=\"83.398438\" xlink:href=\"#ArialMT-48\"/>\r\n      </g>\r\n     </g>\r\n    </g>\r\n    <g id=\"text_29\">\r\n     <!-- Density -->\r\n     <defs>\r\n      <path d=\"M 7.71875 0 \r\nL 7.71875 71.578125 \r\nL 32.375 71.578125 \r\nQ 40.71875 71.578125 45.125 70.5625 \r\nQ 51.265625 69.140625 55.609375 65.4375 \r\nQ 61.28125 60.640625 64.078125 53.1875 \r\nQ 66.890625 45.75 66.890625 36.1875 \r\nQ 66.890625 28.03125 64.984375 21.734375 \r\nQ 63.09375 15.4375 60.109375 11.296875 \r\nQ 57.125 7.171875 53.578125 4.796875 \r\nQ 50.046875 2.4375 45.046875 1.21875 \r\nQ 40.046875 0 33.546875 0 \r\nz\r\nM 17.1875 8.453125 \r\nL 32.46875 8.453125 \r\nQ 39.546875 8.453125 43.578125 9.765625 \r\nQ 47.609375 11.078125 50 13.484375 \r\nQ 53.375 16.84375 55.25 22.53125 \r\nQ 57.125 28.21875 57.125 36.328125 \r\nQ 57.125 47.5625 53.4375 53.59375 \r\nQ 49.75 59.625 44.484375 61.671875 \r\nQ 40.671875 63.140625 32.234375 63.140625 \r\nL 17.1875 63.140625 \r\nz\r\n\" id=\"ArialMT-68\"/>\r\n      <path d=\"M 6.59375 0 \r\nL 6.59375 51.859375 \r\nL 14.5 51.859375 \r\nL 14.5 44.484375 \r\nQ 20.21875 53.03125 31 53.03125 \r\nQ 35.6875 53.03125 39.625 51.34375 \r\nQ 43.5625 49.65625 45.515625 46.921875 \r\nQ 47.46875 44.1875 48.25 40.4375 \r\nQ 48.734375 37.984375 48.734375 31.890625 \r\nL 48.734375 0 \r\nL 39.9375 0 \r\nL 39.9375 31.546875 \r\nQ 39.9375 36.921875 38.90625 39.578125 \r\nQ 37.890625 42.234375 35.28125 43.8125 \r\nQ 32.671875 45.40625 29.15625 45.40625 \r\nQ 23.53125 45.40625 19.453125 41.84375 \r\nQ 15.375 38.28125 15.375 28.328125 \r\nL 15.375 0 \r\nz\r\n\" id=\"ArialMT-110\"/>\r\n      <path d=\"M 3.078125 15.484375 \r\nL 11.765625 16.84375 \r\nQ 12.5 11.625 15.84375 8.84375 \r\nQ 19.1875 6.0625 25.203125 6.0625 \r\nQ 31.25 6.0625 34.171875 8.515625 \r\nQ 37.109375 10.984375 37.109375 14.3125 \r\nQ 37.109375 17.28125 34.515625 19 \r\nQ 32.71875 20.171875 25.53125 21.96875 \r\nQ 15.875 24.421875 12.140625 26.203125 \r\nQ 8.40625 27.984375 6.46875 31.125 \r\nQ 4.546875 34.28125 4.546875 38.09375 \r\nQ 4.546875 41.546875 6.125 44.5 \r\nQ 7.71875 47.46875 10.453125 49.421875 \r\nQ 12.5 50.921875 16.03125 51.96875 \r\nQ 19.578125 53.03125 23.640625 53.03125 \r\nQ 29.734375 53.03125 34.34375 51.265625 \r\nQ 38.96875 49.515625 41.15625 46.5 \r\nQ 43.359375 43.5 44.1875 38.484375 \r\nL 35.59375 37.3125 \r\nQ 35.015625 41.3125 32.203125 43.546875 \r\nQ 29.390625 45.796875 24.265625 45.796875 \r\nQ 18.21875 45.796875 15.625 43.796875 \r\nQ 13.03125 41.796875 13.03125 39.109375 \r\nQ 13.03125 37.40625 14.109375 36.03125 \r\nQ 15.1875 34.625 17.484375 33.6875 \r\nQ 18.796875 33.203125 25.25 31.453125 \r\nQ 34.578125 28.953125 38.25 27.359375 \r\nQ 41.9375 25.78125 44.03125 22.75 \r\nQ 46.140625 19.734375 46.140625 15.234375 \r\nQ 46.140625 10.84375 43.578125 6.953125 \r\nQ 41.015625 3.078125 36.171875 0.953125 \r\nQ 31.34375 -1.171875 25.25 -1.171875 \r\nQ 15.140625 -1.171875 9.84375 3.03125 \r\nQ 4.546875 7.234375 3.078125 15.484375 \r\nz\r\n\" id=\"ArialMT-115\"/>\r\n      <path d=\"M 6.640625 61.46875 \r\nL 6.640625 71.578125 \r\nL 15.4375 71.578125 \r\nL 15.4375 61.46875 \r\nz\r\nM 6.640625 0 \r\nL 6.640625 51.859375 \r\nL 15.4375 51.859375 \r\nL 15.4375 0 \r\nz\r\n\" id=\"ArialMT-105\"/>\r\n      <path d=\"M 25.78125 7.859375 \r\nL 27.046875 0.09375 \r\nQ 23.34375 -0.6875 20.40625 -0.6875 \r\nQ 15.625 -0.6875 12.984375 0.828125 \r\nQ 10.359375 2.34375 9.28125 4.8125 \r\nQ 8.203125 7.28125 8.203125 15.1875 \r\nL 8.203125 45.015625 \r\nL 1.765625 45.015625 \r\nL 1.765625 51.859375 \r\nL 8.203125 51.859375 \r\nL 8.203125 64.703125 \r\nL 16.9375 69.96875 \r\nL 16.9375 51.859375 \r\nL 25.78125 51.859375 \r\nL 25.78125 45.015625 \r\nL 16.9375 45.015625 \r\nL 16.9375 14.703125 \r\nQ 16.9375 10.9375 17.40625 9.859375 \r\nQ 17.875 8.796875 18.921875 8.15625 \r\nQ 19.96875 7.515625 21.921875 7.515625 \r\nQ 23.390625 7.515625 25.78125 7.859375 \r\nz\r\n\" id=\"ArialMT-116\"/>\r\n      <path d=\"M 6.203125 -19.96875 \r\nL 5.21875 -11.71875 \r\nQ 8.109375 -12.5 10.25 -12.5 \r\nQ 13.1875 -12.5 14.9375 -11.515625 \r\nQ 16.703125 -10.546875 17.828125 -8.796875 \r\nQ 18.65625 -7.46875 20.515625 -2.25 \r\nQ 20.75 -1.515625 21.296875 -0.09375 \r\nL 1.609375 51.859375 \r\nL 11.078125 51.859375 \r\nL 21.875 21.828125 \r\nQ 23.96875 16.109375 25.640625 9.8125 \r\nQ 27.15625 15.875 29.25 21.625 \r\nL 40.328125 51.859375 \r\nL 49.125 51.859375 \r\nL 29.390625 -0.875 \r\nQ 26.21875 -9.421875 24.46875 -12.640625 \r\nQ 22.125 -17 19.09375 -19.015625 \r\nQ 16.0625 -21.046875 11.859375 -21.046875 \r\nQ 9.328125 -21.046875 6.203125 -19.96875 \r\nz\r\n\" id=\"ArialMT-121\"/>\r\n     </defs>\r\n     <g style=\"fill:#262626;\" transform=\"translate(364.346618 146.799844)rotate(-90)scale(0.12 -0.12)\">\r\n      <use xlink:href=\"#ArialMT-68\"/>\r\n      <use x=\"72.216797\" xlink:href=\"#ArialMT-101\"/>\r\n      <use x=\"127.832031\" xlink:href=\"#ArialMT-110\"/>\r\n      <use x=\"183.447266\" xlink:href=\"#ArialMT-115\"/>\r\n      <use x=\"233.447266\" xlink:href=\"#ArialMT-105\"/>\r\n      <use x=\"255.664062\" xlink:href=\"#ArialMT-116\"/>\r\n      <use x=\"283.447266\" xlink:href=\"#ArialMT-121\"/>\r\n     </g>\r\n    </g>\r\n    <g id=\"text_30\">\r\n     <!-- 1e−5 -->\r\n     <g style=\"fill:#262626;\" transform=\"translate(395.662243 15.073594)scale(0.11 -0.11)\">\r\n      <use xlink:href=\"#ArialMT-49\"/>\r\n      <use x=\"55.615234\" xlink:href=\"#ArialMT-101\"/>\r\n      <use x=\"111.230469\" xlink:href=\"#ArialMT-8722\"/>\r\n      <use x=\"169.628906\" xlink:href=\"#ArialMT-53\"/>\r\n     </g>\r\n    </g>\r\n   </g>\r\n   <g id=\"line2d_27\">\r\n    <path clip-path=\"url(#pa4d6a0d0ee)\" d=\"M 409.09005 225.629957 \r\nL 473.339219 225.585483 \r\nL 473.608044 225.434108 \r\nL 473.876869 224.883199 \r\nL 474.145694 223.16446 \r\nL 474.414519 218.581117 \r\nL 474.683344 208.177743 \r\nL 474.952169 188.206545 \r\nL 475.489819 113.777048 \r\nL 476.027469 37.095155 \r\nL 476.296294 27.95723 \r\nL 476.565119 45.695788 \r\nL 477.640419 193.519709 \r\nL 477.909244 209.803229 \r\nL 478.178069 218.06819 \r\nL 478.446894 221.781142 \r\nL 478.715719 223.346481 \r\nL 478.984544 224.023575 \r\nL 479.522194 224.493459 \r\nL 482.479268 225.182154 \r\nL 483.285743 225.233937 \r\nL 484.898693 225.614938 \r\nL 487.049293 225.598997 \r\nL 489.737543 225.424267 \r\nL 490.812842 225.529003 \r\nL 496.995817 225.543688 \r\nL 498.608767 225.52755 \r\nL 501.834666 225.629956 \r\nL 677.6462 225.629957 \r\nL 677.6462 225.629957 \r\n\" style=\"fill:none;stroke:#4c72b0;stroke-linecap:round;stroke-width:1.5;\"/>\r\n   </g>\r\n   <g id=\"patch_18\">\r\n    <path d=\"M 395.662243 235.513594 \r\nL 395.662243 18.073594 \r\n\" style=\"fill:none;stroke:#ffffff;stroke-linecap:square;stroke-linejoin:miter;stroke-width:1.25;\"/>\r\n   </g>\r\n   <g id=\"patch_19\">\r\n    <path d=\"M 691.074007 235.513594 \r\nL 691.074007 18.073594 \r\n\" style=\"fill:none;stroke:#ffffff;stroke-linecap:square;stroke-linejoin:miter;stroke-width:1.25;\"/>\r\n   </g>\r\n   <g id=\"patch_20\">\r\n    <path d=\"M 395.662243 235.513594 \r\nL 691.074007 235.513594 \r\n\" style=\"fill:none;stroke:#ffffff;stroke-linecap:square;stroke-linejoin:miter;stroke-width:1.25;\"/>\r\n   </g>\r\n   <g id=\"patch_21\">\r\n    <path d=\"M 395.662243 18.073594 \r\nL 691.074007 18.073594 \r\n\" style=\"fill:none;stroke:#ffffff;stroke-linecap:square;stroke-linejoin:miter;stroke-width:1.25;\"/>\r\n   </g>\r\n  </g>\r\n  <g id=\"axes_3\">\r\n   <g id=\"patch_22\">\r\n    <path d=\"M 750.15636 235.513594 \r\nL 1045.568125 235.513594 \r\nL 1045.568125 18.073594 \r\nL 750.15636 18.073594 \r\nz\r\n\" style=\"fill:#eaeaf2;\"/>\r\n   </g>\r\n   <g id=\"matplotlib.axis_5\">\r\n    <g id=\"xtick_17\">\r\n     <g id=\"line2d_28\">\r\n      <path clip-path=\"url(#p4e1094176b)\" d=\"M 763.588306 235.513594 \r\nL 763.588306 18.073594 \r\n\" style=\"fill:none;stroke:#ffffff;stroke-linecap:round;\"/>\r\n     </g>\r\n     <g id=\"text_31\">\r\n      <!-- 0.0 -->\r\n      <g style=\"fill:#262626;\" transform=\"translate(755.943306 252.887188)scale(0.11 -0.11)\">\r\n       <use xlink:href=\"#ArialMT-48\"/>\r\n       <use x=\"55.615234\" xlink:href=\"#ArialMT-46\"/>\r\n       <use x=\"83.398438\" xlink:href=\"#ArialMT-48\"/>\r\n      </g>\r\n     </g>\r\n    </g>\r\n    <g id=\"xtick_18\">\r\n     <g id=\"line2d_29\">\r\n      <path clip-path=\"url(#p4e1094176b)\" d=\"M 802.873383 235.513594 \r\nL 802.873383 18.073594 \r\n\" style=\"fill:none;stroke:#ffffff;stroke-linecap:round;\"/>\r\n     </g>\r\n     <g id=\"text_32\">\r\n      <!-- 0.5 -->\r\n      <g style=\"fill:#262626;\" transform=\"translate(795.228383 252.887188)scale(0.11 -0.11)\">\r\n       <use xlink:href=\"#ArialMT-48\"/>\r\n       <use x=\"55.615234\" xlink:href=\"#ArialMT-46\"/>\r\n       <use x=\"83.398438\" xlink:href=\"#ArialMT-53\"/>\r\n      </g>\r\n     </g>\r\n    </g>\r\n    <g id=\"xtick_19\">\r\n     <g id=\"line2d_30\">\r\n      <path clip-path=\"url(#p4e1094176b)\" d=\"M 842.15846 235.513594 \r\nL 842.15846 18.073594 \r\n\" style=\"fill:none;stroke:#ffffff;stroke-linecap:round;\"/>\r\n     </g>\r\n     <g id=\"text_33\">\r\n      <!-- 1.0 -->\r\n      <g style=\"fill:#262626;\" transform=\"translate(834.51346 252.887188)scale(0.11 -0.11)\">\r\n       <use xlink:href=\"#ArialMT-49\"/>\r\n       <use x=\"55.615234\" xlink:href=\"#ArialMT-46\"/>\r\n       <use x=\"83.398438\" xlink:href=\"#ArialMT-48\"/>\r\n      </g>\r\n     </g>\r\n    </g>\r\n    <g id=\"xtick_20\">\r\n     <g id=\"line2d_31\">\r\n      <path clip-path=\"url(#p4e1094176b)\" d=\"M 881.443537 235.513594 \r\nL 881.443537 18.073594 \r\n\" style=\"fill:none;stroke:#ffffff;stroke-linecap:round;\"/>\r\n     </g>\r\n     <g id=\"text_34\">\r\n      <!-- 1.5 -->\r\n      <g style=\"fill:#262626;\" transform=\"translate(873.798537 252.887188)scale(0.11 -0.11)\">\r\n       <use xlink:href=\"#ArialMT-49\"/>\r\n       <use x=\"55.615234\" xlink:href=\"#ArialMT-46\"/>\r\n       <use x=\"83.398438\" xlink:href=\"#ArialMT-53\"/>\r\n      </g>\r\n     </g>\r\n    </g>\r\n    <g id=\"xtick_21\">\r\n     <g id=\"line2d_32\">\r\n      <path clip-path=\"url(#p4e1094176b)\" d=\"M 920.728614 235.513594 \r\nL 920.728614 18.073594 \r\n\" style=\"fill:none;stroke:#ffffff;stroke-linecap:round;\"/>\r\n     </g>\r\n     <g id=\"text_35\">\r\n      <!-- 2.0 -->\r\n      <g style=\"fill:#262626;\" transform=\"translate(913.083614 252.887188)scale(0.11 -0.11)\">\r\n       <use xlink:href=\"#ArialMT-50\"/>\r\n       <use x=\"55.615234\" xlink:href=\"#ArialMT-46\"/>\r\n       <use x=\"83.398438\" xlink:href=\"#ArialMT-48\"/>\r\n      </g>\r\n     </g>\r\n    </g>\r\n    <g id=\"xtick_22\">\r\n     <g id=\"line2d_33\">\r\n      <path clip-path=\"url(#p4e1094176b)\" d=\"M 960.013691 235.513594 \r\nL 960.013691 18.073594 \r\n\" style=\"fill:none;stroke:#ffffff;stroke-linecap:round;\"/>\r\n     </g>\r\n     <g id=\"text_36\">\r\n      <!-- 2.5 -->\r\n      <g style=\"fill:#262626;\" transform=\"translate(952.368691 252.887188)scale(0.11 -0.11)\">\r\n       <use xlink:href=\"#ArialMT-50\"/>\r\n       <use x=\"55.615234\" xlink:href=\"#ArialMT-46\"/>\r\n       <use x=\"83.398438\" xlink:href=\"#ArialMT-53\"/>\r\n      </g>\r\n     </g>\r\n    </g>\r\n    <g id=\"xtick_23\">\r\n     <g id=\"line2d_34\">\r\n      <path clip-path=\"url(#p4e1094176b)\" d=\"M 999.298768 235.513594 \r\nL 999.298768 18.073594 \r\n\" style=\"fill:none;stroke:#ffffff;stroke-linecap:round;\"/>\r\n     </g>\r\n     <g id=\"text_37\">\r\n      <!-- 3.0 -->\r\n      <g style=\"fill:#262626;\" transform=\"translate(991.653768 252.887188)scale(0.11 -0.11)\">\r\n       <use xlink:href=\"#ArialMT-51\"/>\r\n       <use x=\"55.615234\" xlink:href=\"#ArialMT-46\"/>\r\n       <use x=\"83.398438\" xlink:href=\"#ArialMT-48\"/>\r\n      </g>\r\n     </g>\r\n    </g>\r\n    <g id=\"xtick_24\">\r\n     <g id=\"line2d_35\">\r\n      <path clip-path=\"url(#p4e1094176b)\" d=\"M 1038.583845 235.513594 \r\nL 1038.583845 18.073594 \r\n\" style=\"fill:none;stroke:#ffffff;stroke-linecap:round;\"/>\r\n     </g>\r\n     <g id=\"text_38\">\r\n      <!-- 3.5 -->\r\n      <g style=\"fill:#262626;\" transform=\"translate(1030.938845 252.887188)scale(0.11 -0.11)\">\r\n       <use xlink:href=\"#ArialMT-51\"/>\r\n       <use x=\"55.615234\" xlink:href=\"#ArialMT-46\"/>\r\n       <use x=\"83.398438\" xlink:href=\"#ArialMT-53\"/>\r\n      </g>\r\n     </g>\r\n    </g>\r\n    <g id=\"text_39\">\r\n     <!-- AREA_HA -->\r\n     <defs>\r\n      <path d=\"M -0.140625 0 \r\nL 27.34375 71.578125 \r\nL 37.546875 71.578125 \r\nL 66.84375 0 \r\nL 56.0625 0 \r\nL 47.703125 21.6875 \r\nL 17.78125 21.6875 \r\nL 9.90625 0 \r\nz\r\nM 20.515625 29.390625 \r\nL 44.78125 29.390625 \r\nL 37.3125 49.21875 \r\nQ 33.890625 58.25 32.234375 64.0625 \r\nQ 30.859375 57.171875 28.375 50.390625 \r\nz\r\n\" id=\"ArialMT-65\"/>\r\n      <path d=\"M 7.859375 0 \r\nL 7.859375 71.578125 \r\nL 39.59375 71.578125 \r\nQ 49.171875 71.578125 54.140625 69.640625 \r\nQ 59.125 67.71875 62.109375 62.828125 \r\nQ 65.09375 57.953125 65.09375 52.046875 \r\nQ 65.09375 44.4375 60.15625 39.203125 \r\nQ 55.21875 33.984375 44.921875 32.5625 \r\nQ 48.6875 30.765625 50.640625 29 \r\nQ 54.78125 25.203125 58.5 19.484375 \r\nL 70.953125 0 \r\nL 59.03125 0 \r\nL 49.5625 14.890625 \r\nQ 45.40625 21.34375 42.71875 24.75 \r\nQ 40.046875 28.171875 37.921875 29.53125 \r\nQ 35.796875 30.90625 33.59375 31.453125 \r\nQ 31.984375 31.78125 28.328125 31.78125 \r\nL 17.328125 31.78125 \r\nL 17.328125 0 \r\nz\r\nM 17.328125 39.984375 \r\nL 37.703125 39.984375 \r\nQ 44.1875 39.984375 47.84375 41.328125 \r\nQ 51.515625 42.671875 53.421875 45.625 \r\nQ 55.328125 48.578125 55.328125 52.046875 \r\nQ 55.328125 57.125 51.640625 60.390625 \r\nQ 47.953125 63.671875 39.984375 63.671875 \r\nL 17.328125 63.671875 \r\nz\r\n\" id=\"ArialMT-82\"/>\r\n      <path d=\"M 7.90625 0 \r\nL 7.90625 71.578125 \r\nL 59.671875 71.578125 \r\nL 59.671875 63.140625 \r\nL 17.390625 63.140625 \r\nL 17.390625 41.21875 \r\nL 56.984375 41.21875 \r\nL 56.984375 32.8125 \r\nL 17.390625 32.8125 \r\nL 17.390625 8.453125 \r\nL 61.328125 8.453125 \r\nL 61.328125 0 \r\nz\r\n\" id=\"ArialMT-69\"/>\r\n      <path d=\"M -1.515625 -19.875 \r\nL -1.515625 -13.53125 \r\nL 56.734375 -13.53125 \r\nL 56.734375 -19.875 \r\nz\r\n\" id=\"ArialMT-95\"/>\r\n      <path d=\"M 8.015625 0 \r\nL 8.015625 71.578125 \r\nL 17.484375 71.578125 \r\nL 17.484375 42.1875 \r\nL 54.6875 42.1875 \r\nL 54.6875 71.578125 \r\nL 64.15625 71.578125 \r\nL 64.15625 0 \r\nL 54.6875 0 \r\nL 54.6875 33.734375 \r\nL 17.484375 33.734375 \r\nL 17.484375 0 \r\nz\r\n\" id=\"ArialMT-72\"/>\r\n     </defs>\r\n     <g style=\"fill:#262626;\" transform=\"translate(869.85068 267.662813)scale(0.12 -0.12)\">\r\n      <use xlink:href=\"#ArialMT-65\"/>\r\n      <use x=\"66.699219\" xlink:href=\"#ArialMT-82\"/>\r\n      <use x=\"138.916016\" xlink:href=\"#ArialMT-69\"/>\r\n      <use x=\"205.615234\" xlink:href=\"#ArialMT-65\"/>\r\n      <use x=\"272.314453\" xlink:href=\"#ArialMT-95\"/>\r\n      <use x=\"327.929688\" xlink:href=\"#ArialMT-72\"/>\r\n      <use x=\"400.146484\" xlink:href=\"#ArialMT-65\"/>\r\n     </g>\r\n    </g>\r\n    <g id=\"text_40\">\r\n     <!-- 1e6 -->\r\n     <g style=\"fill:#262626;\" transform=\"translate(1027.217031 265.947031)scale(0.11 -0.11)\">\r\n      <use xlink:href=\"#ArialMT-49\"/>\r\n      <use x=\"55.615234\" xlink:href=\"#ArialMT-101\"/>\r\n      <use x=\"111.230469\" xlink:href=\"#ArialMT-54\"/>\r\n     </g>\r\n    </g>\r\n   </g>\r\n   <g id=\"matplotlib.axis_6\">\r\n    <g id=\"ytick_11\">\r\n     <g id=\"line2d_36\">\r\n      <path clip-path=\"url(#p4e1094176b)\" d=\"M 750.15636 235.513594 \r\nL 1045.568125 235.513594 \r\n\" style=\"fill:none;stroke:#ffffff;stroke-linecap:round;\"/>\r\n     </g>\r\n     <g id=\"text_41\">\r\n      <!-- 0.0 -->\r\n      <g style=\"fill:#262626;\" transform=\"translate(725.36636 239.450391)scale(0.11 -0.11)\">\r\n       <use xlink:href=\"#ArialMT-48\"/>\r\n       <use x=\"55.615234\" xlink:href=\"#ArialMT-46\"/>\r\n       <use x=\"83.398438\" xlink:href=\"#ArialMT-48\"/>\r\n      </g>\r\n     </g>\r\n    </g>\r\n    <g id=\"ytick_12\">\r\n     <g id=\"line2d_37\">\r\n      <path clip-path=\"url(#p4e1094176b)\" d=\"M 750.15636 206.80088 \r\nL 1045.568125 206.80088 \r\n\" style=\"fill:none;stroke:#ffffff;stroke-linecap:round;\"/>\r\n     </g>\r\n     <g id=\"text_42\">\r\n      <!-- 0.2 -->\r\n      <g style=\"fill:#262626;\" transform=\"translate(725.36636 210.737677)scale(0.11 -0.11)\">\r\n       <use xlink:href=\"#ArialMT-48\"/>\r\n       <use x=\"55.615234\" xlink:href=\"#ArialMT-46\"/>\r\n       <use x=\"83.398438\" xlink:href=\"#ArialMT-50\"/>\r\n      </g>\r\n     </g>\r\n    </g>\r\n    <g id=\"ytick_13\">\r\n     <g id=\"line2d_38\">\r\n      <path clip-path=\"url(#p4e1094176b)\" d=\"M 750.15636 178.088166 \r\nL 1045.568125 178.088166 \r\n\" style=\"fill:none;stroke:#ffffff;stroke-linecap:round;\"/>\r\n     </g>\r\n     <g id=\"text_43\">\r\n      <!-- 0.4 -->\r\n      <g style=\"fill:#262626;\" transform=\"translate(725.36636 182.024963)scale(0.11 -0.11)\">\r\n       <use xlink:href=\"#ArialMT-48\"/>\r\n       <use x=\"55.615234\" xlink:href=\"#ArialMT-46\"/>\r\n       <use x=\"83.398438\" xlink:href=\"#ArialMT-52\"/>\r\n      </g>\r\n     </g>\r\n    </g>\r\n    <g id=\"ytick_14\">\r\n     <g id=\"line2d_39\">\r\n      <path clip-path=\"url(#p4e1094176b)\" d=\"M 750.15636 149.375452 \r\nL 1045.568125 149.375452 \r\n\" style=\"fill:none;stroke:#ffffff;stroke-linecap:round;\"/>\r\n     </g>\r\n     <g id=\"text_44\">\r\n      <!-- 0.6 -->\r\n      <g style=\"fill:#262626;\" transform=\"translate(725.36636 153.312249)scale(0.11 -0.11)\">\r\n       <use xlink:href=\"#ArialMT-48\"/>\r\n       <use x=\"55.615234\" xlink:href=\"#ArialMT-46\"/>\r\n       <use x=\"83.398438\" xlink:href=\"#ArialMT-54\"/>\r\n      </g>\r\n     </g>\r\n    </g>\r\n    <g id=\"ytick_15\">\r\n     <g id=\"line2d_40\">\r\n      <path clip-path=\"url(#p4e1094176b)\" d=\"M 750.15636 120.662738 \r\nL 1045.568125 120.662738 \r\n\" style=\"fill:none;stroke:#ffffff;stroke-linecap:round;\"/>\r\n     </g>\r\n     <g id=\"text_45\">\r\n      <!-- 0.8 -->\r\n      <defs>\r\n       <path d=\"M 17.671875 38.8125 \r\nQ 12.203125 40.828125 9.5625 44.53125 \r\nQ 6.9375 48.25 6.9375 53.421875 \r\nQ 6.9375 61.234375 12.546875 66.546875 \r\nQ 18.171875 71.875 27.484375 71.875 \r\nQ 36.859375 71.875 42.578125 66.421875 \r\nQ 48.296875 60.984375 48.296875 53.171875 \r\nQ 48.296875 48.1875 45.671875 44.5 \r\nQ 43.0625 40.828125 37.75 38.8125 \r\nQ 44.34375 36.671875 47.78125 31.875 \r\nQ 51.21875 27.09375 51.21875 20.453125 \r\nQ 51.21875 11.28125 44.71875 5.03125 \r\nQ 38.234375 -1.21875 27.640625 -1.21875 \r\nQ 17.046875 -1.21875 10.546875 5.046875 \r\nQ 4.046875 11.328125 4.046875 20.703125 \r\nQ 4.046875 27.6875 7.59375 32.390625 \r\nQ 11.140625 37.109375 17.671875 38.8125 \r\nz\r\nM 15.921875 53.71875 \r\nQ 15.921875 48.640625 19.1875 45.40625 \r\nQ 22.46875 42.1875 27.6875 42.1875 \r\nQ 32.765625 42.1875 36.015625 45.375 \r\nQ 39.265625 48.578125 39.265625 53.21875 \r\nQ 39.265625 58.0625 35.90625 61.359375 \r\nQ 32.5625 64.65625 27.59375 64.65625 \r\nQ 22.5625 64.65625 19.234375 61.421875 \r\nQ 15.921875 58.203125 15.921875 53.71875 \r\nz\r\nM 13.09375 20.65625 \r\nQ 13.09375 16.890625 14.875 13.375 \r\nQ 16.65625 9.859375 20.171875 7.921875 \r\nQ 23.6875 6 27.734375 6 \r\nQ 34.03125 6 38.125 10.046875 \r\nQ 42.234375 14.109375 42.234375 20.359375 \r\nQ 42.234375 26.703125 38.015625 30.859375 \r\nQ 33.796875 35.015625 27.4375 35.015625 \r\nQ 21.234375 35.015625 17.15625 30.90625 \r\nQ 13.09375 26.8125 13.09375 20.65625 \r\nz\r\n\" id=\"ArialMT-56\"/>\r\n      </defs>\r\n      <g style=\"fill:#262626;\" transform=\"translate(725.36636 124.599535)scale(0.11 -0.11)\">\r\n       <use xlink:href=\"#ArialMT-48\"/>\r\n       <use x=\"55.615234\" xlink:href=\"#ArialMT-46\"/>\r\n       <use x=\"83.398438\" xlink:href=\"#ArialMT-56\"/>\r\n      </g>\r\n     </g>\r\n    </g>\r\n    <g id=\"ytick_16\">\r\n     <g id=\"line2d_41\">\r\n      <path clip-path=\"url(#p4e1094176b)\" d=\"M 750.15636 91.950024 \r\nL 1045.568125 91.950024 \r\n\" style=\"fill:none;stroke:#ffffff;stroke-linecap:round;\"/>\r\n     </g>\r\n     <g id=\"text_46\">\r\n      <!-- 1.0 -->\r\n      <g style=\"fill:#262626;\" transform=\"translate(725.36636 95.886821)scale(0.11 -0.11)\">\r\n       <use xlink:href=\"#ArialMT-49\"/>\r\n       <use x=\"55.615234\" xlink:href=\"#ArialMT-46\"/>\r\n       <use x=\"83.398438\" xlink:href=\"#ArialMT-48\"/>\r\n      </g>\r\n     </g>\r\n    </g>\r\n    <g id=\"ytick_17\">\r\n     <g id=\"line2d_42\">\r\n      <path clip-path=\"url(#p4e1094176b)\" d=\"M 750.15636 63.23731 \r\nL 1045.568125 63.23731 \r\n\" style=\"fill:none;stroke:#ffffff;stroke-linecap:round;\"/>\r\n     </g>\r\n     <g id=\"text_47\">\r\n      <!-- 1.2 -->\r\n      <g style=\"fill:#262626;\" transform=\"translate(725.36636 67.174107)scale(0.11 -0.11)\">\r\n       <use xlink:href=\"#ArialMT-49\"/>\r\n       <use x=\"55.615234\" xlink:href=\"#ArialMT-46\"/>\r\n       <use x=\"83.398438\" xlink:href=\"#ArialMT-50\"/>\r\n      </g>\r\n     </g>\r\n    </g>\r\n    <g id=\"ytick_18\">\r\n     <g id=\"line2d_43\">\r\n      <path clip-path=\"url(#p4e1094176b)\" d=\"M 750.15636 34.524596 \r\nL 1045.568125 34.524596 \r\n\" style=\"fill:none;stroke:#ffffff;stroke-linecap:round;\"/>\r\n     </g>\r\n     <g id=\"text_48\">\r\n      <!-- 1.4 -->\r\n      <g style=\"fill:#262626;\" transform=\"translate(725.36636 38.461393)scale(0.11 -0.11)\">\r\n       <use xlink:href=\"#ArialMT-49\"/>\r\n       <use x=\"55.615234\" xlink:href=\"#ArialMT-46\"/>\r\n       <use x=\"83.398438\" xlink:href=\"#ArialMT-52\"/>\r\n      </g>\r\n     </g>\r\n    </g>\r\n    <g id=\"text_49\">\r\n     <!-- 1e−5 -->\r\n     <g style=\"fill:#262626;\" transform=\"translate(750.15636 15.073594)scale(0.11 -0.11)\">\r\n      <use xlink:href=\"#ArialMT-49\"/>\r\n      <use x=\"55.615234\" xlink:href=\"#ArialMT-101\"/>\r\n      <use x=\"111.230469\" xlink:href=\"#ArialMT-8722\"/>\r\n      <use x=\"169.628906\" xlink:href=\"#ArialMT-53\"/>\r\n     </g>\r\n    </g>\r\n   </g>\r\n   <g id=\"patch_23\">\r\n    <path clip-path=\"url(#p4e1094176b)\" d=\"M 763.588306 235.513594 \r\nL 768.959264 235.513594 \r\nL 768.959264 28.427879 \r\nL 763.588306 28.427879 \r\nz\r\n\" style=\"fill:#4c72b0;opacity:0.4;stroke:#ffffff;stroke-linejoin:miter;\"/>\r\n   </g>\r\n   <g id=\"patch_24\">\r\n    <path clip-path=\"url(#p4e1094176b)\" d=\"M 768.959264 235.513594 \r\nL 774.330221 235.513594 \r\nL 774.330221 234.182138 \r\nL 768.959264 234.182138 \r\nz\r\n\" style=\"fill:#4c72b0;opacity:0.4;stroke:#ffffff;stroke-linejoin:miter;\"/>\r\n   </g>\r\n   <g id=\"patch_25\">\r\n    <path clip-path=\"url(#p4e1094176b)\" d=\"M 774.330221 235.513594 \r\nL 779.701179 235.513594 \r\nL 779.701179 234.981012 \r\nL 774.330221 234.981012 \r\nz\r\n\" style=\"fill:#4c72b0;opacity:0.4;stroke:#ffffff;stroke-linejoin:miter;\"/>\r\n   </g>\r\n   <g id=\"patch_26\">\r\n    <path clip-path=\"url(#p4e1094176b)\" d=\"M 779.701179 235.513594 \r\nL 785.072136 235.513594 \r\nL 785.072136 235.513594 \r\nL 779.701179 235.513594 \r\nz\r\n\" style=\"fill:#4c72b0;opacity:0.4;stroke:#ffffff;stroke-linejoin:miter;\"/>\r\n   </g>\r\n   <g id=\"patch_27\">\r\n    <path clip-path=\"url(#p4e1094176b)\" d=\"M 785.072136 235.513594 \r\nL 790.443094 235.513594 \r\nL 790.443094 235.158539 \r\nL 785.072136 235.158539 \r\nz\r\n\" style=\"fill:#4c72b0;opacity:0.4;stroke:#ffffff;stroke-linejoin:miter;\"/>\r\n   </g>\r\n   <g id=\"patch_28\">\r\n    <path clip-path=\"url(#p4e1094176b)\" d=\"M 790.443094 235.513594 \r\nL 795.814051 235.513594 \r\nL 795.814051 235.42483 \r\nL 790.443094 235.42483 \r\nz\r\n\" style=\"fill:#4c72b0;opacity:0.4;stroke:#ffffff;stroke-linejoin:miter;\"/>\r\n   </g>\r\n   <g id=\"patch_29\">\r\n    <path clip-path=\"url(#p4e1094176b)\" d=\"M 795.814051 235.513594 \r\nL 801.185008 235.513594 \r\nL 801.185008 235.42483 \r\nL 795.814051 235.42483 \r\nz\r\n\" style=\"fill:#4c72b0;opacity:0.4;stroke:#ffffff;stroke-linejoin:miter;\"/>\r\n   </g>\r\n   <g id=\"patch_30\">\r\n    <path clip-path=\"url(#p4e1094176b)\" d=\"M 801.185008 235.513594 \r\nL 806.555966 235.513594 \r\nL 806.555966 235.42483 \r\nL 801.185008 235.42483 \r\nz\r\n\" style=\"fill:#4c72b0;opacity:0.4;stroke:#ffffff;stroke-linejoin:miter;\"/>\r\n   </g>\r\n   <g id=\"patch_31\">\r\n    <path clip-path=\"url(#p4e1094176b)\" d=\"M 806.555966 235.513594 \r\nL 811.926923 235.513594 \r\nL 811.926923 235.42483 \r\nL 806.555966 235.42483 \r\nz\r\n\" style=\"fill:#4c72b0;opacity:0.4;stroke:#ffffff;stroke-linejoin:miter;\"/>\r\n   </g>\r\n   <g id=\"patch_32\">\r\n    <path clip-path=\"url(#p4e1094176b)\" d=\"M 811.926923 235.513594 \r\nL 817.297881 235.513594 \r\nL 817.297881 235.513594 \r\nL 811.926923 235.513594 \r\nz\r\n\" style=\"fill:#4c72b0;opacity:0.4;stroke:#ffffff;stroke-linejoin:miter;\"/>\r\n   </g>\r\n   <g id=\"patch_33\">\r\n    <path clip-path=\"url(#p4e1094176b)\" d=\"M 817.297881 235.513594 \r\nL 822.668838 235.513594 \r\nL 822.668838 235.513594 \r\nL 817.297881 235.513594 \r\nz\r\n\" style=\"fill:#4c72b0;opacity:0.4;stroke:#ffffff;stroke-linejoin:miter;\"/>\r\n   </g>\r\n   <g id=\"patch_34\">\r\n    <path clip-path=\"url(#p4e1094176b)\" d=\"M 822.668838 235.513594 \r\nL 828.039796 235.513594 \r\nL 828.039796 235.513594 \r\nL 822.668838 235.513594 \r\nz\r\n\" style=\"fill:#4c72b0;opacity:0.4;stroke:#ffffff;stroke-linejoin:miter;\"/>\r\n   </g>\r\n   <g id=\"patch_35\">\r\n    <path clip-path=\"url(#p4e1094176b)\" d=\"M 828.039796 235.513594 \r\nL 833.410753 235.513594 \r\nL 833.410753 235.513594 \r\nL 828.039796 235.513594 \r\nz\r\n\" style=\"fill:#4c72b0;opacity:0.4;stroke:#ffffff;stroke-linejoin:miter;\"/>\r\n   </g>\r\n   <g id=\"patch_36\">\r\n    <path clip-path=\"url(#p4e1094176b)\" d=\"M 833.410753 235.513594 \r\nL 838.781711 235.513594 \r\nL 838.781711 235.42483 \r\nL 833.410753 235.42483 \r\nz\r\n\" style=\"fill:#4c72b0;opacity:0.4;stroke:#ffffff;stroke-linejoin:miter;\"/>\r\n   </g>\r\n   <g id=\"patch_37\">\r\n    <path clip-path=\"url(#p4e1094176b)\" d=\"M 838.781711 235.513594 \r\nL 844.152668 235.513594 \r\nL 844.152668 235.513594 \r\nL 838.781711 235.513594 \r\nz\r\n\" style=\"fill:#4c72b0;opacity:0.4;stroke:#ffffff;stroke-linejoin:miter;\"/>\r\n   </g>\r\n   <g id=\"patch_38\">\r\n    <path clip-path=\"url(#p4e1094176b)\" d=\"M 844.152668 235.513594 \r\nL 849.523626 235.513594 \r\nL 849.523626 235.42483 \r\nL 844.152668 235.42483 \r\nz\r\n\" style=\"fill:#4c72b0;opacity:0.4;stroke:#ffffff;stroke-linejoin:miter;\"/>\r\n   </g>\r\n   <g id=\"patch_39\">\r\n    <path clip-path=\"url(#p4e1094176b)\" d=\"M 849.523626 235.513594 \r\nL 854.894583 235.513594 \r\nL 854.894583 235.513594 \r\nL 849.523626 235.513594 \r\nz\r\n\" style=\"fill:#4c72b0;opacity:0.4;stroke:#ffffff;stroke-linejoin:miter;\"/>\r\n   </g>\r\n   <g id=\"patch_40\">\r\n    <path clip-path=\"url(#p4e1094176b)\" d=\"M 854.894583 235.513594 \r\nL 860.26554 235.513594 \r\nL 860.26554 235.513594 \r\nL 854.894583 235.513594 \r\nz\r\n\" style=\"fill:#4c72b0;opacity:0.4;stroke:#ffffff;stroke-linejoin:miter;\"/>\r\n   </g>\r\n   <g id=\"patch_41\">\r\n    <path clip-path=\"url(#p4e1094176b)\" d=\"M 860.26554 235.513594 \r\nL 865.636498 235.513594 \r\nL 865.636498 235.513594 \r\nL 860.26554 235.513594 \r\nz\r\n\" style=\"fill:#4c72b0;opacity:0.4;stroke:#ffffff;stroke-linejoin:miter;\"/>\r\n   </g>\r\n   <g id=\"patch_42\">\r\n    <path clip-path=\"url(#p4e1094176b)\" d=\"M 865.636498 235.513594 \r\nL 871.007455 235.513594 \r\nL 871.007455 235.513594 \r\nL 865.636498 235.513594 \r\nz\r\n\" style=\"fill:#4c72b0;opacity:0.4;stroke:#ffffff;stroke-linejoin:miter;\"/>\r\n   </g>\r\n   <g id=\"patch_43\">\r\n    <path clip-path=\"url(#p4e1094176b)\" d=\"M 871.007455 235.513594 \r\nL 876.378413 235.513594 \r\nL 876.378413 235.42483 \r\nL 871.007455 235.42483 \r\nz\r\n\" style=\"fill:#4c72b0;opacity:0.4;stroke:#ffffff;stroke-linejoin:miter;\"/>\r\n   </g>\r\n   <g id=\"patch_44\">\r\n    <path clip-path=\"url(#p4e1094176b)\" d=\"M 876.378413 235.513594 \r\nL 881.74937 235.513594 \r\nL 881.74937 235.513594 \r\nL 876.378413 235.513594 \r\nz\r\n\" style=\"fill:#4c72b0;opacity:0.4;stroke:#ffffff;stroke-linejoin:miter;\"/>\r\n   </g>\r\n   <g id=\"patch_45\">\r\n    <path clip-path=\"url(#p4e1094176b)\" d=\"M 881.74937 235.513594 \r\nL 887.120328 235.513594 \r\nL 887.120328 235.513594 \r\nL 881.74937 235.513594 \r\nz\r\n\" style=\"fill:#4c72b0;opacity:0.4;stroke:#ffffff;stroke-linejoin:miter;\"/>\r\n   </g>\r\n   <g id=\"patch_46\">\r\n    <path clip-path=\"url(#p4e1094176b)\" d=\"M 887.120328 235.513594 \r\nL 892.491285 235.513594 \r\nL 892.491285 235.513594 \r\nL 887.120328 235.513594 \r\nz\r\n\" style=\"fill:#4c72b0;opacity:0.4;stroke:#ffffff;stroke-linejoin:miter;\"/>\r\n   </g>\r\n   <g id=\"patch_47\">\r\n    <path clip-path=\"url(#p4e1094176b)\" d=\"M 892.491285 235.513594 \r\nL 897.862243 235.513594 \r\nL 897.862243 235.513594 \r\nL 892.491285 235.513594 \r\nz\r\n\" style=\"fill:#4c72b0;opacity:0.4;stroke:#ffffff;stroke-linejoin:miter;\"/>\r\n   </g>\r\n   <g id=\"patch_48\">\r\n    <path clip-path=\"url(#p4e1094176b)\" d=\"M 897.862243 235.513594 \r\nL 903.2332 235.513594 \r\nL 903.2332 235.513594 \r\nL 897.862243 235.513594 \r\nz\r\n\" style=\"fill:#4c72b0;opacity:0.4;stroke:#ffffff;stroke-linejoin:miter;\"/>\r\n   </g>\r\n   <g id=\"patch_49\">\r\n    <path clip-path=\"url(#p4e1094176b)\" d=\"M 903.2332 235.513594 \r\nL 908.604158 235.513594 \r\nL 908.604158 235.513594 \r\nL 903.2332 235.513594 \r\nz\r\n\" style=\"fill:#4c72b0;opacity:0.4;stroke:#ffffff;stroke-linejoin:miter;\"/>\r\n   </g>\r\n   <g id=\"patch_50\">\r\n    <path clip-path=\"url(#p4e1094176b)\" d=\"M 908.604158 235.513594 \r\nL 913.975115 235.513594 \r\nL 913.975115 235.513594 \r\nL 908.604158 235.513594 \r\nz\r\n\" style=\"fill:#4c72b0;opacity:0.4;stroke:#ffffff;stroke-linejoin:miter;\"/>\r\n   </g>\r\n   <g id=\"patch_51\">\r\n    <path clip-path=\"url(#p4e1094176b)\" d=\"M 913.975115 235.513594 \r\nL 919.346072 235.513594 \r\nL 919.346072 235.513594 \r\nL 913.975115 235.513594 \r\nz\r\n\" style=\"fill:#4c72b0;opacity:0.4;stroke:#ffffff;stroke-linejoin:miter;\"/>\r\n   </g>\r\n   <g id=\"patch_52\">\r\n    <path clip-path=\"url(#p4e1094176b)\" d=\"M 919.346072 235.513594 \r\nL 924.71703 235.513594 \r\nL 924.71703 235.513594 \r\nL 919.346072 235.513594 \r\nz\r\n\" style=\"fill:#4c72b0;opacity:0.4;stroke:#ffffff;stroke-linejoin:miter;\"/>\r\n   </g>\r\n   <g id=\"patch_53\">\r\n    <path clip-path=\"url(#p4e1094176b)\" d=\"M 924.71703 235.513594 \r\nL 930.087987 235.513594 \r\nL 930.087987 235.513594 \r\nL 924.71703 235.513594 \r\nz\r\n\" style=\"fill:#4c72b0;opacity:0.4;stroke:#ffffff;stroke-linejoin:miter;\"/>\r\n   </g>\r\n   <g id=\"patch_54\">\r\n    <path clip-path=\"url(#p4e1094176b)\" d=\"M 930.087987 235.513594 \r\nL 935.458945 235.513594 \r\nL 935.458945 235.513594 \r\nL 930.087987 235.513594 \r\nz\r\n\" style=\"fill:#4c72b0;opacity:0.4;stroke:#ffffff;stroke-linejoin:miter;\"/>\r\n   </g>\r\n   <g id=\"patch_55\">\r\n    <path clip-path=\"url(#p4e1094176b)\" d=\"M 935.458945 235.513594 \r\nL 940.829902 235.513594 \r\nL 940.829902 235.513594 \r\nL 935.458945 235.513594 \r\nz\r\n\" style=\"fill:#4c72b0;opacity:0.4;stroke:#ffffff;stroke-linejoin:miter;\"/>\r\n   </g>\r\n   <g id=\"patch_56\">\r\n    <path clip-path=\"url(#p4e1094176b)\" d=\"M 940.829902 235.513594 \r\nL 946.20086 235.513594 \r\nL 946.20086 235.513594 \r\nL 940.829902 235.513594 \r\nz\r\n\" style=\"fill:#4c72b0;opacity:0.4;stroke:#ffffff;stroke-linejoin:miter;\"/>\r\n   </g>\r\n   <g id=\"patch_57\">\r\n    <path clip-path=\"url(#p4e1094176b)\" d=\"M 946.20086 235.513594 \r\nL 951.571817 235.513594 \r\nL 951.571817 235.513594 \r\nL 946.20086 235.513594 \r\nz\r\n\" style=\"fill:#4c72b0;opacity:0.4;stroke:#ffffff;stroke-linejoin:miter;\"/>\r\n   </g>\r\n   <g id=\"patch_58\">\r\n    <path clip-path=\"url(#p4e1094176b)\" d=\"M 951.571817 235.513594 \r\nL 956.942775 235.513594 \r\nL 956.942775 235.513594 \r\nL 951.571817 235.513594 \r\nz\r\n\" style=\"fill:#4c72b0;opacity:0.4;stroke:#ffffff;stroke-linejoin:miter;\"/>\r\n   </g>\r\n   <g id=\"patch_59\">\r\n    <path clip-path=\"url(#p4e1094176b)\" d=\"M 956.942775 235.513594 \r\nL 962.313732 235.513594 \r\nL 962.313732 235.513594 \r\nL 956.942775 235.513594 \r\nz\r\n\" style=\"fill:#4c72b0;opacity:0.4;stroke:#ffffff;stroke-linejoin:miter;\"/>\r\n   </g>\r\n   <g id=\"patch_60\">\r\n    <path clip-path=\"url(#p4e1094176b)\" d=\"M 962.313732 235.513594 \r\nL 967.68469 235.513594 \r\nL 967.68469 235.513594 \r\nL 962.313732 235.513594 \r\nz\r\n\" style=\"fill:#4c72b0;opacity:0.4;stroke:#ffffff;stroke-linejoin:miter;\"/>\r\n   </g>\r\n   <g id=\"patch_61\">\r\n    <path clip-path=\"url(#p4e1094176b)\" d=\"M 967.68469 235.513594 \r\nL 973.055647 235.513594 \r\nL 973.055647 235.513594 \r\nL 967.68469 235.513594 \r\nz\r\n\" style=\"fill:#4c72b0;opacity:0.4;stroke:#ffffff;stroke-linejoin:miter;\"/>\r\n   </g>\r\n   <g id=\"patch_62\">\r\n    <path clip-path=\"url(#p4e1094176b)\" d=\"M 973.055647 235.513594 \r\nL 978.426604 235.513594 \r\nL 978.426604 235.513594 \r\nL 973.055647 235.513594 \r\nz\r\n\" style=\"fill:#4c72b0;opacity:0.4;stroke:#ffffff;stroke-linejoin:miter;\"/>\r\n   </g>\r\n   <g id=\"patch_63\">\r\n    <path clip-path=\"url(#p4e1094176b)\" d=\"M 978.426604 235.513594 \r\nL 983.797562 235.513594 \r\nL 983.797562 235.513594 \r\nL 978.426604 235.513594 \r\nz\r\n\" style=\"fill:#4c72b0;opacity:0.4;stroke:#ffffff;stroke-linejoin:miter;\"/>\r\n   </g>\r\n   <g id=\"patch_64\">\r\n    <path clip-path=\"url(#p4e1094176b)\" d=\"M 983.797562 235.513594 \r\nL 989.168519 235.513594 \r\nL 989.168519 235.513594 \r\nL 983.797562 235.513594 \r\nz\r\n\" style=\"fill:#4c72b0;opacity:0.4;stroke:#ffffff;stroke-linejoin:miter;\"/>\r\n   </g>\r\n   <g id=\"patch_65\">\r\n    <path clip-path=\"url(#p4e1094176b)\" d=\"M 989.168519 235.513594 \r\nL 994.539477 235.513594 \r\nL 994.539477 235.513594 \r\nL 989.168519 235.513594 \r\nz\r\n\" style=\"fill:#4c72b0;opacity:0.4;stroke:#ffffff;stroke-linejoin:miter;\"/>\r\n   </g>\r\n   <g id=\"patch_66\">\r\n    <path clip-path=\"url(#p4e1094176b)\" d=\"M 994.539477 235.513594 \r\nL 999.910434 235.513594 \r\nL 999.910434 235.513594 \r\nL 994.539477 235.513594 \r\nz\r\n\" style=\"fill:#4c72b0;opacity:0.4;stroke:#ffffff;stroke-linejoin:miter;\"/>\r\n   </g>\r\n   <g id=\"patch_67\">\r\n    <path clip-path=\"url(#p4e1094176b)\" d=\"M 999.910434 235.513594 \r\nL 1005.281392 235.513594 \r\nL 1005.281392 235.513594 \r\nL 999.910434 235.513594 \r\nz\r\n\" style=\"fill:#4c72b0;opacity:0.4;stroke:#ffffff;stroke-linejoin:miter;\"/>\r\n   </g>\r\n   <g id=\"patch_68\">\r\n    <path clip-path=\"url(#p4e1094176b)\" d=\"M 1005.281392 235.513594 \r\nL 1010.652349 235.513594 \r\nL 1010.652349 235.513594 \r\nL 1005.281392 235.513594 \r\nz\r\n\" style=\"fill:#4c72b0;opacity:0.4;stroke:#ffffff;stroke-linejoin:miter;\"/>\r\n   </g>\r\n   <g id=\"patch_69\">\r\n    <path clip-path=\"url(#p4e1094176b)\" d=\"M 1010.652349 235.513594 \r\nL 1016.023307 235.513594 \r\nL 1016.023307 235.513594 \r\nL 1010.652349 235.513594 \r\nz\r\n\" style=\"fill:#4c72b0;opacity:0.4;stroke:#ffffff;stroke-linejoin:miter;\"/>\r\n   </g>\r\n   <g id=\"patch_70\">\r\n    <path clip-path=\"url(#p4e1094176b)\" d=\"M 1016.023307 235.513594 \r\nL 1021.394264 235.513594 \r\nL 1021.394264 235.513594 \r\nL 1016.023307 235.513594 \r\nz\r\n\" style=\"fill:#4c72b0;opacity:0.4;stroke:#ffffff;stroke-linejoin:miter;\"/>\r\n   </g>\r\n   <g id=\"patch_71\">\r\n    <path clip-path=\"url(#p4e1094176b)\" d=\"M 1021.394264 235.513594 \r\nL 1026.765222 235.513594 \r\nL 1026.765222 235.513594 \r\nL 1021.394264 235.513594 \r\nz\r\n\" style=\"fill:#4c72b0;opacity:0.4;stroke:#ffffff;stroke-linejoin:miter;\"/>\r\n   </g>\r\n   <g id=\"patch_72\">\r\n    <path clip-path=\"url(#p4e1094176b)\" d=\"M 1026.765222 235.513594 \r\nL 1032.136179 235.513594 \r\nL 1032.136179 235.42483 \r\nL 1026.765222 235.42483 \r\nz\r\n\" style=\"fill:#4c72b0;opacity:0.4;stroke:#ffffff;stroke-linejoin:miter;\"/>\r\n   </g>\r\n   <g id=\"line2d_44\">\r\n    <path clip-path=\"url(#p4e1094176b)\" d=\"M 763.584168 235.290079 \r\nL 765.698783 235.513594 \r\nL 767.813398 233.441996 \r\nL 769.928014 234.511148 \r\nL 772.042629 233.390059 \r\nL 774.157245 235.128166 \r\nL 776.27186 234.530667 \r\nL 778.386475 235.20035 \r\nL 780.501091 235.443406 \r\nL 782.615706 235.513594 \r\nL 784.730321 235.376432 \r\nL 786.844937 235.513594 \r\nL 788.959552 234.595832 \r\nL 791.074167 235.513594 \r\nL 793.188783 235.022192 \r\nL 795.303398 235.513594 \r\nL 797.418013 235.086067 \r\nL 799.532629 235.513594 \r\nL 801.647244 235.379781 \r\nL 803.761859 235.513594 \r\nL 805.876475 235.197953 \r\nL 810.105706 235.477128 \r\nL 816.449552 235.513594 \r\nL 831.251859 235.513594 \r\nL 833.366474 235.224128 \r\nL 835.48109 235.513594 \r\nL 841.824936 235.477447 \r\nL 843.939551 235.513594 \r\nL 846.054167 235.313893 \r\nL 850.283397 235.511114 \r\nL 869.314935 235.513594 \r\nL 871.429551 235.275518 \r\nL 873.544166 235.491276 \r\nL 903.148781 235.511808 \r\nL 1010.994164 235.513594 \r\nL 1017.33801 235.478463 \r\nL 1023.681856 235.513594 \r\nL 1025.796471 235.455862 \r\nL 1030.025702 235.461448 \r\nL 1032.140318 235.367006 \r\nL 1032.140318 235.367006 \r\n\" style=\"fill:none;stroke:#4c72b0;stroke-linecap:round;stroke-width:1.5;\"/>\r\n   </g>\r\n   <g id=\"patch_73\">\r\n    <path d=\"M 750.15636 235.513594 \r\nL 750.15636 18.073594 \r\n\" style=\"fill:none;stroke:#ffffff;stroke-linecap:square;stroke-linejoin:miter;stroke-width:1.25;\"/>\r\n   </g>\r\n   <g id=\"patch_74\">\r\n    <path d=\"M 1045.568125 235.513594 \r\nL 1045.568125 18.073594 \r\n\" style=\"fill:none;stroke:#ffffff;stroke-linecap:square;stroke-linejoin:miter;stroke-width:1.25;\"/>\r\n   </g>\r\n   <g id=\"patch_75\">\r\n    <path d=\"M 750.15636 235.513594 \r\nL 1045.568125 235.513594 \r\n\" style=\"fill:none;stroke:#ffffff;stroke-linecap:square;stroke-linejoin:miter;stroke-width:1.25;\"/>\r\n   </g>\r\n   <g id=\"patch_76\">\r\n    <path d=\"M 750.15636 18.073594 \r\nL 1045.568125 18.073594 \r\n\" style=\"fill:none;stroke:#ffffff;stroke-linecap:square;stroke-linejoin:miter;stroke-width:1.25;\"/>\r\n   </g>\r\n  </g>\r\n </g>\r\n <defs>\r\n  <clipPath id=\"pc5a62e2e12\">\r\n   <rect height=\"217.44\" width=\"295.411765\" x=\"41.168125\" y=\"18.073594\"/>\r\n  </clipPath>\r\n  <clipPath id=\"pa4d6a0d0ee\">\r\n   <rect height=\"217.44\" width=\"295.411765\" x=\"395.662243\" y=\"18.073594\"/>\r\n  </clipPath>\r\n  <clipPath id=\"p4e1094176b\">\r\n   <rect height=\"217.44\" width=\"295.411765\" x=\"750.15636\" y=\"18.073594\"/>\r\n  </clipPath>\r\n </defs>\r\n</svg>\r\n",
      "image/png": "[encoded data removed]"
     },
     "metadata": {}
    }
   ],
   "source": [
    "plt.subplot(1,3,1)\n",
    "data2['AREA_HA'].hist(figsize=(18,4))\n",
    "plt.subplot(1,3,2)\n",
    "data2['AREA_HA'].plot(kind='density')\n",
    "plt.subplot(1,3,3)\n",
    "sns.distplot(data2['AREA_HA'])"
   ]
  },
  {
   "cell_type": "code",
   "execution_count": 31,
   "metadata": {},
   "outputs": [
    {
     "output_type": "execute_result",
     "data": {
      "text/plain": [
       "<matplotlib.axes._subplots.AxesSubplot at 0x281fa54e250>"
      ]
     },
     "metadata": {},
     "execution_count": 31
    },
    {
     "output_type": "display_data",
     "data": {
      "text/plain": "<Figure size 1008x288 with 2 Axes>",
      "image/svg+xml": "<?xml version=\"1.0\" encoding=\"utf-8\" standalone=\"no\"?>\r\n<!DOCTYPE svg PUBLIC \"-//W3C//DTD SVG 1.1//EN\"\r\n  \"http://www.w3.org/Graphics/SVG/1.1/DTD/svg11.dtd\">\r\n<!-- Created with matplotlib (https://matplotlib.org/) -->\r\n<svg height=\"266.374219pt\" version=\"1.1\" viewBox=\"0 0 795.6 266.374219\" width=\"795.6pt\" xmlns=\"http://www.w3.org/2000/svg\" xmlns:xlink=\"http://www.w3.org/1999/xlink\">\r\n <defs>\r\n  <style type=\"text/css\">\r\n*{stroke-linecap:butt;stroke-linejoin:round;}\r\n  </style>\r\n </defs>\r\n <g id=\"figure_1\">\r\n  <g id=\"patch_1\">\r\n   <path d=\"M 0 266.374219 \r\nL 795.6 266.374219 \r\nL 795.6 0 \r\nL 0 0 \r\nz\r\n\" style=\"fill:#ffffff;\"/>\r\n  </g>\r\n  <g id=\"axes_1\">\r\n   <g id=\"patch_2\">\r\n    <path d=\"M 7.2 106.036364 \r\nL 788.4 106.036364 \r\nL 788.4 7.2 \r\nL 7.2 7.2 \r\nz\r\n\" style=\"fill:#eaeaf2;\"/>\r\n   </g>\r\n   <g id=\"matplotlib.axis_1\">\r\n    <g id=\"xtick_1\">\r\n     <g id=\"line2d_1\">\r\n      <path clip-path=\"url(#p4f83d7dc98)\" d=\"M 50.040667 106.036364 \r\nL 50.040667 7.2 \r\n\" style=\"fill:none;stroke:#ffffff;stroke-linecap:round;\"/>\r\n     </g>\r\n    </g>\r\n    <g id=\"xtick_2\">\r\n     <g id=\"line2d_2\">\r\n      <path clip-path=\"url(#p4f83d7dc98)\" d=\"M 151.786043 106.036364 \r\nL 151.786043 7.2 \r\n\" style=\"fill:none;stroke:#ffffff;stroke-linecap:round;\"/>\r\n     </g>\r\n    </g>\r\n    <g id=\"xtick_3\">\r\n     <g id=\"line2d_3\">\r\n      <path clip-path=\"url(#p4f83d7dc98)\" d=\"M 253.53142 106.036364 \r\nL 253.53142 7.2 \r\n\" style=\"fill:none;stroke:#ffffff;stroke-linecap:round;\"/>\r\n     </g>\r\n    </g>\r\n    <g id=\"xtick_4\">\r\n     <g id=\"line2d_4\">\r\n      <path clip-path=\"url(#p4f83d7dc98)\" d=\"M 355.276796 106.036364 \r\nL 355.276796 7.2 \r\n\" style=\"fill:none;stroke:#ffffff;stroke-linecap:round;\"/>\r\n     </g>\r\n    </g>\r\n    <g id=\"xtick_5\">\r\n     <g id=\"line2d_5\">\r\n      <path clip-path=\"url(#p4f83d7dc98)\" d=\"M 457.022172 106.036364 \r\nL 457.022172 7.2 \r\n\" style=\"fill:none;stroke:#ffffff;stroke-linecap:round;\"/>\r\n     </g>\r\n    </g>\r\n    <g id=\"xtick_6\">\r\n     <g id=\"line2d_6\">\r\n      <path clip-path=\"url(#p4f83d7dc98)\" d=\"M 558.767548 106.036364 \r\nL 558.767548 7.2 \r\n\" style=\"fill:none;stroke:#ffffff;stroke-linecap:round;\"/>\r\n     </g>\r\n    </g>\r\n    <g id=\"xtick_7\">\r\n     <g id=\"line2d_7\">\r\n      <path clip-path=\"url(#p4f83d7dc98)\" d=\"M 660.512925 106.036364 \r\nL 660.512925 7.2 \r\n\" style=\"fill:none;stroke:#ffffff;stroke-linecap:round;\"/>\r\n     </g>\r\n    </g>\r\n    <g id=\"xtick_8\">\r\n     <g id=\"line2d_8\">\r\n      <path clip-path=\"url(#p4f83d7dc98)\" d=\"M 762.258301 106.036364 \r\nL 762.258301 7.2 \r\n\" style=\"fill:none;stroke:#ffffff;stroke-linecap:round;\"/>\r\n     </g>\r\n    </g>\r\n    <g id=\"text_1\">\r\n     <!-- AREA_HA -->\r\n     <defs>\r\n      <path d=\"M -0.140625 0 \r\nL 27.34375 71.578125 \r\nL 37.546875 71.578125 \r\nL 66.84375 0 \r\nL 56.0625 0 \r\nL 47.703125 21.6875 \r\nL 17.78125 21.6875 \r\nL 9.90625 0 \r\nz\r\nM 20.515625 29.390625 \r\nL 44.78125 29.390625 \r\nL 37.3125 49.21875 \r\nQ 33.890625 58.25 32.234375 64.0625 \r\nQ 30.859375 57.171875 28.375 50.390625 \r\nz\r\n\" id=\"ArialMT-65\"/>\r\n      <path d=\"M 7.859375 0 \r\nL 7.859375 71.578125 \r\nL 39.59375 71.578125 \r\nQ 49.171875 71.578125 54.140625 69.640625 \r\nQ 59.125 67.71875 62.109375 62.828125 \r\nQ 65.09375 57.953125 65.09375 52.046875 \r\nQ 65.09375 44.4375 60.15625 39.203125 \r\nQ 55.21875 33.984375 44.921875 32.5625 \r\nQ 48.6875 30.765625 50.640625 29 \r\nQ 54.78125 25.203125 58.5 19.484375 \r\nL 70.953125 0 \r\nL 59.03125 0 \r\nL 49.5625 14.890625 \r\nQ 45.40625 21.34375 42.71875 24.75 \r\nQ 40.046875 28.171875 37.921875 29.53125 \r\nQ 35.796875 30.90625 33.59375 31.453125 \r\nQ 31.984375 31.78125 28.328125 31.78125 \r\nL 17.328125 31.78125 \r\nL 17.328125 0 \r\nz\r\nM 17.328125 39.984375 \r\nL 37.703125 39.984375 \r\nQ 44.1875 39.984375 47.84375 41.328125 \r\nQ 51.515625 42.671875 53.421875 45.625 \r\nQ 55.328125 48.578125 55.328125 52.046875 \r\nQ 55.328125 57.125 51.640625 60.390625 \r\nQ 47.953125 63.671875 39.984375 63.671875 \r\nL 17.328125 63.671875 \r\nz\r\n\" id=\"ArialMT-82\"/>\r\n      <path d=\"M 7.90625 0 \r\nL 7.90625 71.578125 \r\nL 59.671875 71.578125 \r\nL 59.671875 63.140625 \r\nL 17.390625 63.140625 \r\nL 17.390625 41.21875 \r\nL 56.984375 41.21875 \r\nL 56.984375 32.8125 \r\nL 17.390625 32.8125 \r\nL 17.390625 8.453125 \r\nL 61.328125 8.453125 \r\nL 61.328125 0 \r\nz\r\n\" id=\"ArialMT-69\"/>\r\n      <path d=\"M -1.515625 -19.875 \r\nL -1.515625 -13.53125 \r\nL 56.734375 -13.53125 \r\nL 56.734375 -19.875 \r\nz\r\n\" id=\"ArialMT-95\"/>\r\n      <path d=\"M 8.015625 0 \r\nL 8.015625 71.578125 \r\nL 17.484375 71.578125 \r\nL 17.484375 42.1875 \r\nL 54.6875 42.1875 \r\nL 54.6875 71.578125 \r\nL 64.15625 71.578125 \r\nL 64.15625 0 \r\nL 54.6875 0 \r\nL 54.6875 33.734375 \r\nL 17.484375 33.734375 \r\nL 17.484375 0 \r\nz\r\n\" id=\"ArialMT-72\"/>\r\n     </defs>\r\n     <g style=\"fill:#262626;\" transform=\"translate(369.788437 118.625739)scale(0.12 -0.12)\">\r\n      <use xlink:href=\"#ArialMT-65\"/>\r\n      <use x=\"66.699219\" xlink:href=\"#ArialMT-82\"/>\r\n      <use x=\"138.916016\" xlink:href=\"#ArialMT-69\"/>\r\n      <use x=\"205.615234\" xlink:href=\"#ArialMT-65\"/>\r\n      <use x=\"272.314453\" xlink:href=\"#ArialMT-95\"/>\r\n      <use x=\"327.929688\" xlink:href=\"#ArialMT-72\"/>\r\n      <use x=\"400.146484\" xlink:href=\"#ArialMT-65\"/>\r\n     </g>\r\n    </g>\r\n   </g>\r\n   <g id=\"matplotlib.axis_2\">\r\n    <g id=\"ytick_1\"/>\r\n   </g>\r\n   <g id=\"patch_3\">\r\n    <path clip-path=\"url(#p4f83d7dc98)\" d=\"M 50.041046 17.083636 \r\nL 50.041046 96.152727 \r\nL 50.06257 96.152727 \r\nL 50.06257 17.083636 \r\nL 50.041046 17.083636 \r\nz\r\n\" style=\"fill:#5875a4;stroke:#4c4c4c;stroke-linejoin:miter;stroke-width:1.5;\"/>\r\n   </g>\r\n   <g id=\"line2d_9\">\r\n    <path clip-path=\"url(#p4f83d7dc98)\" d=\"M 50.041046 56.618182 \r\nL 50.040667 56.618182 \r\n\" style=\"fill:none;stroke:#4c4c4c;stroke-linecap:round;stroke-width:1.5;\"/>\r\n   </g>\r\n   <g id=\"line2d_10\">\r\n    <path clip-path=\"url(#p4f83d7dc98)\" d=\"M 50.06257 56.618182 \r\nL 50.094682 56.618182 \r\n\" style=\"fill:none;stroke:#4c4c4c;stroke-linecap:round;stroke-width:1.5;\"/>\r\n   </g>\r\n   <g id=\"line2d_11\">\r\n    <path clip-path=\"url(#p4f83d7dc98)\" d=\"M 50.040667 36.850909 \r\nL 50.040667 76.385455 \r\n\" style=\"fill:none;stroke:#4c4c4c;stroke-linecap:round;stroke-width:1.5;\"/>\r\n   </g>\r\n   <g id=\"line2d_12\">\r\n    <path clip-path=\"url(#p4f83d7dc98)\" d=\"M 50.094682 36.850909 \r\nL 50.094682 76.385455 \r\n\" style=\"fill:none;stroke:#4c4c4c;stroke-linecap:round;stroke-width:1.5;\"/>\r\n   </g>\r\n   <g id=\"line2d_13\">\r\n    <defs>\r\n     <path d=\"M 0 3.535534 \r\nL 2.12132 0 \r\nL 0 -3.535534 \r\nL -2.12132 0 \r\nz\r\n\" id=\"m2f3f4df4ad\" style=\"stroke:#4c4c4c;stroke-linejoin:miter;\"/>\r\n    </defs>\r\n    <g clip-path=\"url(#p4f83d7dc98)\">\r\n     <use style=\"fill:#4c4c4c;stroke:#4c4c4c;stroke-linejoin:miter;\" x=\"54.333722\" xlink:href=\"#m2f3f4df4ad\" y=\"56.618182\"/>\r\n     <use style=\"fill:#4c4c4c;stroke:#4c4c4c;stroke-linejoin:miter;\" x=\"53.617402\" xlink:href=\"#m2f3f4df4ad\" y=\"56.618182\"/>\r\n     <use style=\"fill:#4c4c4c;stroke:#4c4c4c;stroke-linejoin:miter;\" x=\"50.181468\" xlink:href=\"#m2f3f4df4ad\" y=\"56.618182\"/>\r\n     <use style=\"fill:#4c4c4c;stroke:#4c4c4c;stroke-linejoin:miter;\" x=\"50.344627\" xlink:href=\"#m2f3f4df4ad\" y=\"56.618182\"/>\r\n     <use style=\"fill:#4c4c4c;stroke:#4c4c4c;stroke-linejoin:miter;\" x=\"745.559333\" xlink:href=\"#m2f3f4df4ad\" y=\"56.618182\"/>\r\n     <use style=\"fill:#4c4c4c;stroke:#4c4c4c;stroke-linejoin:miter;\" x=\"50.746715\" xlink:href=\"#m2f3f4df4ad\" y=\"56.618182\"/>\r\n     <use style=\"fill:#4c4c4c;stroke:#4c4c4c;stroke-linejoin:miter;\" x=\"61.835642\" xlink:href=\"#m2f3f4df4ad\" y=\"56.618182\"/>\r\n     <use style=\"fill:#4c4c4c;stroke:#4c4c4c;stroke-linejoin:miter;\" x=\"51.951366\" xlink:href=\"#m2f3f4df4ad\" y=\"56.618182\"/>\r\n     <use style=\"fill:#4c4c4c;stroke:#4c4c4c;stroke-linejoin:miter;\" x=\"50.205289\" xlink:href=\"#m2f3f4df4ad\" y=\"56.618182\"/>\r\n     <use style=\"fill:#4c4c4c;stroke:#4c4c4c;stroke-linejoin:miter;\" x=\"50.228165\" xlink:href=\"#m2f3f4df4ad\" y=\"56.618182\"/>\r\n     <use style=\"fill:#4c4c4c;stroke:#4c4c4c;stroke-linejoin:miter;\" x=\"51.296919\" xlink:href=\"#m2f3f4df4ad\" y=\"56.618182\"/>\r\n     <use style=\"fill:#4c4c4c;stroke:#4c4c4c;stroke-linejoin:miter;\" x=\"50.321991\" xlink:href=\"#m2f3f4df4ad\" y=\"56.618182\"/>\r\n     <use style=\"fill:#4c4c4c;stroke:#4c4c4c;stroke-linejoin:miter;\" x=\"50.201535\" xlink:href=\"#m2f3f4df4ad\" y=\"56.618182\"/>\r\n     <use style=\"fill:#4c4c4c;stroke:#4c4c4c;stroke-linejoin:miter;\" x=\"50.411071\" xlink:href=\"#m2f3f4df4ad\" y=\"56.618182\"/>\r\n     <use style=\"fill:#4c4c4c;stroke:#4c4c4c;stroke-linejoin:miter;\" x=\"56.961843\" xlink:href=\"#m2f3f4df4ad\" y=\"56.618182\"/>\r\n     <use style=\"fill:#4c4c4c;stroke:#4c4c4c;stroke-linejoin:miter;\" x=\"86.261828\" xlink:href=\"#m2f3f4df4ad\" y=\"56.618182\"/>\r\n     <use style=\"fill:#4c4c4c;stroke:#4c4c4c;stroke-linejoin:miter;\" x=\"51.224045\" xlink:href=\"#m2f3f4df4ad\" y=\"56.618182\"/>\r\n     <use style=\"fill:#4c4c4c;stroke:#4c4c4c;stroke-linejoin:miter;\" x=\"51.237742\" xlink:href=\"#m2f3f4df4ad\" y=\"56.618182\"/>\r\n     <use style=\"fill:#4c4c4c;stroke:#4c4c4c;stroke-linejoin:miter;\" x=\"52.378859\" xlink:href=\"#m2f3f4df4ad\" y=\"56.618182\"/>\r\n     <use style=\"fill:#4c4c4c;stroke:#4c4c4c;stroke-linejoin:miter;\" x=\"159.25159\" xlink:href=\"#m2f3f4df4ad\" y=\"56.618182\"/>\r\n     <use style=\"fill:#4c4c4c;stroke:#4c4c4c;stroke-linejoin:miter;\" x=\"70.281257\" xlink:href=\"#m2f3f4df4ad\" y=\"56.618182\"/>\r\n     <use style=\"fill:#4c4c4c;stroke:#4c4c4c;stroke-linejoin:miter;\" x=\"61.730094\" xlink:href=\"#m2f3f4df4ad\" y=\"56.618182\"/>\r\n     <use style=\"fill:#4c4c4c;stroke:#4c4c4c;stroke-linejoin:miter;\" x=\"61.012976\" xlink:href=\"#m2f3f4df4ad\" y=\"56.618182\"/>\r\n     <use style=\"fill:#4c4c4c;stroke:#4c4c4c;stroke-linejoin:miter;\" x=\"74.43921\" xlink:href=\"#m2f3f4df4ad\" y=\"56.618182\"/>\r\n     <use style=\"fill:#4c4c4c;stroke:#4c4c4c;stroke-linejoin:miter;\" x=\"54.410649\" xlink:href=\"#m2f3f4df4ad\" y=\"56.618182\"/>\r\n     <use style=\"fill:#4c4c4c;stroke:#4c4c4c;stroke-linejoin:miter;\" x=\"71.569834\" xlink:href=\"#m2f3f4df4ad\" y=\"56.618182\"/>\r\n     <use style=\"fill:#4c4c4c;stroke:#4c4c4c;stroke-linejoin:miter;\" x=\"84.566933\" xlink:href=\"#m2f3f4df4ad\" y=\"56.618182\"/>\r\n     <use style=\"fill:#4c4c4c;stroke:#4c4c4c;stroke-linejoin:miter;\" x=\"59.875664\" xlink:href=\"#m2f3f4df4ad\" y=\"56.618182\"/>\r\n     <use style=\"fill:#4c4c4c;stroke:#4c4c4c;stroke-linejoin:miter;\" x=\"69.747477\" xlink:href=\"#m2f3f4df4ad\" y=\"56.618182\"/>\r\n     <use style=\"fill:#4c4c4c;stroke:#4c4c4c;stroke-linejoin:miter;\" x=\"84.241433\" xlink:href=\"#m2f3f4df4ad\" y=\"56.618182\"/>\r\n     <use style=\"fill:#4c4c4c;stroke:#4c4c4c;stroke-linejoin:miter;\" x=\"64.355781\" xlink:href=\"#m2f3f4df4ad\" y=\"56.618182\"/>\r\n     <use style=\"fill:#4c4c4c;stroke:#4c4c4c;stroke-linejoin:miter;\" x=\"51.883015\" xlink:href=\"#m2f3f4df4ad\" y=\"56.618182\"/>\r\n     <use style=\"fill:#4c4c4c;stroke:#4c4c4c;stroke-linejoin:miter;\" x=\"50.788135\" xlink:href=\"#m2f3f4df4ad\" y=\"56.618182\"/>\r\n     <use style=\"fill:#4c4c4c;stroke:#4c4c4c;stroke-linejoin:miter;\" x=\"63.14269\" xlink:href=\"#m2f3f4df4ad\" y=\"56.618182\"/>\r\n     <use style=\"fill:#4c4c4c;stroke:#4c4c4c;stroke-linejoin:miter;\" x=\"72.463938\" xlink:href=\"#m2f3f4df4ad\" y=\"56.618182\"/>\r\n     <use style=\"fill:#4c4c4c;stroke:#4c4c4c;stroke-linejoin:miter;\" x=\"54.073579\" xlink:href=\"#m2f3f4df4ad\" y=\"56.618182\"/>\r\n     <use style=\"fill:#4c4c4c;stroke:#4c4c4c;stroke-linejoin:miter;\" x=\"69.854496\" xlink:href=\"#m2f3f4df4ad\" y=\"56.618182\"/>\r\n     <use style=\"fill:#4c4c4c;stroke:#4c4c4c;stroke-linejoin:miter;\" x=\"62.494266\" xlink:href=\"#m2f3f4df4ad\" y=\"56.618182\"/>\r\n     <use style=\"fill:#4c4c4c;stroke:#4c4c4c;stroke-linejoin:miter;\" x=\"50.928178\" xlink:href=\"#m2f3f4df4ad\" y=\"56.618182\"/>\r\n     <use style=\"fill:#4c4c4c;stroke:#4c4c4c;stroke-linejoin:miter;\" x=\"50.141224\" xlink:href=\"#m2f3f4df4ad\" y=\"56.618182\"/>\r\n     <use style=\"fill:#4c4c4c;stroke:#4c4c4c;stroke-linejoin:miter;\" x=\"53.54272\" xlink:href=\"#m2f3f4df4ad\" y=\"56.618182\"/>\r\n     <use style=\"fill:#4c4c4c;stroke:#4c4c4c;stroke-linejoin:miter;\" x=\"55.79976\" xlink:href=\"#m2f3f4df4ad\" y=\"56.618182\"/>\r\n     <use style=\"fill:#4c4c4c;stroke:#4c4c4c;stroke-linejoin:miter;\" x=\"78.28195\" xlink:href=\"#m2f3f4df4ad\" y=\"56.618182\"/>\r\n     <use style=\"fill:#4c4c4c;stroke:#4c4c4c;stroke-linejoin:miter;\" x=\"53.10294\" xlink:href=\"#m2f3f4df4ad\" y=\"56.618182\"/>\r\n     <use style=\"fill:#4c4c4c;stroke:#4c4c4c;stroke-linejoin:miter;\" x=\"51.251394\" xlink:href=\"#m2f3f4df4ad\" y=\"56.618182\"/>\r\n     <use style=\"fill:#4c4c4c;stroke:#4c4c4c;stroke-linejoin:miter;\" x=\"50.4644\" xlink:href=\"#m2f3f4df4ad\" y=\"56.618182\"/>\r\n     <use style=\"fill:#4c4c4c;stroke:#4c4c4c;stroke-linejoin:miter;\" x=\"63.17241\" xlink:href=\"#m2f3f4df4ad\" y=\"56.618182\"/>\r\n     <use style=\"fill:#4c4c4c;stroke:#4c4c4c;stroke-linejoin:miter;\" x=\"59.921494\" xlink:href=\"#m2f3f4df4ad\" y=\"56.618182\"/>\r\n     <use style=\"fill:#4c4c4c;stroke:#4c4c4c;stroke-linejoin:miter;\" x=\"63.299534\" xlink:href=\"#m2f3f4df4ad\" y=\"56.618182\"/>\r\n     <use style=\"fill:#4c4c4c;stroke:#4c4c4c;stroke-linejoin:miter;\" x=\"51.610364\" xlink:href=\"#m2f3f4df4ad\" y=\"56.618182\"/>\r\n     <use style=\"fill:#4c4c4c;stroke:#4c4c4c;stroke-linejoin:miter;\" x=\"116.786431\" xlink:href=\"#m2f3f4df4ad\" y=\"56.618182\"/>\r\n     <use style=\"fill:#4c4c4c;stroke:#4c4c4c;stroke-linejoin:miter;\" x=\"74.40247\" xlink:href=\"#m2f3f4df4ad\" y=\"56.618182\"/>\r\n     <use style=\"fill:#4c4c4c;stroke:#4c4c4c;stroke-linejoin:miter;\" x=\"50.128677\" xlink:href=\"#m2f3f4df4ad\" y=\"56.618182\"/>\r\n     <use style=\"fill:#4c4c4c;stroke:#4c4c4c;stroke-linejoin:miter;\" x=\"50.202977\" xlink:href=\"#m2f3f4df4ad\" y=\"56.618182\"/>\r\n     <use style=\"fill:#4c4c4c;stroke:#4c4c4c;stroke-linejoin:miter;\" x=\"50.35201\" xlink:href=\"#m2f3f4df4ad\" y=\"56.618182\"/>\r\n     <use style=\"fill:#4c4c4c;stroke:#4c4c4c;stroke-linejoin:miter;\" x=\"58.112301\" xlink:href=\"#m2f3f4df4ad\" y=\"56.618182\"/>\r\n     <use style=\"fill:#4c4c4c;stroke:#4c4c4c;stroke-linejoin:miter;\" x=\"50.858677\" xlink:href=\"#m2f3f4df4ad\" y=\"56.618182\"/>\r\n     <use style=\"fill:#4c4c4c;stroke:#4c4c4c;stroke-linejoin:miter;\" x=\"50.264031\" xlink:href=\"#m2f3f4df4ad\" y=\"56.618182\"/>\r\n     <use style=\"fill:#4c4c4c;stroke:#4c4c4c;stroke-linejoin:miter;\" x=\"53.564166\" xlink:href=\"#m2f3f4df4ad\" y=\"56.618182\"/>\r\n     <use style=\"fill:#4c4c4c;stroke:#4c4c4c;stroke-linejoin:miter;\" x=\"165.60904\" xlink:href=\"#m2f3f4df4ad\" y=\"56.618182\"/>\r\n     <use style=\"fill:#4c4c4c;stroke:#4c4c4c;stroke-linejoin:miter;\" x=\"58.177371\" xlink:href=\"#m2f3f4df4ad\" y=\"56.618182\"/>\r\n     <use style=\"fill:#4c4c4c;stroke:#4c4c4c;stroke-linejoin:miter;\" x=\"50.736607\" xlink:href=\"#m2f3f4df4ad\" y=\"56.618182\"/>\r\n     <use style=\"fill:#4c4c4c;stroke:#4c4c4c;stroke-linejoin:miter;\" x=\"50.562138\" xlink:href=\"#m2f3f4df4ad\" y=\"56.618182\"/>\r\n     <use style=\"fill:#4c4c4c;stroke:#4c4c4c;stroke-linejoin:miter;\" x=\"77.595633\" xlink:href=\"#m2f3f4df4ad\" y=\"56.618182\"/>\r\n     <use style=\"fill:#4c4c4c;stroke:#4c4c4c;stroke-linejoin:miter;\" x=\"55.083941\" xlink:href=\"#m2f3f4df4ad\" y=\"56.618182\"/>\r\n     <use style=\"fill:#4c4c4c;stroke:#4c4c4c;stroke-linejoin:miter;\" x=\"53.149133\" xlink:href=\"#m2f3f4df4ad\" y=\"56.618182\"/>\r\n     <use style=\"fill:#4c4c4c;stroke:#4c4c4c;stroke-linejoin:miter;\" x=\"50.137406\" xlink:href=\"#m2f3f4df4ad\" y=\"56.618182\"/>\r\n     <use style=\"fill:#4c4c4c;stroke:#4c4c4c;stroke-linejoin:miter;\" x=\"50.26702\" xlink:href=\"#m2f3f4df4ad\" y=\"56.618182\"/>\r\n     <use style=\"fill:#4c4c4c;stroke:#4c4c4c;stroke-linejoin:miter;\" x=\"51.818458\" xlink:href=\"#m2f3f4df4ad\" y=\"56.618182\"/>\r\n     <use style=\"fill:#4c4c4c;stroke:#4c4c4c;stroke-linejoin:miter;\" x=\"52.557839\" xlink:href=\"#m2f3f4df4ad\" y=\"56.618182\"/>\r\n     <use style=\"fill:#4c4c4c;stroke:#4c4c4c;stroke-linejoin:miter;\" x=\"51.095185\" xlink:href=\"#m2f3f4df4ad\" y=\"56.618182\"/>\r\n     <use style=\"fill:#4c4c4c;stroke:#4c4c4c;stroke-linejoin:miter;\" x=\"50.930898\" xlink:href=\"#m2f3f4df4ad\" y=\"56.618182\"/>\r\n     <use style=\"fill:#4c4c4c;stroke:#4c4c4c;stroke-linejoin:miter;\" x=\"50.384664\" xlink:href=\"#m2f3f4df4ad\" y=\"56.618182\"/>\r\n     <use style=\"fill:#4c4c4c;stroke:#4c4c4c;stroke-linejoin:miter;\" x=\"52.891121\" xlink:href=\"#m2f3f4df4ad\" y=\"56.618182\"/>\r\n     <use style=\"fill:#4c4c4c;stroke:#4c4c4c;stroke-linejoin:miter;\" x=\"51.065444\" xlink:href=\"#m2f3f4df4ad\" y=\"56.618182\"/>\r\n     <use style=\"fill:#4c4c4c;stroke:#4c4c4c;stroke-linejoin:miter;\" x=\"51.892616\" xlink:href=\"#m2f3f4df4ad\" y=\"56.618182\"/>\r\n     <use style=\"fill:#4c4c4c;stroke:#4c4c4c;stroke-linejoin:miter;\" x=\"51.924232\" xlink:href=\"#m2f3f4df4ad\" y=\"56.618182\"/>\r\n     <use style=\"fill:#4c4c4c;stroke:#4c4c4c;stroke-linejoin:miter;\" x=\"50.19951\" xlink:href=\"#m2f3f4df4ad\" y=\"56.618182\"/>\r\n     <use style=\"fill:#4c4c4c;stroke:#4c4c4c;stroke-linejoin:miter;\" x=\"55.128341\" xlink:href=\"#m2f3f4df4ad\" y=\"56.618182\"/>\r\n     <use style=\"fill:#4c4c4c;stroke:#4c4c4c;stroke-linejoin:miter;\" x=\"50.23696\" xlink:href=\"#m2f3f4df4ad\" y=\"56.618182\"/>\r\n     <use style=\"fill:#4c4c4c;stroke:#4c4c4c;stroke-linejoin:miter;\" x=\"52.581062\" xlink:href=\"#m2f3f4df4ad\" y=\"56.618182\"/>\r\n     <use style=\"fill:#4c4c4c;stroke:#4c4c4c;stroke-linejoin:miter;\" x=\"51.29606\" xlink:href=\"#m2f3f4df4ad\" y=\"56.618182\"/>\r\n     <use style=\"fill:#4c4c4c;stroke:#4c4c4c;stroke-linejoin:miter;\" x=\"50.927893\" xlink:href=\"#m2f3f4df4ad\" y=\"56.618182\"/>\r\n     <use style=\"fill:#4c4c4c;stroke:#4c4c4c;stroke-linejoin:miter;\" x=\"52.281074\" xlink:href=\"#m2f3f4df4ad\" y=\"56.618182\"/>\r\n     <use style=\"fill:#4c4c4c;stroke:#4c4c4c;stroke-linejoin:miter;\" x=\"50.222634\" xlink:href=\"#m2f3f4df4ad\" y=\"56.618182\"/>\r\n     <use style=\"fill:#4c4c4c;stroke:#4c4c4c;stroke-linejoin:miter;\" x=\"50.473665\" xlink:href=\"#m2f3f4df4ad\" y=\"56.618182\"/>\r\n     <use style=\"fill:#4c4c4c;stroke:#4c4c4c;stroke-linejoin:miter;\" x=\"53.7221\" xlink:href=\"#m2f3f4df4ad\" y=\"56.618182\"/>\r\n     <use style=\"fill:#4c4c4c;stroke:#4c4c4c;stroke-linejoin:miter;\" x=\"50.219425\" xlink:href=\"#m2f3f4df4ad\" y=\"56.618182\"/>\r\n     <use style=\"fill:#4c4c4c;stroke:#4c4c4c;stroke-linejoin:miter;\" x=\"50.103902\" xlink:href=\"#m2f3f4df4ad\" y=\"56.618182\"/>\r\n     <use style=\"fill:#4c4c4c;stroke:#4c4c4c;stroke-linejoin:miter;\" x=\"51.608811\" xlink:href=\"#m2f3f4df4ad\" y=\"56.618182\"/>\r\n     <use style=\"fill:#4c4c4c;stroke:#4c4c4c;stroke-linejoin:miter;\" x=\"50.217277\" xlink:href=\"#m2f3f4df4ad\" y=\"56.618182\"/>\r\n     <use style=\"fill:#4c4c4c;stroke:#4c4c4c;stroke-linejoin:miter;\" x=\"50.890473\" xlink:href=\"#m2f3f4df4ad\" y=\"56.618182\"/>\r\n     <use style=\"fill:#4c4c4c;stroke:#4c4c4c;stroke-linejoin:miter;\" x=\"50.174806\" xlink:href=\"#m2f3f4df4ad\" y=\"56.618182\"/>\r\n     <use style=\"fill:#4c4c4c;stroke:#4c4c4c;stroke-linejoin:miter;\" x=\"52.052857\" xlink:href=\"#m2f3f4df4ad\" y=\"56.618182\"/>\r\n     <use style=\"fill:#4c4c4c;stroke:#4c4c4c;stroke-linejoin:miter;\" x=\"50.522574\" xlink:href=\"#m2f3f4df4ad\" y=\"56.618182\"/>\r\n     <use style=\"fill:#4c4c4c;stroke:#4c4c4c;stroke-linejoin:miter;\" x=\"51.076858\" xlink:href=\"#m2f3f4df4ad\" y=\"56.618182\"/>\r\n     <use style=\"fill:#4c4c4c;stroke:#4c4c4c;stroke-linejoin:miter;\" x=\"50.098308\" xlink:href=\"#m2f3f4df4ad\" y=\"56.618182\"/>\r\n     <use style=\"fill:#4c4c4c;stroke:#4c4c4c;stroke-linejoin:miter;\" x=\"50.289095\" xlink:href=\"#m2f3f4df4ad\" y=\"56.618182\"/>\r\n     <use style=\"fill:#4c4c4c;stroke:#4c4c4c;stroke-linejoin:miter;\" x=\"51.365848\" xlink:href=\"#m2f3f4df4ad\" y=\"56.618182\"/>\r\n     <use style=\"fill:#4c4c4c;stroke:#4c4c4c;stroke-linejoin:miter;\" x=\"58.578075\" xlink:href=\"#m2f3f4df4ad\" y=\"56.618182\"/>\r\n     <use style=\"fill:#4c4c4c;stroke:#4c4c4c;stroke-linejoin:miter;\" x=\"50.188947\" xlink:href=\"#m2f3f4df4ad\" y=\"56.618182\"/>\r\n     <use style=\"fill:#4c4c4c;stroke:#4c4c4c;stroke-linejoin:miter;\" x=\"50.239117\" xlink:href=\"#m2f3f4df4ad\" y=\"56.618182\"/>\r\n     <use style=\"fill:#4c4c4c;stroke:#4c4c4c;stroke-linejoin:miter;\" x=\"50.279406\" xlink:href=\"#m2f3f4df4ad\" y=\"56.618182\"/>\r\n     <use style=\"fill:#4c4c4c;stroke:#4c4c4c;stroke-linejoin:miter;\" x=\"50.113604\" xlink:href=\"#m2f3f4df4ad\" y=\"56.618182\"/>\r\n     <use style=\"fill:#4c4c4c;stroke:#4c4c4c;stroke-linejoin:miter;\" x=\"50.614885\" xlink:href=\"#m2f3f4df4ad\" y=\"56.618182\"/>\r\n     <use style=\"fill:#4c4c4c;stroke:#4c4c4c;stroke-linejoin:miter;\" x=\"50.252702\" xlink:href=\"#m2f3f4df4ad\" y=\"56.618182\"/>\r\n     <use style=\"fill:#4c4c4c;stroke:#4c4c4c;stroke-linejoin:miter;\" x=\"50.174853\" xlink:href=\"#m2f3f4df4ad\" y=\"56.618182\"/>\r\n     <use style=\"fill:#4c4c4c;stroke:#4c4c4c;stroke-linejoin:miter;\" x=\"52.379266\" xlink:href=\"#m2f3f4df4ad\" y=\"56.618182\"/>\r\n     <use style=\"fill:#4c4c4c;stroke:#4c4c4c;stroke-linejoin:miter;\" x=\"50.213215\" xlink:href=\"#m2f3f4df4ad\" y=\"56.618182\"/>\r\n     <use style=\"fill:#4c4c4c;stroke:#4c4c4c;stroke-linejoin:miter;\" x=\"52.639348\" xlink:href=\"#m2f3f4df4ad\" y=\"56.618182\"/>\r\n     <use style=\"fill:#4c4c4c;stroke:#4c4c4c;stroke-linejoin:miter;\" x=\"69.550139\" xlink:href=\"#m2f3f4df4ad\" y=\"56.618182\"/>\r\n     <use style=\"fill:#4c4c4c;stroke:#4c4c4c;stroke-linejoin:miter;\" x=\"50.213372\" xlink:href=\"#m2f3f4df4ad\" y=\"56.618182\"/>\r\n     <use style=\"fill:#4c4c4c;stroke:#4c4c4c;stroke-linejoin:miter;\" x=\"51.971009\" xlink:href=\"#m2f3f4df4ad\" y=\"56.618182\"/>\r\n     <use style=\"fill:#4c4c4c;stroke:#4c4c4c;stroke-linejoin:miter;\" x=\"50.340415\" xlink:href=\"#m2f3f4df4ad\" y=\"56.618182\"/>\r\n     <use style=\"fill:#4c4c4c;stroke:#4c4c4c;stroke-linejoin:miter;\" x=\"50.37299\" xlink:href=\"#m2f3f4df4ad\" y=\"56.618182\"/>\r\n     <use style=\"fill:#4c4c4c;stroke:#4c4c4c;stroke-linejoin:miter;\" x=\"50.292578\" xlink:href=\"#m2f3f4df4ad\" y=\"56.618182\"/>\r\n     <use style=\"fill:#4c4c4c;stroke:#4c4c4c;stroke-linejoin:miter;\" x=\"50.277105\" xlink:href=\"#m2f3f4df4ad\" y=\"56.618182\"/>\r\n     <use style=\"fill:#4c4c4c;stroke:#4c4c4c;stroke-linejoin:miter;\" x=\"50.530964\" xlink:href=\"#m2f3f4df4ad\" y=\"56.618182\"/>\r\n     <use style=\"fill:#4c4c4c;stroke:#4c4c4c;stroke-linejoin:miter;\" x=\"50.247326\" xlink:href=\"#m2f3f4df4ad\" y=\"56.618182\"/>\r\n     <use style=\"fill:#4c4c4c;stroke:#4c4c4c;stroke-linejoin:miter;\" x=\"50.302741\" xlink:href=\"#m2f3f4df4ad\" y=\"56.618182\"/>\r\n     <use style=\"fill:#4c4c4c;stroke:#4c4c4c;stroke-linejoin:miter;\" x=\"50.320019\" xlink:href=\"#m2f3f4df4ad\" y=\"56.618182\"/>\r\n     <use style=\"fill:#4c4c4c;stroke:#4c4c4c;stroke-linejoin:miter;\" x=\"50.525948\" xlink:href=\"#m2f3f4df4ad\" y=\"56.618182\"/>\r\n     <use style=\"fill:#4c4c4c;stroke:#4c4c4c;stroke-linejoin:miter;\" x=\"51.186114\" xlink:href=\"#m2f3f4df4ad\" y=\"56.618182\"/>\r\n     <use style=\"fill:#4c4c4c;stroke:#4c4c4c;stroke-linejoin:miter;\" x=\"50.108293\" xlink:href=\"#m2f3f4df4ad\" y=\"56.618182\"/>\r\n     <use style=\"fill:#4c4c4c;stroke:#4c4c4c;stroke-linejoin:miter;\" x=\"50.097882\" xlink:href=\"#m2f3f4df4ad\" y=\"56.618182\"/>\r\n     <use style=\"fill:#4c4c4c;stroke:#4c4c4c;stroke-linejoin:miter;\" x=\"50.09787\" xlink:href=\"#m2f3f4df4ad\" y=\"56.618182\"/>\r\n     <use style=\"fill:#4c4c4c;stroke:#4c4c4c;stroke-linejoin:miter;\" x=\"50.10333\" xlink:href=\"#m2f3f4df4ad\" y=\"56.618182\"/>\r\n     <use style=\"fill:#4c4c4c;stroke:#4c4c4c;stroke-linejoin:miter;\" x=\"50.115122\" xlink:href=\"#m2f3f4df4ad\" y=\"56.618182\"/>\r\n     <use style=\"fill:#4c4c4c;stroke:#4c4c4c;stroke-linejoin:miter;\" x=\"50.129617\" xlink:href=\"#m2f3f4df4ad\" y=\"56.618182\"/>\r\n     <use style=\"fill:#4c4c4c;stroke:#4c4c4c;stroke-linejoin:miter;\" x=\"50.381571\" xlink:href=\"#m2f3f4df4ad\" y=\"56.618182\"/>\r\n     <use style=\"fill:#4c4c4c;stroke:#4c4c4c;stroke-linejoin:miter;\" x=\"86.503912\" xlink:href=\"#m2f3f4df4ad\" y=\"56.618182\"/>\r\n     <use style=\"fill:#4c4c4c;stroke:#4c4c4c;stroke-linejoin:miter;\" x=\"53.619229\" xlink:href=\"#m2f3f4df4ad\" y=\"56.618182\"/>\r\n     <use style=\"fill:#4c4c4c;stroke:#4c4c4c;stroke-linejoin:miter;\" x=\"59.673937\" xlink:href=\"#m2f3f4df4ad\" y=\"56.618182\"/>\r\n     <use style=\"fill:#4c4c4c;stroke:#4c4c4c;stroke-linejoin:miter;\" x=\"330.844017\" xlink:href=\"#m2f3f4df4ad\" y=\"56.618182\"/>\r\n     <use style=\"fill:#4c4c4c;stroke:#4c4c4c;stroke-linejoin:miter;\" x=\"53.148846\" xlink:href=\"#m2f3f4df4ad\" y=\"56.618182\"/>\r\n     <use style=\"fill:#4c4c4c;stroke:#4c4c4c;stroke-linejoin:miter;\" x=\"50.153429\" xlink:href=\"#m2f3f4df4ad\" y=\"56.618182\"/>\r\n     <use style=\"fill:#4c4c4c;stroke:#4c4c4c;stroke-linejoin:miter;\" x=\"50.74098\" xlink:href=\"#m2f3f4df4ad\" y=\"56.618182\"/>\r\n     <use style=\"fill:#4c4c4c;stroke:#4c4c4c;stroke-linejoin:miter;\" x=\"53.162626\" xlink:href=\"#m2f3f4df4ad\" y=\"56.618182\"/>\r\n     <use style=\"fill:#4c4c4c;stroke:#4c4c4c;stroke-linejoin:miter;\" x=\"50.173333\" xlink:href=\"#m2f3f4df4ad\" y=\"56.618182\"/>\r\n     <use style=\"fill:#4c4c4c;stroke:#4c4c4c;stroke-linejoin:miter;\" x=\"50.117926\" xlink:href=\"#m2f3f4df4ad\" y=\"56.618182\"/>\r\n     <use style=\"fill:#4c4c4c;stroke:#4c4c4c;stroke-linejoin:miter;\" x=\"50.185872\" xlink:href=\"#m2f3f4df4ad\" y=\"56.618182\"/>\r\n     <use style=\"fill:#4c4c4c;stroke:#4c4c4c;stroke-linejoin:miter;\" x=\"50.197943\" xlink:href=\"#m2f3f4df4ad\" y=\"56.618182\"/>\r\n     <use style=\"fill:#4c4c4c;stroke:#4c4c4c;stroke-linejoin:miter;\" x=\"50.131528\" xlink:href=\"#m2f3f4df4ad\" y=\"56.618182\"/>\r\n     <use style=\"fill:#4c4c4c;stroke:#4c4c4c;stroke-linejoin:miter;\" x=\"52.631059\" xlink:href=\"#m2f3f4df4ad\" y=\"56.618182\"/>\r\n     <use style=\"fill:#4c4c4c;stroke:#4c4c4c;stroke-linejoin:miter;\" x=\"52.104965\" xlink:href=\"#m2f3f4df4ad\" y=\"56.618182\"/>\r\n     <use style=\"fill:#4c4c4c;stroke:#4c4c4c;stroke-linejoin:miter;\" x=\"50.097602\" xlink:href=\"#m2f3f4df4ad\" y=\"56.618182\"/>\r\n     <use style=\"fill:#4c4c4c;stroke:#4c4c4c;stroke-linejoin:miter;\" x=\"50.099095\" xlink:href=\"#m2f3f4df4ad\" y=\"56.618182\"/>\r\n     <use style=\"fill:#4c4c4c;stroke:#4c4c4c;stroke-linejoin:miter;\" x=\"50.172914\" xlink:href=\"#m2f3f4df4ad\" y=\"56.618182\"/>\r\n     <use style=\"fill:#4c4c4c;stroke:#4c4c4c;stroke-linejoin:miter;\" x=\"50.142587\" xlink:href=\"#m2f3f4df4ad\" y=\"56.618182\"/>\r\n     <use style=\"fill:#4c4c4c;stroke:#4c4c4c;stroke-linejoin:miter;\" x=\"50.316016\" xlink:href=\"#m2f3f4df4ad\" y=\"56.618182\"/>\r\n     <use style=\"fill:#4c4c4c;stroke:#4c4c4c;stroke-linejoin:miter;\" x=\"51.619558\" xlink:href=\"#m2f3f4df4ad\" y=\"56.618182\"/>\r\n     <use style=\"fill:#4c4c4c;stroke:#4c4c4c;stroke-linejoin:miter;\" x=\"56.359751\" xlink:href=\"#m2f3f4df4ad\" y=\"56.618182\"/>\r\n     <use style=\"fill:#4c4c4c;stroke:#4c4c4c;stroke-linejoin:miter;\" x=\"51.961042\" xlink:href=\"#m2f3f4df4ad\" y=\"56.618182\"/>\r\n     <use style=\"fill:#4c4c4c;stroke:#4c4c4c;stroke-linejoin:miter;\" x=\"50.141033\" xlink:href=\"#m2f3f4df4ad\" y=\"56.618182\"/>\r\n     <use style=\"fill:#4c4c4c;stroke:#4c4c4c;stroke-linejoin:miter;\" x=\"50.667331\" xlink:href=\"#m2f3f4df4ad\" y=\"56.618182\"/>\r\n     <use style=\"fill:#4c4c4c;stroke:#4c4c4c;stroke-linejoin:miter;\" x=\"50.103973\" xlink:href=\"#m2f3f4df4ad\" y=\"56.618182\"/>\r\n     <use style=\"fill:#4c4c4c;stroke:#4c4c4c;stroke-linejoin:miter;\" x=\"50.209933\" xlink:href=\"#m2f3f4df4ad\" y=\"56.618182\"/>\r\n     <use style=\"fill:#4c4c4c;stroke:#4c4c4c;stroke-linejoin:miter;\" x=\"54.704799\" xlink:href=\"#m2f3f4df4ad\" y=\"56.618182\"/>\r\n     <use style=\"fill:#4c4c4c;stroke:#4c4c4c;stroke-linejoin:miter;\" x=\"50.164931\" xlink:href=\"#m2f3f4df4ad\" y=\"56.618182\"/>\r\n     <use style=\"fill:#4c4c4c;stroke:#4c4c4c;stroke-linejoin:miter;\" x=\"52.19611\" xlink:href=\"#m2f3f4df4ad\" y=\"56.618182\"/>\r\n     <use style=\"fill:#4c4c4c;stroke:#4c4c4c;stroke-linejoin:miter;\" x=\"52.738895\" xlink:href=\"#m2f3f4df4ad\" y=\"56.618182\"/>\r\n     <use style=\"fill:#4c4c4c;stroke:#4c4c4c;stroke-linejoin:miter;\" x=\"265.638171\" xlink:href=\"#m2f3f4df4ad\" y=\"56.618182\"/>\r\n     <use style=\"fill:#4c4c4c;stroke:#4c4c4c;stroke-linejoin:miter;\" x=\"57.373322\" xlink:href=\"#m2f3f4df4ad\" y=\"56.618182\"/>\r\n     <use style=\"fill:#4c4c4c;stroke:#4c4c4c;stroke-linejoin:miter;\" x=\"51.808884\" xlink:href=\"#m2f3f4df4ad\" y=\"56.618182\"/>\r\n     <use style=\"fill:#4c4c4c;stroke:#4c4c4c;stroke-linejoin:miter;\" x=\"51.71449\" xlink:href=\"#m2f3f4df4ad\" y=\"56.618182\"/>\r\n     <use style=\"fill:#4c4c4c;stroke:#4c4c4c;stroke-linejoin:miter;\" x=\"50.286225\" xlink:href=\"#m2f3f4df4ad\" y=\"56.618182\"/>\r\n     <use style=\"fill:#4c4c4c;stroke:#4c4c4c;stroke-linejoin:miter;\" x=\"50.423409\" xlink:href=\"#m2f3f4df4ad\" y=\"56.618182\"/>\r\n     <use style=\"fill:#4c4c4c;stroke:#4c4c4c;stroke-linejoin:miter;\" x=\"56.761458\" xlink:href=\"#m2f3f4df4ad\" y=\"56.618182\"/>\r\n     <use style=\"fill:#4c4c4c;stroke:#4c4c4c;stroke-linejoin:miter;\" x=\"51.065387\" xlink:href=\"#m2f3f4df4ad\" y=\"56.618182\"/>\r\n     <use style=\"fill:#4c4c4c;stroke:#4c4c4c;stroke-linejoin:miter;\" x=\"50.303298\" xlink:href=\"#m2f3f4df4ad\" y=\"56.618182\"/>\r\n     <use style=\"fill:#4c4c4c;stroke:#4c4c4c;stroke-linejoin:miter;\" x=\"50.165264\" xlink:href=\"#m2f3f4df4ad\" y=\"56.618182\"/>\r\n     <use style=\"fill:#4c4c4c;stroke:#4c4c4c;stroke-linejoin:miter;\" x=\"50.102939\" xlink:href=\"#m2f3f4df4ad\" y=\"56.618182\"/>\r\n     <use style=\"fill:#4c4c4c;stroke:#4c4c4c;stroke-linejoin:miter;\" x=\"52.779897\" xlink:href=\"#m2f3f4df4ad\" y=\"56.618182\"/>\r\n     <use style=\"fill:#4c4c4c;stroke:#4c4c4c;stroke-linejoin:miter;\" x=\"51.454956\" xlink:href=\"#m2f3f4df4ad\" y=\"56.618182\"/>\r\n     <use style=\"fill:#4c4c4c;stroke:#4c4c4c;stroke-linejoin:miter;\" x=\"50.19569\" xlink:href=\"#m2f3f4df4ad\" y=\"56.618182\"/>\r\n     <use style=\"fill:#4c4c4c;stroke:#4c4c4c;stroke-linejoin:miter;\" x=\"50.161907\" xlink:href=\"#m2f3f4df4ad\" y=\"56.618182\"/>\r\n     <use style=\"fill:#4c4c4c;stroke:#4c4c4c;stroke-linejoin:miter;\" x=\"50.222466\" xlink:href=\"#m2f3f4df4ad\" y=\"56.618182\"/>\r\n     <use style=\"fill:#4c4c4c;stroke:#4c4c4c;stroke-linejoin:miter;\" x=\"50.132177\" xlink:href=\"#m2f3f4df4ad\" y=\"56.618182\"/>\r\n     <use style=\"fill:#4c4c4c;stroke:#4c4c4c;stroke-linejoin:miter;\" x=\"50.111358\" xlink:href=\"#m2f3f4df4ad\" y=\"56.618182\"/>\r\n     <use style=\"fill:#4c4c4c;stroke:#4c4c4c;stroke-linejoin:miter;\" x=\"51.930803\" xlink:href=\"#m2f3f4df4ad\" y=\"56.618182\"/>\r\n     <use style=\"fill:#4c4c4c;stroke:#4c4c4c;stroke-linejoin:miter;\" x=\"50.101818\" xlink:href=\"#m2f3f4df4ad\" y=\"56.618182\"/>\r\n     <use style=\"fill:#4c4c4c;stroke:#4c4c4c;stroke-linejoin:miter;\" x=\"51.467662\" xlink:href=\"#m2f3f4df4ad\" y=\"56.618182\"/>\r\n     <use style=\"fill:#4c4c4c;stroke:#4c4c4c;stroke-linejoin:miter;\" x=\"55.412711\" xlink:href=\"#m2f3f4df4ad\" y=\"56.618182\"/>\r\n     <use style=\"fill:#4c4c4c;stroke:#4c4c4c;stroke-linejoin:miter;\" x=\"52.953309\" xlink:href=\"#m2f3f4df4ad\" y=\"56.618182\"/>\r\n     <use style=\"fill:#4c4c4c;stroke:#4c4c4c;stroke-linejoin:miter;\" x=\"111.648394\" xlink:href=\"#m2f3f4df4ad\" y=\"56.618182\"/>\r\n     <use style=\"fill:#4c4c4c;stroke:#4c4c4c;stroke-linejoin:miter;\" x=\"55.233777\" xlink:href=\"#m2f3f4df4ad\" y=\"56.618182\"/>\r\n     <use style=\"fill:#4c4c4c;stroke:#4c4c4c;stroke-linejoin:miter;\" x=\"50.139557\" xlink:href=\"#m2f3f4df4ad\" y=\"56.618182\"/>\r\n     <use style=\"fill:#4c4c4c;stroke:#4c4c4c;stroke-linejoin:miter;\" x=\"50.170138\" xlink:href=\"#m2f3f4df4ad\" y=\"56.618182\"/>\r\n     <use style=\"fill:#4c4c4c;stroke:#4c4c4c;stroke-linejoin:miter;\" x=\"50.58732\" xlink:href=\"#m2f3f4df4ad\" y=\"56.618182\"/>\r\n     <use style=\"fill:#4c4c4c;stroke:#4c4c4c;stroke-linejoin:miter;\" x=\"50.965215\" xlink:href=\"#m2f3f4df4ad\" y=\"56.618182\"/>\r\n     <use style=\"fill:#4c4c4c;stroke:#4c4c4c;stroke-linejoin:miter;\" x=\"50.151641\" xlink:href=\"#m2f3f4df4ad\" y=\"56.618182\"/>\r\n     <use style=\"fill:#4c4c4c;stroke:#4c4c4c;stroke-linejoin:miter;\" x=\"50.123512\" xlink:href=\"#m2f3f4df4ad\" y=\"56.618182\"/>\r\n     <use style=\"fill:#4c4c4c;stroke:#4c4c4c;stroke-linejoin:miter;\" x=\"50.120124\" xlink:href=\"#m2f3f4df4ad\" y=\"56.618182\"/>\r\n     <use style=\"fill:#4c4c4c;stroke:#4c4c4c;stroke-linejoin:miter;\" x=\"51.333527\" xlink:href=\"#m2f3f4df4ad\" y=\"56.618182\"/>\r\n     <use style=\"fill:#4c4c4c;stroke:#4c4c4c;stroke-linejoin:miter;\" x=\"50.099309\" xlink:href=\"#m2f3f4df4ad\" y=\"56.618182\"/>\r\n     <use style=\"fill:#4c4c4c;stroke:#4c4c4c;stroke-linejoin:miter;\" x=\"50.165317\" xlink:href=\"#m2f3f4df4ad\" y=\"56.618182\"/>\r\n     <use style=\"fill:#4c4c4c;stroke:#4c4c4c;stroke-linejoin:miter;\" x=\"50.311861\" xlink:href=\"#m2f3f4df4ad\" y=\"56.618182\"/>\r\n     <use style=\"fill:#4c4c4c;stroke:#4c4c4c;stroke-linejoin:miter;\" x=\"50.28337\" xlink:href=\"#m2f3f4df4ad\" y=\"56.618182\"/>\r\n     <use style=\"fill:#4c4c4c;stroke:#4c4c4c;stroke-linejoin:miter;\" x=\"50.982807\" xlink:href=\"#m2f3f4df4ad\" y=\"56.618182\"/>\r\n     <use style=\"fill:#4c4c4c;stroke:#4c4c4c;stroke-linejoin:miter;\" x=\"136.885154\" xlink:href=\"#m2f3f4df4ad\" y=\"56.618182\"/>\r\n     <use style=\"fill:#4c4c4c;stroke:#4c4c4c;stroke-linejoin:miter;\" x=\"50.118622\" xlink:href=\"#m2f3f4df4ad\" y=\"56.618182\"/>\r\n     <use style=\"fill:#4c4c4c;stroke:#4c4c4c;stroke-linejoin:miter;\" x=\"67.724194\" xlink:href=\"#m2f3f4df4ad\" y=\"56.618182\"/>\r\n     <use style=\"fill:#4c4c4c;stroke:#4c4c4c;stroke-linejoin:miter;\" x=\"50.098646\" xlink:href=\"#m2f3f4df4ad\" y=\"56.618182\"/>\r\n     <use style=\"fill:#4c4c4c;stroke:#4c4c4c;stroke-linejoin:miter;\" x=\"50.101144\" xlink:href=\"#m2f3f4df4ad\" y=\"56.618182\"/>\r\n     <use style=\"fill:#4c4c4c;stroke:#4c4c4c;stroke-linejoin:miter;\" x=\"50.540483\" xlink:href=\"#m2f3f4df4ad\" y=\"56.618182\"/>\r\n     <use style=\"fill:#4c4c4c;stroke:#4c4c4c;stroke-linejoin:miter;\" x=\"68.69454\" xlink:href=\"#m2f3f4df4ad\" y=\"56.618182\"/>\r\n     <use style=\"fill:#4c4c4c;stroke:#4c4c4c;stroke-linejoin:miter;\" x=\"51.952182\" xlink:href=\"#m2f3f4df4ad\" y=\"56.618182\"/>\r\n     <use style=\"fill:#4c4c4c;stroke:#4c4c4c;stroke-linejoin:miter;\" x=\"60.223153\" xlink:href=\"#m2f3f4df4ad\" y=\"56.618182\"/>\r\n     <use style=\"fill:#4c4c4c;stroke:#4c4c4c;stroke-linejoin:miter;\" x=\"50.197367\" xlink:href=\"#m2f3f4df4ad\" y=\"56.618182\"/>\r\n     <use style=\"fill:#4c4c4c;stroke:#4c4c4c;stroke-linejoin:miter;\" x=\"51.405667\" xlink:href=\"#m2f3f4df4ad\" y=\"56.618182\"/>\r\n     <use style=\"fill:#4c4c4c;stroke:#4c4c4c;stroke-linejoin:miter;\" x=\"50.195808\" xlink:href=\"#m2f3f4df4ad\" y=\"56.618182\"/>\r\n     <use style=\"fill:#4c4c4c;stroke:#4c4c4c;stroke-linejoin:miter;\" x=\"50.144111\" xlink:href=\"#m2f3f4df4ad\" y=\"56.618182\"/>\r\n     <use style=\"fill:#4c4c4c;stroke:#4c4c4c;stroke-linejoin:miter;\" x=\"50.262734\" xlink:href=\"#m2f3f4df4ad\" y=\"56.618182\"/>\r\n     <use style=\"fill:#4c4c4c;stroke:#4c4c4c;stroke-linejoin:miter;\" x=\"50.111032\" xlink:href=\"#m2f3f4df4ad\" y=\"56.618182\"/>\r\n     <use style=\"fill:#4c4c4c;stroke:#4c4c4c;stroke-linejoin:miter;\" x=\"50.194986\" xlink:href=\"#m2f3f4df4ad\" y=\"56.618182\"/>\r\n     <use style=\"fill:#4c4c4c;stroke:#4c4c4c;stroke-linejoin:miter;\" x=\"56.015711\" xlink:href=\"#m2f3f4df4ad\" y=\"56.618182\"/>\r\n     <use style=\"fill:#4c4c4c;stroke:#4c4c4c;stroke-linejoin:miter;\" x=\"50.140931\" xlink:href=\"#m2f3f4df4ad\" y=\"56.618182\"/>\r\n     <use style=\"fill:#4c4c4c;stroke:#4c4c4c;stroke-linejoin:miter;\" x=\"52.853802\" xlink:href=\"#m2f3f4df4ad\" y=\"56.618182\"/>\r\n     <use style=\"fill:#4c4c4c;stroke:#4c4c4c;stroke-linejoin:miter;\" x=\"50.31671\" xlink:href=\"#m2f3f4df4ad\" y=\"56.618182\"/>\r\n     <use style=\"fill:#4c4c4c;stroke:#4c4c4c;stroke-linejoin:miter;\" x=\"50.225131\" xlink:href=\"#m2f3f4df4ad\" y=\"56.618182\"/>\r\n     <use style=\"fill:#4c4c4c;stroke:#4c4c4c;stroke-linejoin:miter;\" x=\"50.18691\" xlink:href=\"#m2f3f4df4ad\" y=\"56.618182\"/>\r\n     <use style=\"fill:#4c4c4c;stroke:#4c4c4c;stroke-linejoin:miter;\" x=\"50.101122\" xlink:href=\"#m2f3f4df4ad\" y=\"56.618182\"/>\r\n     <use style=\"fill:#4c4c4c;stroke:#4c4c4c;stroke-linejoin:miter;\" x=\"51.432829\" xlink:href=\"#m2f3f4df4ad\" y=\"56.618182\"/>\r\n     <use style=\"fill:#4c4c4c;stroke:#4c4c4c;stroke-linejoin:miter;\" x=\"50.895318\" xlink:href=\"#m2f3f4df4ad\" y=\"56.618182\"/>\r\n     <use style=\"fill:#4c4c4c;stroke:#4c4c4c;stroke-linejoin:miter;\" x=\"50.923558\" xlink:href=\"#m2f3f4df4ad\" y=\"56.618182\"/>\r\n     <use style=\"fill:#4c4c4c;stroke:#4c4c4c;stroke-linejoin:miter;\" x=\"50.345529\" xlink:href=\"#m2f3f4df4ad\" y=\"56.618182\"/>\r\n     <use style=\"fill:#4c4c4c;stroke:#4c4c4c;stroke-linejoin:miter;\" x=\"50.13037\" xlink:href=\"#m2f3f4df4ad\" y=\"56.618182\"/>\r\n     <use style=\"fill:#4c4c4c;stroke:#4c4c4c;stroke-linejoin:miter;\" x=\"50.110289\" xlink:href=\"#m2f3f4df4ad\" y=\"56.618182\"/>\r\n     <use style=\"fill:#4c4c4c;stroke:#4c4c4c;stroke-linejoin:miter;\" x=\"50.111339\" xlink:href=\"#m2f3f4df4ad\" y=\"56.618182\"/>\r\n     <use style=\"fill:#4c4c4c;stroke:#4c4c4c;stroke-linejoin:miter;\" x=\"50.287147\" xlink:href=\"#m2f3f4df4ad\" y=\"56.618182\"/>\r\n     <use style=\"fill:#4c4c4c;stroke:#4c4c4c;stroke-linejoin:miter;\" x=\"51.621021\" xlink:href=\"#m2f3f4df4ad\" y=\"56.618182\"/>\r\n     <use style=\"fill:#4c4c4c;stroke:#4c4c4c;stroke-linejoin:miter;\" x=\"50.573131\" xlink:href=\"#m2f3f4df4ad\" y=\"56.618182\"/>\r\n     <use style=\"fill:#4c4c4c;stroke:#4c4c4c;stroke-linejoin:miter;\" x=\"50.148371\" xlink:href=\"#m2f3f4df4ad\" y=\"56.618182\"/>\r\n     <use style=\"fill:#4c4c4c;stroke:#4c4c4c;stroke-linejoin:miter;\" x=\"51.163576\" xlink:href=\"#m2f3f4df4ad\" y=\"56.618182\"/>\r\n     <use style=\"fill:#4c4c4c;stroke:#4c4c4c;stroke-linejoin:miter;\" x=\"50.618514\" xlink:href=\"#m2f3f4df4ad\" y=\"56.618182\"/>\r\n     <use style=\"fill:#4c4c4c;stroke:#4c4c4c;stroke-linejoin:miter;\" x=\"51.590518\" xlink:href=\"#m2f3f4df4ad\" y=\"56.618182\"/>\r\n     <use style=\"fill:#4c4c4c;stroke:#4c4c4c;stroke-linejoin:miter;\" x=\"55.03363\" xlink:href=\"#m2f3f4df4ad\" y=\"56.618182\"/>\r\n     <use style=\"fill:#4c4c4c;stroke:#4c4c4c;stroke-linejoin:miter;\" x=\"50.185103\" xlink:href=\"#m2f3f4df4ad\" y=\"56.618182\"/>\r\n     <use style=\"fill:#4c4c4c;stroke:#4c4c4c;stroke-linejoin:miter;\" x=\"50.56271\" xlink:href=\"#m2f3f4df4ad\" y=\"56.618182\"/>\r\n     <use style=\"fill:#4c4c4c;stroke:#4c4c4c;stroke-linejoin:miter;\" x=\"50.422861\" xlink:href=\"#m2f3f4df4ad\" y=\"56.618182\"/>\r\n     <use style=\"fill:#4c4c4c;stroke:#4c4c4c;stroke-linejoin:miter;\" x=\"50.224299\" xlink:href=\"#m2f3f4df4ad\" y=\"56.618182\"/>\r\n     <use style=\"fill:#4c4c4c;stroke:#4c4c4c;stroke-linejoin:miter;\" x=\"50.30443\" xlink:href=\"#m2f3f4df4ad\" y=\"56.618182\"/>\r\n     <use style=\"fill:#4c4c4c;stroke:#4c4c4c;stroke-linejoin:miter;\" x=\"50.210146\" xlink:href=\"#m2f3f4df4ad\" y=\"56.618182\"/>\r\n     <use style=\"fill:#4c4c4c;stroke:#4c4c4c;stroke-linejoin:miter;\" x=\"50.09669\" xlink:href=\"#m2f3f4df4ad\" y=\"56.618182\"/>\r\n     <use style=\"fill:#4c4c4c;stroke:#4c4c4c;stroke-linejoin:miter;\" x=\"118.000933\" xlink:href=\"#m2f3f4df4ad\" y=\"56.618182\"/>\r\n     <use style=\"fill:#4c4c4c;stroke:#4c4c4c;stroke-linejoin:miter;\" x=\"50.168105\" xlink:href=\"#m2f3f4df4ad\" y=\"56.618182\"/>\r\n     <use style=\"fill:#4c4c4c;stroke:#4c4c4c;stroke-linejoin:miter;\" x=\"50.135817\" xlink:href=\"#m2f3f4df4ad\" y=\"56.618182\"/>\r\n     <use style=\"fill:#4c4c4c;stroke:#4c4c4c;stroke-linejoin:miter;\" x=\"50.110312\" xlink:href=\"#m2f3f4df4ad\" y=\"56.618182\"/>\r\n     <use style=\"fill:#4c4c4c;stroke:#4c4c4c;stroke-linejoin:miter;\" x=\"50.096914\" xlink:href=\"#m2f3f4df4ad\" y=\"56.618182\"/>\r\n     <use style=\"fill:#4c4c4c;stroke:#4c4c4c;stroke-linejoin:miter;\" x=\"50.231755\" xlink:href=\"#m2f3f4df4ad\" y=\"56.618182\"/>\r\n     <use style=\"fill:#4c4c4c;stroke:#4c4c4c;stroke-linejoin:miter;\" x=\"50.213581\" xlink:href=\"#m2f3f4df4ad\" y=\"56.618182\"/>\r\n     <use style=\"fill:#4c4c4c;stroke:#4c4c4c;stroke-linejoin:miter;\" x=\"50.133676\" xlink:href=\"#m2f3f4df4ad\" y=\"56.618182\"/>\r\n     <use style=\"fill:#4c4c4c;stroke:#4c4c4c;stroke-linejoin:miter;\" x=\"50.654615\" xlink:href=\"#m2f3f4df4ad\" y=\"56.618182\"/>\r\n     <use style=\"fill:#4c4c4c;stroke:#4c4c4c;stroke-linejoin:miter;\" x=\"51.320681\" xlink:href=\"#m2f3f4df4ad\" y=\"56.618182\"/>\r\n     <use style=\"fill:#4c4c4c;stroke:#4c4c4c;stroke-linejoin:miter;\" x=\"50.22096\" xlink:href=\"#m2f3f4df4ad\" y=\"56.618182\"/>\r\n     <use style=\"fill:#4c4c4c;stroke:#4c4c4c;stroke-linejoin:miter;\" x=\"50.107432\" xlink:href=\"#m2f3f4df4ad\" y=\"56.618182\"/>\r\n     <use style=\"fill:#4c4c4c;stroke:#4c4c4c;stroke-linejoin:miter;\" x=\"51.326523\" xlink:href=\"#m2f3f4df4ad\" y=\"56.618182\"/>\r\n     <use style=\"fill:#4c4c4c;stroke:#4c4c4c;stroke-linejoin:miter;\" x=\"83.850572\" xlink:href=\"#m2f3f4df4ad\" y=\"56.618182\"/>\r\n     <use style=\"fill:#4c4c4c;stroke:#4c4c4c;stroke-linejoin:miter;\" x=\"50.220229\" xlink:href=\"#m2f3f4df4ad\" y=\"56.618182\"/>\r\n     <use style=\"fill:#4c4c4c;stroke:#4c4c4c;stroke-linejoin:miter;\" x=\"50.484081\" xlink:href=\"#m2f3f4df4ad\" y=\"56.618182\"/>\r\n     <use style=\"fill:#4c4c4c;stroke:#4c4c4c;stroke-linejoin:miter;\" x=\"50.173935\" xlink:href=\"#m2f3f4df4ad\" y=\"56.618182\"/>\r\n     <use style=\"fill:#4c4c4c;stroke:#4c4c4c;stroke-linejoin:miter;\" x=\"50.805515\" xlink:href=\"#m2f3f4df4ad\" y=\"56.618182\"/>\r\n     <use style=\"fill:#4c4c4c;stroke:#4c4c4c;stroke-linejoin:miter;\" x=\"50.118913\" xlink:href=\"#m2f3f4df4ad\" y=\"56.618182\"/>\r\n     <use style=\"fill:#4c4c4c;stroke:#4c4c4c;stroke-linejoin:miter;\" x=\"50.166131\" xlink:href=\"#m2f3f4df4ad\" y=\"56.618182\"/>\r\n     <use style=\"fill:#4c4c4c;stroke:#4c4c4c;stroke-linejoin:miter;\" x=\"61.154455\" xlink:href=\"#m2f3f4df4ad\" y=\"56.618182\"/>\r\n     <use style=\"fill:#4c4c4c;stroke:#4c4c4c;stroke-linejoin:miter;\" x=\"50.389735\" xlink:href=\"#m2f3f4df4ad\" y=\"56.618182\"/>\r\n     <use style=\"fill:#4c4c4c;stroke:#4c4c4c;stroke-linejoin:miter;\" x=\"57.344333\" xlink:href=\"#m2f3f4df4ad\" y=\"56.618182\"/>\r\n     <use style=\"fill:#4c4c4c;stroke:#4c4c4c;stroke-linejoin:miter;\" x=\"50.238305\" xlink:href=\"#m2f3f4df4ad\" y=\"56.618182\"/>\r\n     <use style=\"fill:#4c4c4c;stroke:#4c4c4c;stroke-linejoin:miter;\" x=\"50.166227\" xlink:href=\"#m2f3f4df4ad\" y=\"56.618182\"/>\r\n     <use style=\"fill:#4c4c4c;stroke:#4c4c4c;stroke-linejoin:miter;\" x=\"50.096824\" xlink:href=\"#m2f3f4df4ad\" y=\"56.618182\"/>\r\n     <use style=\"fill:#4c4c4c;stroke:#4c4c4c;stroke-linejoin:miter;\" x=\"54.532514\" xlink:href=\"#m2f3f4df4ad\" y=\"56.618182\"/>\r\n     <use style=\"fill:#4c4c4c;stroke:#4c4c4c;stroke-linejoin:miter;\" x=\"53.121869\" xlink:href=\"#m2f3f4df4ad\" y=\"56.618182\"/>\r\n     <use style=\"fill:#4c4c4c;stroke:#4c4c4c;stroke-linejoin:miter;\" x=\"50.104687\" xlink:href=\"#m2f3f4df4ad\" y=\"56.618182\"/>\r\n     <use style=\"fill:#4c4c4c;stroke:#4c4c4c;stroke-linejoin:miter;\" x=\"50.14869\" xlink:href=\"#m2f3f4df4ad\" y=\"56.618182\"/>\r\n     <use style=\"fill:#4c4c4c;stroke:#4c4c4c;stroke-linejoin:miter;\" x=\"58.99742\" xlink:href=\"#m2f3f4df4ad\" y=\"56.618182\"/>\r\n     <use style=\"fill:#4c4c4c;stroke:#4c4c4c;stroke-linejoin:miter;\" x=\"51.463607\" xlink:href=\"#m2f3f4df4ad\" y=\"56.618182\"/>\r\n     <use style=\"fill:#4c4c4c;stroke:#4c4c4c;stroke-linejoin:miter;\" x=\"50.303809\" xlink:href=\"#m2f3f4df4ad\" y=\"56.618182\"/>\r\n     <use style=\"fill:#4c4c4c;stroke:#4c4c4c;stroke-linejoin:miter;\" x=\"52.30022\" xlink:href=\"#m2f3f4df4ad\" y=\"56.618182\"/>\r\n     <use style=\"fill:#4c4c4c;stroke:#4c4c4c;stroke-linejoin:miter;\" x=\"50.521208\" xlink:href=\"#m2f3f4df4ad\" y=\"56.618182\"/>\r\n     <use style=\"fill:#4c4c4c;stroke:#4c4c4c;stroke-linejoin:miter;\" x=\"50.516184\" xlink:href=\"#m2f3f4df4ad\" y=\"56.618182\"/>\r\n     <use style=\"fill:#4c4c4c;stroke:#4c4c4c;stroke-linejoin:miter;\" x=\"50.212287\" xlink:href=\"#m2f3f4df4ad\" y=\"56.618182\"/>\r\n     <use style=\"fill:#4c4c4c;stroke:#4c4c4c;stroke-linejoin:miter;\" x=\"50.096104\" xlink:href=\"#m2f3f4df4ad\" y=\"56.618182\"/>\r\n     <use style=\"fill:#4c4c4c;stroke:#4c4c4c;stroke-linejoin:miter;\" x=\"50.630176\" xlink:href=\"#m2f3f4df4ad\" y=\"56.618182\"/>\r\n     <use style=\"fill:#4c4c4c;stroke:#4c4c4c;stroke-linejoin:miter;\" x=\"50.152056\" xlink:href=\"#m2f3f4df4ad\" y=\"56.618182\"/>\r\n     <use style=\"fill:#4c4c4c;stroke:#4c4c4c;stroke-linejoin:miter;\" x=\"50.456344\" xlink:href=\"#m2f3f4df4ad\" y=\"56.618182\"/>\r\n     <use style=\"fill:#4c4c4c;stroke:#4c4c4c;stroke-linejoin:miter;\" x=\"52.483586\" xlink:href=\"#m2f3f4df4ad\" y=\"56.618182\"/>\r\n     <use style=\"fill:#4c4c4c;stroke:#4c4c4c;stroke-linejoin:miter;\" x=\"50.107231\" xlink:href=\"#m2f3f4df4ad\" y=\"56.618182\"/>\r\n     <use style=\"fill:#4c4c4c;stroke:#4c4c4c;stroke-linejoin:miter;\" x=\"50.095491\" xlink:href=\"#m2f3f4df4ad\" y=\"56.618182\"/>\r\n     <use style=\"fill:#4c4c4c;stroke:#4c4c4c;stroke-linejoin:miter;\" x=\"51.20265\" xlink:href=\"#m2f3f4df4ad\" y=\"56.618182\"/>\r\n     <use style=\"fill:#4c4c4c;stroke:#4c4c4c;stroke-linejoin:miter;\" x=\"50.633627\" xlink:href=\"#m2f3f4df4ad\" y=\"56.618182\"/>\r\n     <use style=\"fill:#4c4c4c;stroke:#4c4c4c;stroke-linejoin:miter;\" x=\"50.797535\" xlink:href=\"#m2f3f4df4ad\" y=\"56.618182\"/>\r\n     <use style=\"fill:#4c4c4c;stroke:#4c4c4c;stroke-linejoin:miter;\" x=\"50.095597\" xlink:href=\"#m2f3f4df4ad\" y=\"56.618182\"/>\r\n     <use style=\"fill:#4c4c4c;stroke:#4c4c4c;stroke-linejoin:miter;\" x=\"50.105391\" xlink:href=\"#m2f3f4df4ad\" y=\"56.618182\"/>\r\n     <use style=\"fill:#4c4c4c;stroke:#4c4c4c;stroke-linejoin:miter;\" x=\"50.429778\" xlink:href=\"#m2f3f4df4ad\" y=\"56.618182\"/>\r\n     <use style=\"fill:#4c4c4c;stroke:#4c4c4c;stroke-linejoin:miter;\" x=\"51.345439\" xlink:href=\"#m2f3f4df4ad\" y=\"56.618182\"/>\r\n     <use style=\"fill:#4c4c4c;stroke:#4c4c4c;stroke-linejoin:miter;\" x=\"50.122366\" xlink:href=\"#m2f3f4df4ad\" y=\"56.618182\"/>\r\n     <use style=\"fill:#4c4c4c;stroke:#4c4c4c;stroke-linejoin:miter;\" x=\"50.195354\" xlink:href=\"#m2f3f4df4ad\" y=\"56.618182\"/>\r\n     <use style=\"fill:#4c4c4c;stroke:#4c4c4c;stroke-linejoin:miter;\" x=\"50.151394\" xlink:href=\"#m2f3f4df4ad\" y=\"56.618182\"/>\r\n     <use style=\"fill:#4c4c4c;stroke:#4c4c4c;stroke-linejoin:miter;\" x=\"50.114666\" xlink:href=\"#m2f3f4df4ad\" y=\"56.618182\"/>\r\n     <use style=\"fill:#4c4c4c;stroke:#4c4c4c;stroke-linejoin:miter;\" x=\"50.620207\" xlink:href=\"#m2f3f4df4ad\" y=\"56.618182\"/>\r\n     <use style=\"fill:#4c4c4c;stroke:#4c4c4c;stroke-linejoin:miter;\" x=\"50.178695\" xlink:href=\"#m2f3f4df4ad\" y=\"56.618182\"/>\r\n     <use style=\"fill:#4c4c4c;stroke:#4c4c4c;stroke-linejoin:miter;\" x=\"50.237371\" xlink:href=\"#m2f3f4df4ad\" y=\"56.618182\"/>\r\n     <use style=\"fill:#4c4c4c;stroke:#4c4c4c;stroke-linejoin:miter;\" x=\"50.140817\" xlink:href=\"#m2f3f4df4ad\" y=\"56.618182\"/>\r\n     <use style=\"fill:#4c4c4c;stroke:#4c4c4c;stroke-linejoin:miter;\" x=\"52.413719\" xlink:href=\"#m2f3f4df4ad\" y=\"56.618182\"/>\r\n     <use style=\"fill:#4c4c4c;stroke:#4c4c4c;stroke-linejoin:miter;\" x=\"50.259776\" xlink:href=\"#m2f3f4df4ad\" y=\"56.618182\"/>\r\n     <use style=\"fill:#4c4c4c;stroke:#4c4c4c;stroke-linejoin:miter;\" x=\"52.514443\" xlink:href=\"#m2f3f4df4ad\" y=\"56.618182\"/>\r\n     <use style=\"fill:#4c4c4c;stroke:#4c4c4c;stroke-linejoin:miter;\" x=\"57.318713\" xlink:href=\"#m2f3f4df4ad\" y=\"56.618182\"/>\r\n     <use style=\"fill:#4c4c4c;stroke:#4c4c4c;stroke-linejoin:miter;\" x=\"52.027471\" xlink:href=\"#m2f3f4df4ad\" y=\"56.618182\"/>\r\n     <use style=\"fill:#4c4c4c;stroke:#4c4c4c;stroke-linejoin:miter;\" x=\"51.826713\" xlink:href=\"#m2f3f4df4ad\" y=\"56.618182\"/>\r\n     <use style=\"fill:#4c4c4c;stroke:#4c4c4c;stroke-linejoin:miter;\" x=\"52.904683\" xlink:href=\"#m2f3f4df4ad\" y=\"56.618182\"/>\r\n     <use style=\"fill:#4c4c4c;stroke:#4c4c4c;stroke-linejoin:miter;\" x=\"66.437669\" xlink:href=\"#m2f3f4df4ad\" y=\"56.618182\"/>\r\n     <use style=\"fill:#4c4c4c;stroke:#4c4c4c;stroke-linejoin:miter;\" x=\"50.955175\" xlink:href=\"#m2f3f4df4ad\" y=\"56.618182\"/>\r\n     <use style=\"fill:#4c4c4c;stroke:#4c4c4c;stroke-linejoin:miter;\" x=\"55.899166\" xlink:href=\"#m2f3f4df4ad\" y=\"56.618182\"/>\r\n     <use style=\"fill:#4c4c4c;stroke:#4c4c4c;stroke-linejoin:miter;\" x=\"50.752883\" xlink:href=\"#m2f3f4df4ad\" y=\"56.618182\"/>\r\n     <use style=\"fill:#4c4c4c;stroke:#4c4c4c;stroke-linejoin:miter;\" x=\"50.152178\" xlink:href=\"#m2f3f4df4ad\" y=\"56.618182\"/>\r\n     <use style=\"fill:#4c4c4c;stroke:#4c4c4c;stroke-linejoin:miter;\" x=\"50.168315\" xlink:href=\"#m2f3f4df4ad\" y=\"56.618182\"/>\r\n     <use style=\"fill:#4c4c4c;stroke:#4c4c4c;stroke-linejoin:miter;\" x=\"50.134944\" xlink:href=\"#m2f3f4df4ad\" y=\"56.618182\"/>\r\n     <use style=\"fill:#4c4c4c;stroke:#4c4c4c;stroke-linejoin:miter;\" x=\"50.15659\" xlink:href=\"#m2f3f4df4ad\" y=\"56.618182\"/>\r\n     <use style=\"fill:#4c4c4c;stroke:#4c4c4c;stroke-linejoin:miter;\" x=\"51.124988\" xlink:href=\"#m2f3f4df4ad\" y=\"56.618182\"/>\r\n     <use style=\"fill:#4c4c4c;stroke:#4c4c4c;stroke-linejoin:miter;\" x=\"50.265038\" xlink:href=\"#m2f3f4df4ad\" y=\"56.618182\"/>\r\n     <use style=\"fill:#4c4c4c;stroke:#4c4c4c;stroke-linejoin:miter;\" x=\"50.159884\" xlink:href=\"#m2f3f4df4ad\" y=\"56.618182\"/>\r\n     <use style=\"fill:#4c4c4c;stroke:#4c4c4c;stroke-linejoin:miter;\" x=\"50.113659\" xlink:href=\"#m2f3f4df4ad\" y=\"56.618182\"/>\r\n     <use style=\"fill:#4c4c4c;stroke:#4c4c4c;stroke-linejoin:miter;\" x=\"50.298707\" xlink:href=\"#m2f3f4df4ad\" y=\"56.618182\"/>\r\n     <use style=\"fill:#4c4c4c;stroke:#4c4c4c;stroke-linejoin:miter;\" x=\"50.099085\" xlink:href=\"#m2f3f4df4ad\" y=\"56.618182\"/>\r\n     <use style=\"fill:#4c4c4c;stroke:#4c4c4c;stroke-linejoin:miter;\" x=\"54.697176\" xlink:href=\"#m2f3f4df4ad\" y=\"56.618182\"/>\r\n     <use style=\"fill:#4c4c4c;stroke:#4c4c4c;stroke-linejoin:miter;\" x=\"50.360858\" xlink:href=\"#m2f3f4df4ad\" y=\"56.618182\"/>\r\n     <use style=\"fill:#4c4c4c;stroke:#4c4c4c;stroke-linejoin:miter;\" x=\"50.600964\" xlink:href=\"#m2f3f4df4ad\" y=\"56.618182\"/>\r\n     <use style=\"fill:#4c4c4c;stroke:#4c4c4c;stroke-linejoin:miter;\" x=\"50.170557\" xlink:href=\"#m2f3f4df4ad\" y=\"56.618182\"/>\r\n     <use style=\"fill:#4c4c4c;stroke:#4c4c4c;stroke-linejoin:miter;\" x=\"50.138023\" xlink:href=\"#m2f3f4df4ad\" y=\"56.618182\"/>\r\n     <use style=\"fill:#4c4c4c;stroke:#4c4c4c;stroke-linejoin:miter;\" x=\"50.148342\" xlink:href=\"#m2f3f4df4ad\" y=\"56.618182\"/>\r\n     <use style=\"fill:#4c4c4c;stroke:#4c4c4c;stroke-linejoin:miter;\" x=\"50.099812\" xlink:href=\"#m2f3f4df4ad\" y=\"56.618182\"/>\r\n     <use style=\"fill:#4c4c4c;stroke:#4c4c4c;stroke-linejoin:miter;\" x=\"50.639884\" xlink:href=\"#m2f3f4df4ad\" y=\"56.618182\"/>\r\n     <use style=\"fill:#4c4c4c;stroke:#4c4c4c;stroke-linejoin:miter;\" x=\"50.286942\" xlink:href=\"#m2f3f4df4ad\" y=\"56.618182\"/>\r\n     <use style=\"fill:#4c4c4c;stroke:#4c4c4c;stroke-linejoin:miter;\" x=\"50.947178\" xlink:href=\"#m2f3f4df4ad\" y=\"56.618182\"/>\r\n     <use style=\"fill:#4c4c4c;stroke:#4c4c4c;stroke-linejoin:miter;\" x=\"50.294831\" xlink:href=\"#m2f3f4df4ad\" y=\"56.618182\"/>\r\n     <use style=\"fill:#4c4c4c;stroke:#4c4c4c;stroke-linejoin:miter;\" x=\"50.448601\" xlink:href=\"#m2f3f4df4ad\" y=\"56.618182\"/>\r\n     <use style=\"fill:#4c4c4c;stroke:#4c4c4c;stroke-linejoin:miter;\" x=\"51.421118\" xlink:href=\"#m2f3f4df4ad\" y=\"56.618182\"/>\r\n     <use style=\"fill:#4c4c4c;stroke:#4c4c4c;stroke-linejoin:miter;\" x=\"50.184071\" xlink:href=\"#m2f3f4df4ad\" y=\"56.618182\"/>\r\n     <use style=\"fill:#4c4c4c;stroke:#4c4c4c;stroke-linejoin:miter;\" x=\"50.124922\" xlink:href=\"#m2f3f4df4ad\" y=\"56.618182\"/>\r\n     <use style=\"fill:#4c4c4c;stroke:#4c4c4c;stroke-linejoin:miter;\" x=\"50.100609\" xlink:href=\"#m2f3f4df4ad\" y=\"56.618182\"/>\r\n     <use style=\"fill:#4c4c4c;stroke:#4c4c4c;stroke-linejoin:miter;\" x=\"50.101515\" xlink:href=\"#m2f3f4df4ad\" y=\"56.618182\"/>\r\n     <use style=\"fill:#4c4c4c;stroke:#4c4c4c;stroke-linejoin:miter;\" x=\"50.269543\" xlink:href=\"#m2f3f4df4ad\" y=\"56.618182\"/>\r\n     <use style=\"fill:#4c4c4c;stroke:#4c4c4c;stroke-linejoin:miter;\" x=\"50.99942\" xlink:href=\"#m2f3f4df4ad\" y=\"56.618182\"/>\r\n     <use style=\"fill:#4c4c4c;stroke:#4c4c4c;stroke-linejoin:miter;\" x=\"50.359057\" xlink:href=\"#m2f3f4df4ad\" y=\"56.618182\"/>\r\n     <use style=\"fill:#4c4c4c;stroke:#4c4c4c;stroke-linejoin:miter;\" x=\"50.246901\" xlink:href=\"#m2f3f4df4ad\" y=\"56.618182\"/>\r\n     <use style=\"fill:#4c4c4c;stroke:#4c4c4c;stroke-linejoin:miter;\" x=\"50.104146\" xlink:href=\"#m2f3f4df4ad\" y=\"56.618182\"/>\r\n     <use style=\"fill:#4c4c4c;stroke:#4c4c4c;stroke-linejoin:miter;\" x=\"50.511791\" xlink:href=\"#m2f3f4df4ad\" y=\"56.618182\"/>\r\n     <use style=\"fill:#4c4c4c;stroke:#4c4c4c;stroke-linejoin:miter;\" x=\"75.925085\" xlink:href=\"#m2f3f4df4ad\" y=\"56.618182\"/>\r\n     <use style=\"fill:#4c4c4c;stroke:#4c4c4c;stroke-linejoin:miter;\" x=\"50.105692\" xlink:href=\"#m2f3f4df4ad\" y=\"56.618182\"/>\r\n     <use style=\"fill:#4c4c4c;stroke:#4c4c4c;stroke-linejoin:miter;\" x=\"50.126792\" xlink:href=\"#m2f3f4df4ad\" y=\"56.618182\"/>\r\n     <use style=\"fill:#4c4c4c;stroke:#4c4c4c;stroke-linejoin:miter;\" x=\"50.319962\" xlink:href=\"#m2f3f4df4ad\" y=\"56.618182\"/>\r\n     <use style=\"fill:#4c4c4c;stroke:#4c4c4c;stroke-linejoin:miter;\" x=\"50.09671\" xlink:href=\"#m2f3f4df4ad\" y=\"56.618182\"/>\r\n     <use style=\"fill:#4c4c4c;stroke:#4c4c4c;stroke-linejoin:miter;\" x=\"50.355481\" xlink:href=\"#m2f3f4df4ad\" y=\"56.618182\"/>\r\n     <use style=\"fill:#4c4c4c;stroke:#4c4c4c;stroke-linejoin:miter;\" x=\"50.873123\" xlink:href=\"#m2f3f4df4ad\" y=\"56.618182\"/>\r\n     <use style=\"fill:#4c4c4c;stroke:#4c4c4c;stroke-linejoin:miter;\" x=\"50.117953\" xlink:href=\"#m2f3f4df4ad\" y=\"56.618182\"/>\r\n     <use style=\"fill:#4c4c4c;stroke:#4c4c4c;stroke-linejoin:miter;\" x=\"50.118144\" xlink:href=\"#m2f3f4df4ad\" y=\"56.618182\"/>\r\n     <use style=\"fill:#4c4c4c;stroke:#4c4c4c;stroke-linejoin:miter;\" x=\"50.108144\" xlink:href=\"#m2f3f4df4ad\" y=\"56.618182\"/>\r\n     <use style=\"fill:#4c4c4c;stroke:#4c4c4c;stroke-linejoin:miter;\" x=\"50.126939\" xlink:href=\"#m2f3f4df4ad\" y=\"56.618182\"/>\r\n     <use style=\"fill:#4c4c4c;stroke:#4c4c4c;stroke-linejoin:miter;\" x=\"50.130162\" xlink:href=\"#m2f3f4df4ad\" y=\"56.618182\"/>\r\n     <use style=\"fill:#4c4c4c;stroke:#4c4c4c;stroke-linejoin:miter;\" x=\"51.391526\" xlink:href=\"#m2f3f4df4ad\" y=\"56.618182\"/>\r\n     <use style=\"fill:#4c4c4c;stroke:#4c4c4c;stroke-linejoin:miter;\" x=\"52.161564\" xlink:href=\"#m2f3f4df4ad\" y=\"56.618182\"/>\r\n     <use style=\"fill:#4c4c4c;stroke:#4c4c4c;stroke-linejoin:miter;\" x=\"50.153366\" xlink:href=\"#m2f3f4df4ad\" y=\"56.618182\"/>\r\n     <use style=\"fill:#4c4c4c;stroke:#4c4c4c;stroke-linejoin:miter;\" x=\"50.584455\" xlink:href=\"#m2f3f4df4ad\" y=\"56.618182\"/>\r\n     <use style=\"fill:#4c4c4c;stroke:#4c4c4c;stroke-linejoin:miter;\" x=\"50.164564\" xlink:href=\"#m2f3f4df4ad\" y=\"56.618182\"/>\r\n     <use style=\"fill:#4c4c4c;stroke:#4c4c4c;stroke-linejoin:miter;\" x=\"50.13048\" xlink:href=\"#m2f3f4df4ad\" y=\"56.618182\"/>\r\n     <use style=\"fill:#4c4c4c;stroke:#4c4c4c;stroke-linejoin:miter;\" x=\"50.154211\" xlink:href=\"#m2f3f4df4ad\" y=\"56.618182\"/>\r\n     <use style=\"fill:#4c4c4c;stroke:#4c4c4c;stroke-linejoin:miter;\" x=\"71.474271\" xlink:href=\"#m2f3f4df4ad\" y=\"56.618182\"/>\r\n     <use style=\"fill:#4c4c4c;stroke:#4c4c4c;stroke-linejoin:miter;\" x=\"50.180388\" xlink:href=\"#m2f3f4df4ad\" y=\"56.618182\"/>\r\n     <use style=\"fill:#4c4c4c;stroke:#4c4c4c;stroke-linejoin:miter;\" x=\"50.160391\" xlink:href=\"#m2f3f4df4ad\" y=\"56.618182\"/>\r\n     <use style=\"fill:#4c4c4c;stroke:#4c4c4c;stroke-linejoin:miter;\" x=\"50.943718\" xlink:href=\"#m2f3f4df4ad\" y=\"56.618182\"/>\r\n     <use style=\"fill:#4c4c4c;stroke:#4c4c4c;stroke-linejoin:miter;\" x=\"50.116396\" xlink:href=\"#m2f3f4df4ad\" y=\"56.618182\"/>\r\n     <use style=\"fill:#4c4c4c;stroke:#4c4c4c;stroke-linejoin:miter;\" x=\"50.177862\" xlink:href=\"#m2f3f4df4ad\" y=\"56.618182\"/>\r\n     <use style=\"fill:#4c4c4c;stroke:#4c4c4c;stroke-linejoin:miter;\" x=\"50.152282\" xlink:href=\"#m2f3f4df4ad\" y=\"56.618182\"/>\r\n     <use style=\"fill:#4c4c4c;stroke:#4c4c4c;stroke-linejoin:miter;\" x=\"50.228452\" xlink:href=\"#m2f3f4df4ad\" y=\"56.618182\"/>\r\n     <use style=\"fill:#4c4c4c;stroke:#4c4c4c;stroke-linejoin:miter;\" x=\"50.095652\" xlink:href=\"#m2f3f4df4ad\" y=\"56.618182\"/>\r\n     <use style=\"fill:#4c4c4c;stroke:#4c4c4c;stroke-linejoin:miter;\" x=\"50.876896\" xlink:href=\"#m2f3f4df4ad\" y=\"56.618182\"/>\r\n     <use style=\"fill:#4c4c4c;stroke:#4c4c4c;stroke-linejoin:miter;\" x=\"50.979323\" xlink:href=\"#m2f3f4df4ad\" y=\"56.618182\"/>\r\n     <use style=\"fill:#4c4c4c;stroke:#4c4c4c;stroke-linejoin:miter;\" x=\"50.127816\" xlink:href=\"#m2f3f4df4ad\" y=\"56.618182\"/>\r\n     <use style=\"fill:#4c4c4c;stroke:#4c4c4c;stroke-linejoin:miter;\" x=\"231.645025\" xlink:href=\"#m2f3f4df4ad\" y=\"56.618182\"/>\r\n     <use style=\"fill:#4c4c4c;stroke:#4c4c4c;stroke-linejoin:miter;\" x=\"50.164544\" xlink:href=\"#m2f3f4df4ad\" y=\"56.618182\"/>\r\n     <use style=\"fill:#4c4c4c;stroke:#4c4c4c;stroke-linejoin:miter;\" x=\"51.901934\" xlink:href=\"#m2f3f4df4ad\" y=\"56.618182\"/>\r\n     <use style=\"fill:#4c4c4c;stroke:#4c4c4c;stroke-linejoin:miter;\" x=\"50.132034\" xlink:href=\"#m2f3f4df4ad\" y=\"56.618182\"/>\r\n     <use style=\"fill:#4c4c4c;stroke:#4c4c4c;stroke-linejoin:miter;\" x=\"50.206652\" xlink:href=\"#m2f3f4df4ad\" y=\"56.618182\"/>\r\n     <use style=\"fill:#4c4c4c;stroke:#4c4c4c;stroke-linejoin:miter;\" x=\"50.410587\" xlink:href=\"#m2f3f4df4ad\" y=\"56.618182\"/>\r\n     <use style=\"fill:#4c4c4c;stroke:#4c4c4c;stroke-linejoin:miter;\" x=\"50.57099\" xlink:href=\"#m2f3f4df4ad\" y=\"56.618182\"/>\r\n     <use style=\"fill:#4c4c4c;stroke:#4c4c4c;stroke-linejoin:miter;\" x=\"50.161437\" xlink:href=\"#m2f3f4df4ad\" y=\"56.618182\"/>\r\n     <use style=\"fill:#4c4c4c;stroke:#4c4c4c;stroke-linejoin:miter;\" x=\"50.254239\" xlink:href=\"#m2f3f4df4ad\" y=\"56.618182\"/>\r\n     <use style=\"fill:#4c4c4c;stroke:#4c4c4c;stroke-linejoin:miter;\" x=\"50.105642\" xlink:href=\"#m2f3f4df4ad\" y=\"56.618182\"/>\r\n     <use style=\"fill:#4c4c4c;stroke:#4c4c4c;stroke-linejoin:miter;\" x=\"50.321608\" xlink:href=\"#m2f3f4df4ad\" y=\"56.618182\"/>\r\n     <use style=\"fill:#4c4c4c;stroke:#4c4c4c;stroke-linejoin:miter;\" x=\"51.260281\" xlink:href=\"#m2f3f4df4ad\" y=\"56.618182\"/>\r\n     <use style=\"fill:#4c4c4c;stroke:#4c4c4c;stroke-linejoin:miter;\" x=\"54.638781\" xlink:href=\"#m2f3f4df4ad\" y=\"56.618182\"/>\r\n     <use style=\"fill:#4c4c4c;stroke:#4c4c4c;stroke-linejoin:miter;\" x=\"50.132462\" xlink:href=\"#m2f3f4df4ad\" y=\"56.618182\"/>\r\n     <use style=\"fill:#4c4c4c;stroke:#4c4c4c;stroke-linejoin:miter;\" x=\"50.157393\" xlink:href=\"#m2f3f4df4ad\" y=\"56.618182\"/>\r\n     <use style=\"fill:#4c4c4c;stroke:#4c4c4c;stroke-linejoin:miter;\" x=\"116.205931\" xlink:href=\"#m2f3f4df4ad\" y=\"56.618182\"/>\r\n     <use style=\"fill:#4c4c4c;stroke:#4c4c4c;stroke-linejoin:miter;\" x=\"50.114556\" xlink:href=\"#m2f3f4df4ad\" y=\"56.618182\"/>\r\n     <use style=\"fill:#4c4c4c;stroke:#4c4c4c;stroke-linejoin:miter;\" x=\"59.058549\" xlink:href=\"#m2f3f4df4ad\" y=\"56.618182\"/>\r\n     <use style=\"fill:#4c4c4c;stroke:#4c4c4c;stroke-linejoin:miter;\" x=\"50.351963\" xlink:href=\"#m2f3f4df4ad\" y=\"56.618182\"/>\r\n     <use style=\"fill:#4c4c4c;stroke:#4c4c4c;stroke-linejoin:miter;\" x=\"50.750736\" xlink:href=\"#m2f3f4df4ad\" y=\"56.618182\"/>\r\n     <use style=\"fill:#4c4c4c;stroke:#4c4c4c;stroke-linejoin:miter;\" x=\"54.665255\" xlink:href=\"#m2f3f4df4ad\" y=\"56.618182\"/>\r\n     <use style=\"fill:#4c4c4c;stroke:#4c4c4c;stroke-linejoin:miter;\" x=\"50.207531\" xlink:href=\"#m2f3f4df4ad\" y=\"56.618182\"/>\r\n     <use style=\"fill:#4c4c4c;stroke:#4c4c4c;stroke-linejoin:miter;\" x=\"51.692943\" xlink:href=\"#m2f3f4df4ad\" y=\"56.618182\"/>\r\n     <use style=\"fill:#4c4c4c;stroke:#4c4c4c;stroke-linejoin:miter;\" x=\"50.156034\" xlink:href=\"#m2f3f4df4ad\" y=\"56.618182\"/>\r\n     <use style=\"fill:#4c4c4c;stroke:#4c4c4c;stroke-linejoin:miter;\" x=\"50.11136\" xlink:href=\"#m2f3f4df4ad\" y=\"56.618182\"/>\r\n     <use style=\"fill:#4c4c4c;stroke:#4c4c4c;stroke-linejoin:miter;\" x=\"50.667815\" xlink:href=\"#m2f3f4df4ad\" y=\"56.618182\"/>\r\n     <use style=\"fill:#4c4c4c;stroke:#4c4c4c;stroke-linejoin:miter;\" x=\"52.338246\" xlink:href=\"#m2f3f4df4ad\" y=\"56.618182\"/>\r\n     <use style=\"fill:#4c4c4c;stroke:#4c4c4c;stroke-linejoin:miter;\" x=\"50.107796\" xlink:href=\"#m2f3f4df4ad\" y=\"56.618182\"/>\r\n     <use style=\"fill:#4c4c4c;stroke:#4c4c4c;stroke-linejoin:miter;\" x=\"50.121253\" xlink:href=\"#m2f3f4df4ad\" y=\"56.618182\"/>\r\n     <use style=\"fill:#4c4c4c;stroke:#4c4c4c;stroke-linejoin:miter;\" x=\"50.270512\" xlink:href=\"#m2f3f4df4ad\" y=\"56.618182\"/>\r\n     <use style=\"fill:#4c4c4c;stroke:#4c4c4c;stroke-linejoin:miter;\" x=\"50.143456\" xlink:href=\"#m2f3f4df4ad\" y=\"56.618182\"/>\r\n     <use style=\"fill:#4c4c4c;stroke:#4c4c4c;stroke-linejoin:miter;\" x=\"50.133601\" xlink:href=\"#m2f3f4df4ad\" y=\"56.618182\"/>\r\n     <use style=\"fill:#4c4c4c;stroke:#4c4c4c;stroke-linejoin:miter;\" x=\"126.82028\" xlink:href=\"#m2f3f4df4ad\" y=\"56.618182\"/>\r\n     <use style=\"fill:#4c4c4c;stroke:#4c4c4c;stroke-linejoin:miter;\" x=\"50.515704\" xlink:href=\"#m2f3f4df4ad\" y=\"56.618182\"/>\r\n     <use style=\"fill:#4c4c4c;stroke:#4c4c4c;stroke-linejoin:miter;\" x=\"51.383494\" xlink:href=\"#m2f3f4df4ad\" y=\"56.618182\"/>\r\n     <use style=\"fill:#4c4c4c;stroke:#4c4c4c;stroke-linejoin:miter;\" x=\"50.867167\" xlink:href=\"#m2f3f4df4ad\" y=\"56.618182\"/>\r\n     <use style=\"fill:#4c4c4c;stroke:#4c4c4c;stroke-linejoin:miter;\" x=\"50.1193\" xlink:href=\"#m2f3f4df4ad\" y=\"56.618182\"/>\r\n     <use style=\"fill:#4c4c4c;stroke:#4c4c4c;stroke-linejoin:miter;\" x=\"50.111156\" xlink:href=\"#m2f3f4df4ad\" y=\"56.618182\"/>\r\n     <use style=\"fill:#4c4c4c;stroke:#4c4c4c;stroke-linejoin:miter;\" x=\"50.302218\" xlink:href=\"#m2f3f4df4ad\" y=\"56.618182\"/>\r\n     <use style=\"fill:#4c4c4c;stroke:#4c4c4c;stroke-linejoin:miter;\" x=\"50.174633\" xlink:href=\"#m2f3f4df4ad\" y=\"56.618182\"/>\r\n     <use style=\"fill:#4c4c4c;stroke:#4c4c4c;stroke-linejoin:miter;\" x=\"50.217281\" xlink:href=\"#m2f3f4df4ad\" y=\"56.618182\"/>\r\n     <use style=\"fill:#4c4c4c;stroke:#4c4c4c;stroke-linejoin:miter;\" x=\"50.09936\" xlink:href=\"#m2f3f4df4ad\" y=\"56.618182\"/>\r\n     <use style=\"fill:#4c4c4c;stroke:#4c4c4c;stroke-linejoin:miter;\" x=\"50.165771\" xlink:href=\"#m2f3f4df4ad\" y=\"56.618182\"/>\r\n     <use style=\"fill:#4c4c4c;stroke:#4c4c4c;stroke-linejoin:miter;\" x=\"50.237571\" xlink:href=\"#m2f3f4df4ad\" y=\"56.618182\"/>\r\n     <use style=\"fill:#4c4c4c;stroke:#4c4c4c;stroke-linejoin:miter;\" x=\"50.341276\" xlink:href=\"#m2f3f4df4ad\" y=\"56.618182\"/>\r\n     <use style=\"fill:#4c4c4c;stroke:#4c4c4c;stroke-linejoin:miter;\" x=\"50.097262\" xlink:href=\"#m2f3f4df4ad\" y=\"56.618182\"/>\r\n     <use style=\"fill:#4c4c4c;stroke:#4c4c4c;stroke-linejoin:miter;\" x=\"50.156333\" xlink:href=\"#m2f3f4df4ad\" y=\"56.618182\"/>\r\n     <use style=\"fill:#4c4c4c;stroke:#4c4c4c;stroke-linejoin:miter;\" x=\"50.095247\" xlink:href=\"#m2f3f4df4ad\" y=\"56.618182\"/>\r\n     <use style=\"fill:#4c4c4c;stroke:#4c4c4c;stroke-linejoin:miter;\" x=\"50.434525\" xlink:href=\"#m2f3f4df4ad\" y=\"56.618182\"/>\r\n     <use style=\"fill:#4c4c4c;stroke:#4c4c4c;stroke-linejoin:miter;\" x=\"50.158128\" xlink:href=\"#m2f3f4df4ad\" y=\"56.618182\"/>\r\n     <use style=\"fill:#4c4c4c;stroke:#4c4c4c;stroke-linejoin:miter;\" x=\"51.834265\" xlink:href=\"#m2f3f4df4ad\" y=\"56.618182\"/>\r\n     <use style=\"fill:#4c4c4c;stroke:#4c4c4c;stroke-linejoin:miter;\" x=\"50.554302\" xlink:href=\"#m2f3f4df4ad\" y=\"56.618182\"/>\r\n     <use style=\"fill:#4c4c4c;stroke:#4c4c4c;stroke-linejoin:miter;\" x=\"50.217543\" xlink:href=\"#m2f3f4df4ad\" y=\"56.618182\"/>\r\n     <use style=\"fill:#4c4c4c;stroke:#4c4c4c;stroke-linejoin:miter;\" x=\"50.359431\" xlink:href=\"#m2f3f4df4ad\" y=\"56.618182\"/>\r\n     <use style=\"fill:#4c4c4c;stroke:#4c4c4c;stroke-linejoin:miter;\" x=\"50.19977\" xlink:href=\"#m2f3f4df4ad\" y=\"56.618182\"/>\r\n     <use style=\"fill:#4c4c4c;stroke:#4c4c4c;stroke-linejoin:miter;\" x=\"60.553402\" xlink:href=\"#m2f3f4df4ad\" y=\"56.618182\"/>\r\n     <use style=\"fill:#4c4c4c;stroke:#4c4c4c;stroke-linejoin:miter;\" x=\"50.12933\" xlink:href=\"#m2f3f4df4ad\" y=\"56.618182\"/>\r\n     <use style=\"fill:#4c4c4c;stroke:#4c4c4c;stroke-linejoin:miter;\" x=\"55.525882\" xlink:href=\"#m2f3f4df4ad\" y=\"56.618182\"/>\r\n     <use style=\"fill:#4c4c4c;stroke:#4c4c4c;stroke-linejoin:miter;\" x=\"50.127928\" xlink:href=\"#m2f3f4df4ad\" y=\"56.618182\"/>\r\n     <use style=\"fill:#4c4c4c;stroke:#4c4c4c;stroke-linejoin:miter;\" x=\"51.886281\" xlink:href=\"#m2f3f4df4ad\" y=\"56.618182\"/>\r\n     <use style=\"fill:#4c4c4c;stroke:#4c4c4c;stroke-linejoin:miter;\" x=\"54.604936\" xlink:href=\"#m2f3f4df4ad\" y=\"56.618182\"/>\r\n     <use style=\"fill:#4c4c4c;stroke:#4c4c4c;stroke-linejoin:miter;\" x=\"50.190029\" xlink:href=\"#m2f3f4df4ad\" y=\"56.618182\"/>\r\n     <use style=\"fill:#4c4c4c;stroke:#4c4c4c;stroke-linejoin:miter;\" x=\"53.219054\" xlink:href=\"#m2f3f4df4ad\" y=\"56.618182\"/>\r\n     <use style=\"fill:#4c4c4c;stroke:#4c4c4c;stroke-linejoin:miter;\" x=\"50.577323\" xlink:href=\"#m2f3f4df4ad\" y=\"56.618182\"/>\r\n     <use style=\"fill:#4c4c4c;stroke:#4c4c4c;stroke-linejoin:miter;\" x=\"50.325725\" xlink:href=\"#m2f3f4df4ad\" y=\"56.618182\"/>\r\n     <use style=\"fill:#4c4c4c;stroke:#4c4c4c;stroke-linejoin:miter;\" x=\"50.096395\" xlink:href=\"#m2f3f4df4ad\" y=\"56.618182\"/>\r\n    </g>\r\n   </g>\r\n   <g id=\"line2d_14\">\r\n    <path clip-path=\"url(#p4f83d7dc98)\" d=\"M 50.042931 17.083636 \r\nL 50.042931 96.152727 \r\n\" style=\"fill:none;stroke:#4c4c4c;stroke-linecap:round;stroke-width:1.5;\"/>\r\n   </g>\r\n   <g id=\"patch_4\">\r\n    <path d=\"M 7.2 106.036364 \r\nL 7.2 7.2 \r\n\" style=\"fill:none;stroke:#ffffff;stroke-linecap:square;stroke-linejoin:miter;stroke-width:1.25;\"/>\r\n   </g>\r\n   <g id=\"patch_5\">\r\n    <path d=\"M 788.4 106.036364 \r\nL 788.4 7.2 \r\n\" style=\"fill:none;stroke:#ffffff;stroke-linecap:square;stroke-linejoin:miter;stroke-width:1.25;\"/>\r\n   </g>\r\n   <g id=\"patch_6\">\r\n    <path d=\"M 7.2 106.036364 \r\nL 788.4 106.036364 \r\n\" style=\"fill:none;stroke:#ffffff;stroke-linecap:square;stroke-linejoin:miter;stroke-width:1.25;\"/>\r\n   </g>\r\n   <g id=\"patch_7\">\r\n    <path d=\"M 7.2 7.2 \r\nL 788.4 7.2 \r\n\" style=\"fill:none;stroke:#ffffff;stroke-linecap:square;stroke-linejoin:miter;stroke-width:1.25;\"/>\r\n   </g>\r\n  </g>\r\n  <g id=\"axes_2\">\r\n   <g id=\"patch_8\">\r\n    <path d=\"M 7.2 224.64 \r\nL 788.4 224.64 \r\nL 788.4 125.803636 \r\nL 7.2 125.803636 \r\nz\r\n\" style=\"fill:#eaeaf2;\"/>\r\n   </g>\r\n   <g id=\"matplotlib.axis_3\">\r\n    <g id=\"xtick_9\">\r\n     <g id=\"line2d_15\">\r\n      <path clip-path=\"url(#p855f3dc648)\" d=\"M 50.040667 224.64 \r\nL 50.040667 125.803636 \r\n\" style=\"fill:none;stroke:#ffffff;stroke-linecap:round;\"/>\r\n     </g>\r\n     <g id=\"text_2\">\r\n      <!-- 0.0 -->\r\n      <defs>\r\n       <path d=\"M 4.15625 35.296875 \r\nQ 4.15625 48 6.765625 55.734375 \r\nQ 9.375 63.484375 14.515625 67.671875 \r\nQ 19.671875 71.875 27.484375 71.875 \r\nQ 33.25 71.875 37.59375 69.546875 \r\nQ 41.9375 67.234375 44.765625 62.859375 \r\nQ 47.609375 58.5 49.21875 52.21875 \r\nQ 50.828125 45.953125 50.828125 35.296875 \r\nQ 50.828125 22.703125 48.234375 14.96875 \r\nQ 45.65625 7.234375 40.5 3 \r\nQ 35.359375 -1.21875 27.484375 -1.21875 \r\nQ 17.140625 -1.21875 11.234375 6.203125 \r\nQ 4.15625 15.140625 4.15625 35.296875 \r\nz\r\nM 13.1875 35.296875 \r\nQ 13.1875 17.671875 17.3125 11.828125 \r\nQ 21.4375 6 27.484375 6 \r\nQ 33.546875 6 37.671875 11.859375 \r\nQ 41.796875 17.71875 41.796875 35.296875 \r\nQ 41.796875 52.984375 37.671875 58.78125 \r\nQ 33.546875 64.59375 27.390625 64.59375 \r\nQ 21.34375 64.59375 17.71875 59.46875 \r\nQ 13.1875 52.9375 13.1875 35.296875 \r\nz\r\n\" id=\"ArialMT-48\"/>\r\n       <path d=\"M 9.078125 0 \r\nL 9.078125 10.015625 \r\nL 19.09375 10.015625 \r\nL 19.09375 0 \r\nz\r\n\" id=\"ArialMT-46\"/>\r\n      </defs>\r\n      <g style=\"fill:#262626;\" transform=\"translate(42.395667 242.013594)scale(0.11 -0.11)\">\r\n       <use xlink:href=\"#ArialMT-48\"/>\r\n       <use x=\"55.615234\" xlink:href=\"#ArialMT-46\"/>\r\n       <use x=\"83.398438\" xlink:href=\"#ArialMT-48\"/>\r\n      </g>\r\n     </g>\r\n    </g>\r\n    <g id=\"xtick_10\">\r\n     <g id=\"line2d_16\">\r\n      <path clip-path=\"url(#p855f3dc648)\" d=\"M 151.786043 224.64 \r\nL 151.786043 125.803636 \r\n\" style=\"fill:none;stroke:#ffffff;stroke-linecap:round;\"/>\r\n     </g>\r\n     <g id=\"text_3\">\r\n      <!-- 0.5 -->\r\n      <defs>\r\n       <path d=\"M 4.15625 18.75 \r\nL 13.375 19.53125 \r\nQ 14.40625 12.796875 18.140625 9.390625 \r\nQ 21.875 6 27.15625 6 \r\nQ 33.5 6 37.890625 10.78125 \r\nQ 42.28125 15.578125 42.28125 23.484375 \r\nQ 42.28125 31 38.0625 35.34375 \r\nQ 33.84375 39.703125 27 39.703125 \r\nQ 22.75 39.703125 19.328125 37.765625 \r\nQ 15.921875 35.84375 13.96875 32.765625 \r\nL 5.71875 33.84375 \r\nL 12.640625 70.609375 \r\nL 48.25 70.609375 \r\nL 48.25 62.203125 \r\nL 19.671875 62.203125 \r\nL 15.828125 42.96875 \r\nQ 22.265625 47.46875 29.34375 47.46875 \r\nQ 38.71875 47.46875 45.15625 40.96875 \r\nQ 51.609375 34.46875 51.609375 24.265625 \r\nQ 51.609375 14.546875 45.953125 7.46875 \r\nQ 39.0625 -1.21875 27.15625 -1.21875 \r\nQ 17.390625 -1.21875 11.203125 4.25 \r\nQ 5.03125 9.71875 4.15625 18.75 \r\nz\r\n\" id=\"ArialMT-53\"/>\r\n      </defs>\r\n      <g style=\"fill:#262626;\" transform=\"translate(144.141043 242.013594)scale(0.11 -0.11)\">\r\n       <use xlink:href=\"#ArialMT-48\"/>\r\n       <use x=\"55.615234\" xlink:href=\"#ArialMT-46\"/>\r\n       <use x=\"83.398438\" xlink:href=\"#ArialMT-53\"/>\r\n      </g>\r\n     </g>\r\n    </g>\r\n    <g id=\"xtick_11\">\r\n     <g id=\"line2d_17\">\r\n      <path clip-path=\"url(#p855f3dc648)\" d=\"M 253.53142 224.64 \r\nL 253.53142 125.803636 \r\n\" style=\"fill:none;stroke:#ffffff;stroke-linecap:round;\"/>\r\n     </g>\r\n     <g id=\"text_4\">\r\n      <!-- 1.0 -->\r\n      <defs>\r\n       <path d=\"M 37.25 0 \r\nL 28.46875 0 \r\nL 28.46875 56 \r\nQ 25.296875 52.984375 20.140625 49.953125 \r\nQ 14.984375 46.921875 10.890625 45.40625 \r\nL 10.890625 53.90625 \r\nQ 18.265625 57.375 23.78125 62.296875 \r\nQ 29.296875 67.234375 31.59375 71.875 \r\nL 37.25 71.875 \r\nz\r\n\" id=\"ArialMT-49\"/>\r\n      </defs>\r\n      <g style=\"fill:#262626;\" transform=\"translate(245.88642 242.013594)scale(0.11 -0.11)\">\r\n       <use xlink:href=\"#ArialMT-49\"/>\r\n       <use x=\"55.615234\" xlink:href=\"#ArialMT-46\"/>\r\n       <use x=\"83.398438\" xlink:href=\"#ArialMT-48\"/>\r\n      </g>\r\n     </g>\r\n    </g>\r\n    <g id=\"xtick_12\">\r\n     <g id=\"line2d_18\">\r\n      <path clip-path=\"url(#p855f3dc648)\" d=\"M 355.276796 224.64 \r\nL 355.276796 125.803636 \r\n\" style=\"fill:none;stroke:#ffffff;stroke-linecap:round;\"/>\r\n     </g>\r\n     <g id=\"text_5\">\r\n      <!-- 1.5 -->\r\n      <g style=\"fill:#262626;\" transform=\"translate(347.631796 242.013594)scale(0.11 -0.11)\">\r\n       <use xlink:href=\"#ArialMT-49\"/>\r\n       <use x=\"55.615234\" xlink:href=\"#ArialMT-46\"/>\r\n       <use x=\"83.398438\" xlink:href=\"#ArialMT-53\"/>\r\n      </g>\r\n     </g>\r\n    </g>\r\n    <g id=\"xtick_13\">\r\n     <g id=\"line2d_19\">\r\n      <path clip-path=\"url(#p855f3dc648)\" d=\"M 457.022172 224.64 \r\nL 457.022172 125.803636 \r\n\" style=\"fill:none;stroke:#ffffff;stroke-linecap:round;\"/>\r\n     </g>\r\n     <g id=\"text_6\">\r\n      <!-- 2.0 -->\r\n      <defs>\r\n       <path d=\"M 50.34375 8.453125 \r\nL 50.34375 0 \r\nL 3.03125 0 \r\nQ 2.9375 3.171875 4.046875 6.109375 \r\nQ 5.859375 10.9375 9.828125 15.625 \r\nQ 13.8125 20.3125 21.34375 26.46875 \r\nQ 33.015625 36.03125 37.109375 41.625 \r\nQ 41.21875 47.21875 41.21875 52.203125 \r\nQ 41.21875 57.421875 37.46875 61 \r\nQ 33.734375 64.59375 27.734375 64.59375 \r\nQ 21.390625 64.59375 17.578125 60.78125 \r\nQ 13.765625 56.984375 13.71875 50.25 \r\nL 4.6875 51.171875 \r\nQ 5.609375 61.28125 11.65625 66.578125 \r\nQ 17.71875 71.875 27.9375 71.875 \r\nQ 38.234375 71.875 44.234375 66.15625 \r\nQ 50.25 60.453125 50.25 52 \r\nQ 50.25 47.703125 48.484375 43.546875 \r\nQ 46.734375 39.40625 42.65625 34.8125 \r\nQ 38.578125 30.21875 29.109375 22.21875 \r\nQ 21.1875 15.578125 18.9375 13.203125 \r\nQ 16.703125 10.84375 15.234375 8.453125 \r\nz\r\n\" id=\"ArialMT-50\"/>\r\n      </defs>\r\n      <g style=\"fill:#262626;\" transform=\"translate(449.377172 242.013594)scale(0.11 -0.11)\">\r\n       <use xlink:href=\"#ArialMT-50\"/>\r\n       <use x=\"55.615234\" xlink:href=\"#ArialMT-46\"/>\r\n       <use x=\"83.398438\" xlink:href=\"#ArialMT-48\"/>\r\n      </g>\r\n     </g>\r\n    </g>\r\n    <g id=\"xtick_14\">\r\n     <g id=\"line2d_20\">\r\n      <path clip-path=\"url(#p855f3dc648)\" d=\"M 558.767548 224.64 \r\nL 558.767548 125.803636 \r\n\" style=\"fill:none;stroke:#ffffff;stroke-linecap:round;\"/>\r\n     </g>\r\n     <g id=\"text_7\">\r\n      <!-- 2.5 -->\r\n      <g style=\"fill:#262626;\" transform=\"translate(551.122548 242.013594)scale(0.11 -0.11)\">\r\n       <use xlink:href=\"#ArialMT-50\"/>\r\n       <use x=\"55.615234\" xlink:href=\"#ArialMT-46\"/>\r\n       <use x=\"83.398438\" xlink:href=\"#ArialMT-53\"/>\r\n      </g>\r\n     </g>\r\n    </g>\r\n    <g id=\"xtick_15\">\r\n     <g id=\"line2d_21\">\r\n      <path clip-path=\"url(#p855f3dc648)\" d=\"M 660.512925 224.64 \r\nL 660.512925 125.803636 \r\n\" style=\"fill:none;stroke:#ffffff;stroke-linecap:round;\"/>\r\n     </g>\r\n     <g id=\"text_8\">\r\n      <!-- 3.0 -->\r\n      <defs>\r\n       <path d=\"M 4.203125 18.890625 \r\nL 12.984375 20.0625 \r\nQ 14.5 12.59375 18.140625 9.296875 \r\nQ 21.78125 6 27 6 \r\nQ 33.203125 6 37.46875 10.296875 \r\nQ 41.75 14.59375 41.75 20.953125 \r\nQ 41.75 27 37.796875 30.921875 \r\nQ 33.84375 34.859375 27.734375 34.859375 \r\nQ 25.25 34.859375 21.53125 33.890625 \r\nL 22.515625 41.609375 \r\nQ 23.390625 41.5 23.921875 41.5 \r\nQ 29.546875 41.5 34.03125 44.421875 \r\nQ 38.53125 47.359375 38.53125 53.46875 \r\nQ 38.53125 58.296875 35.25 61.46875 \r\nQ 31.984375 64.65625 26.8125 64.65625 \r\nQ 21.6875 64.65625 18.265625 61.421875 \r\nQ 14.84375 58.203125 13.875 51.765625 \r\nL 5.078125 53.328125 \r\nQ 6.6875 62.15625 12.390625 67.015625 \r\nQ 18.109375 71.875 26.609375 71.875 \r\nQ 32.46875 71.875 37.390625 69.359375 \r\nQ 42.328125 66.84375 44.9375 62.5 \r\nQ 47.5625 58.15625 47.5625 53.265625 \r\nQ 47.5625 48.640625 45.0625 44.828125 \r\nQ 42.578125 41.015625 37.703125 38.765625 \r\nQ 44.046875 37.3125 47.5625 32.6875 \r\nQ 51.078125 28.078125 51.078125 21.140625 \r\nQ 51.078125 11.765625 44.234375 5.25 \r\nQ 37.40625 -1.265625 26.953125 -1.265625 \r\nQ 17.53125 -1.265625 11.296875 4.34375 \r\nQ 5.078125 9.96875 4.203125 18.890625 \r\nz\r\n\" id=\"ArialMT-51\"/>\r\n      </defs>\r\n      <g style=\"fill:#262626;\" transform=\"translate(652.867925 242.013594)scale(0.11 -0.11)\">\r\n       <use xlink:href=\"#ArialMT-51\"/>\r\n       <use x=\"55.615234\" xlink:href=\"#ArialMT-46\"/>\r\n       <use x=\"83.398438\" xlink:href=\"#ArialMT-48\"/>\r\n      </g>\r\n     </g>\r\n    </g>\r\n    <g id=\"xtick_16\">\r\n     <g id=\"line2d_22\">\r\n      <path clip-path=\"url(#p855f3dc648)\" d=\"M 762.258301 224.64 \r\nL 762.258301 125.803636 \r\n\" style=\"fill:none;stroke:#ffffff;stroke-linecap:round;\"/>\r\n     </g>\r\n     <g id=\"text_9\">\r\n      <!-- 3.5 -->\r\n      <g style=\"fill:#262626;\" transform=\"translate(754.613301 242.013594)scale(0.11 -0.11)\">\r\n       <use xlink:href=\"#ArialMT-51\"/>\r\n       <use x=\"55.615234\" xlink:href=\"#ArialMT-46\"/>\r\n       <use x=\"83.398438\" xlink:href=\"#ArialMT-53\"/>\r\n      </g>\r\n     </g>\r\n    </g>\r\n    <g id=\"text_10\">\r\n     <!-- AREA_HA -->\r\n     <g style=\"fill:#262626;\" transform=\"translate(369.788437 256.789219)scale(0.12 -0.12)\">\r\n      <use xlink:href=\"#ArialMT-65\"/>\r\n      <use x=\"66.699219\" xlink:href=\"#ArialMT-82\"/>\r\n      <use x=\"138.916016\" xlink:href=\"#ArialMT-69\"/>\r\n      <use x=\"205.615234\" xlink:href=\"#ArialMT-65\"/>\r\n      <use x=\"272.314453\" xlink:href=\"#ArialMT-95\"/>\r\n      <use x=\"327.929688\" xlink:href=\"#ArialMT-72\"/>\r\n      <use x=\"400.146484\" xlink:href=\"#ArialMT-65\"/>\r\n     </g>\r\n    </g>\r\n    <g id=\"text_11\">\r\n     <!-- 1e6 -->\r\n     <defs>\r\n      <path d=\"M 42.09375 16.703125 \r\nL 51.171875 15.578125 \r\nQ 49.03125 7.625 43.21875 3.21875 \r\nQ 37.40625 -1.171875 28.375 -1.171875 \r\nQ 17 -1.171875 10.328125 5.828125 \r\nQ 3.65625 12.84375 3.65625 25.484375 \r\nQ 3.65625 38.578125 10.390625 45.796875 \r\nQ 17.140625 53.03125 27.875 53.03125 \r\nQ 38.28125 53.03125 44.875 45.953125 \r\nQ 51.46875 38.875 51.46875 26.03125 \r\nQ 51.46875 25.25 51.421875 23.6875 \r\nL 12.75 23.6875 \r\nQ 13.234375 15.140625 17.578125 10.59375 \r\nQ 21.921875 6.0625 28.421875 6.0625 \r\nQ 33.25 6.0625 36.671875 8.59375 \r\nQ 40.09375 11.140625 42.09375 16.703125 \r\nz\r\nM 13.234375 30.90625 \r\nL 42.1875 30.90625 \r\nQ 41.609375 37.453125 38.875 40.71875 \r\nQ 34.671875 45.796875 27.984375 45.796875 \r\nQ 21.921875 45.796875 17.796875 41.75 \r\nQ 13.671875 37.703125 13.234375 30.90625 \r\nz\r\n\" id=\"ArialMT-101\"/>\r\n      <path d=\"M 49.75 54.046875 \r\nL 41.015625 53.375 \r\nQ 39.84375 58.546875 37.703125 60.890625 \r\nQ 34.125 64.65625 28.90625 64.65625 \r\nQ 24.703125 64.65625 21.53125 62.3125 \r\nQ 17.390625 59.28125 14.984375 53.46875 \r\nQ 12.59375 47.65625 12.5 36.921875 \r\nQ 15.671875 41.75 20.265625 44.09375 \r\nQ 24.859375 46.4375 29.890625 46.4375 \r\nQ 38.671875 46.4375 44.84375 39.96875 \r\nQ 51.03125 33.5 51.03125 23.25 \r\nQ 51.03125 16.5 48.125 10.71875 \r\nQ 45.21875 4.9375 40.140625 1.859375 \r\nQ 35.0625 -1.21875 28.609375 -1.21875 \r\nQ 17.625 -1.21875 10.6875 6.859375 \r\nQ 3.765625 14.9375 3.765625 33.5 \r\nQ 3.765625 54.25 11.421875 63.671875 \r\nQ 18.109375 71.875 29.4375 71.875 \r\nQ 37.890625 71.875 43.28125 67.140625 \r\nQ 48.6875 62.40625 49.75 54.046875 \r\nz\r\nM 13.875 23.1875 \r\nQ 13.875 18.65625 15.796875 14.5 \r\nQ 17.71875 10.359375 21.1875 8.171875 \r\nQ 24.65625 6 28.46875 6 \r\nQ 34.03125 6 38.03125 10.484375 \r\nQ 42.046875 14.984375 42.046875 22.703125 \r\nQ 42.046875 30.125 38.078125 34.390625 \r\nQ 34.125 38.671875 28.125 38.671875 \r\nQ 22.171875 38.671875 18.015625 34.390625 \r\nQ 13.875 30.125 13.875 23.1875 \r\nz\r\n\" id=\"ArialMT-54\"/>\r\n     </defs>\r\n     <g style=\"fill:#262626;\" transform=\"translate(770.048906 255.073437)scale(0.11 -0.11)\">\r\n      <use xlink:href=\"#ArialMT-49\"/>\r\n      <use x=\"55.615234\" xlink:href=\"#ArialMT-101\"/>\r\n      <use x=\"111.230469\" xlink:href=\"#ArialMT-54\"/>\r\n     </g>\r\n    </g>\r\n   </g>\r\n   <g id=\"matplotlib.axis_4\">\r\n    <g id=\"ytick_2\"/>\r\n   </g>\r\n   <g id=\"PolyCollection_1\">\r\n    <defs>\r\n     <path d=\"M 42.709091 -86.004938 \r\nL 42.709091 -96.299864 \r\nL 49.882645 -130.686946 \r\nL 57.056198 -98.542503 \r\nL 64.229752 -91.479415 \r\nL 71.403306 -91.348283 \r\nL 78.57686 -91.252201 \r\nL 85.750413 -91.238509 \r\nL 92.923967 -91.16262 \r\nL 100.097521 -91.15256 \r\nL 107.271074 -91.16262 \r\nL 114.444628 -91.205811 \r\nL 121.618182 -91.182912 \r\nL 128.791736 -91.169269 \r\nL 135.965289 -91.169965 \r\nL 143.138843 -91.156447 \r\nL 150.312397 -91.153311 \r\nL 157.48595 -91.16932 \r\nL 164.659504 -91.174996 \r\nL 171.833058 -91.156549 \r\nL 179.006612 -91.152422 \r\nL 186.180165 -91.152401 \r\nL 193.353719 -91.152401 \r\nL 200.527273 -91.152401 \r\nL 207.700826 -91.152401 \r\nL 214.87438 -91.152401 \r\nL 222.047934 -91.152964 \r\nL 229.221488 -91.166329 \r\nL 236.395041 -91.159886 \r\nL 243.568595 -91.152488 \r\nL 250.742149 -91.152405 \r\nL 257.915702 -91.154285 \r\nL 265.089256 -91.169537 \r\nL 272.26281 -91.155786 \r\nL 279.436364 -91.152415 \r\nL 286.609917 -91.152401 \r\nL 293.783471 -91.152401 \r\nL 300.957025 -91.152401 \r\nL 308.130579 -91.152401 \r\nL 315.304132 -91.152403 \r\nL 322.477686 -91.153682 \r\nL 329.65124 -91.168837 \r\nL 336.824793 -91.15698 \r\nL 343.998347 -91.152428 \r\nL 351.171901 -91.152401 \r\nL 358.345455 -91.152401 \r\nL 365.519008 -91.152401 \r\nL 372.692562 -91.152401 \r\nL 379.866116 -91.152401 \r\nL 387.039669 -91.152401 \r\nL 394.213223 -91.152401 \r\nL 401.386777 -91.152401 \r\nL 408.560331 -91.152401 \r\nL 415.733884 -91.152401 \r\nL 422.907438 -91.152401 \r\nL 430.080992 -91.152401 \r\nL 437.254545 -91.152401 \r\nL 444.428099 -91.152401 \r\nL 451.601653 -91.152401 \r\nL 458.775207 -91.152401 \r\nL 465.94876 -91.152401 \r\nL 473.122314 -91.152401 \r\nL 480.295868 -91.152401 \r\nL 487.469421 -91.152401 \r\nL 494.642975 -91.152401 \r\nL 501.816529 -91.152401 \r\nL 508.990083 -91.152401 \r\nL 516.163636 -91.152401 \r\nL 523.33719 -91.152401 \r\nL 530.510744 -91.152401 \r\nL 537.684298 -91.152401 \r\nL 544.857851 -91.152401 \r\nL 552.031405 -91.152401 \r\nL 559.204959 -91.152401 \r\nL 566.378512 -91.152401 \r\nL 573.552066 -91.152401 \r\nL 580.72562 -91.152401 \r\nL 587.899174 -91.152401 \r\nL 595.072727 -91.152401 \r\nL 602.246281 -91.152401 \r\nL 609.419835 -91.152401 \r\nL 616.593388 -91.152401 \r\nL 623.766942 -91.152401 \r\nL 630.940496 -91.152401 \r\nL 638.11405 -91.152401 \r\nL 645.287603 -91.152401 \r\nL 652.461157 -91.152401 \r\nL 659.634711 -91.152401 \r\nL 666.808264 -91.152401 \r\nL 673.981818 -91.152401 \r\nL 681.155372 -91.152401 \r\nL 688.328926 -91.152401 \r\nL 695.502479 -91.152401 \r\nL 702.676033 -91.152401 \r\nL 709.849587 -91.152401 \r\nL 717.02314 -91.152401 \r\nL 724.196694 -91.152401 \r\nL 731.370248 -91.15241 \r\nL 738.543802 -91.155177 \r\nL 745.717355 -91.169715 \r\nL 752.890909 -91.154746 \r\nL 752.890909 -91.150055 \r\nL 752.890909 -91.150055 \r\nL 745.717355 -91.135087 \r\nL 738.543802 -91.149624 \r\nL 731.370248 -91.152391 \r\nL 724.196694 -91.152401 \r\nL 717.02314 -91.152401 \r\nL 709.849587 -91.152401 \r\nL 702.676033 -91.152401 \r\nL 695.502479 -91.152401 \r\nL 688.328926 -91.152401 \r\nL 681.155372 -91.152401 \r\nL 673.981818 -91.152401 \r\nL 666.808264 -91.152401 \r\nL 659.634711 -91.152401 \r\nL 652.461157 -91.152401 \r\nL 645.287603 -91.152401 \r\nL 638.11405 -91.152401 \r\nL 630.940496 -91.152401 \r\nL 623.766942 -91.152401 \r\nL 616.593388 -91.152401 \r\nL 609.419835 -91.152401 \r\nL 602.246281 -91.152401 \r\nL 595.072727 -91.152401 \r\nL 587.899174 -91.152401 \r\nL 580.72562 -91.152401 \r\nL 573.552066 -91.152401 \r\nL 566.378512 -91.152401 \r\nL 559.204959 -91.152401 \r\nL 552.031405 -91.152401 \r\nL 544.857851 -91.152401 \r\nL 537.684298 -91.152401 \r\nL 530.510744 -91.152401 \r\nL 523.33719 -91.152401 \r\nL 516.163636 -91.152401 \r\nL 508.990083 -91.152401 \r\nL 501.816529 -91.152401 \r\nL 494.642975 -91.152401 \r\nL 487.469421 -91.152401 \r\nL 480.295868 -91.152401 \r\nL 473.122314 -91.152401 \r\nL 465.94876 -91.152401 \r\nL 458.775207 -91.152401 \r\nL 451.601653 -91.152401 \r\nL 444.428099 -91.152401 \r\nL 437.254545 -91.152401 \r\nL 430.080992 -91.152401 \r\nL 422.907438 -91.152401 \r\nL 415.733884 -91.152401 \r\nL 408.560331 -91.152401 \r\nL 401.386777 -91.152401 \r\nL 394.213223 -91.152401 \r\nL 387.039669 -91.152401 \r\nL 379.866116 -91.152401 \r\nL 372.692562 -91.152401 \r\nL 365.519008 -91.152401 \r\nL 358.345455 -91.152401 \r\nL 351.171901 -91.152401 \r\nL 343.998347 -91.152373 \r\nL 336.824793 -91.147821 \r\nL 329.65124 -91.135964 \r\nL 322.477686 -91.151119 \r\nL 315.304132 -91.152398 \r\nL 308.130579 -91.152401 \r\nL 300.957025 -91.152401 \r\nL 293.783471 -91.152401 \r\nL 286.609917 -91.152401 \r\nL 279.436364 -91.152386 \r\nL 272.26281 -91.149015 \r\nL 265.089256 -91.135264 \r\nL 257.915702 -91.150516 \r\nL 250.742149 -91.152396 \r\nL 243.568595 -91.152313 \r\nL 236.395041 -91.144915 \r\nL 229.221488 -91.138473 \r\nL 222.047934 -91.151838 \r\nL 214.87438 -91.1524 \r\nL 207.700826 -91.152401 \r\nL 200.527273 -91.152401 \r\nL 193.353719 -91.152401 \r\nL 186.180165 -91.152401 \r\nL 179.006612 -91.152379 \r\nL 171.833058 -91.148252 \r\nL 164.659504 -91.129805 \r\nL 157.48595 -91.135481 \r\nL 150.312397 -91.15149 \r\nL 143.138843 -91.148354 \r\nL 135.965289 -91.134836 \r\nL 128.791736 -91.135532 \r\nL 121.618182 -91.121889 \r\nL 114.444628 -91.09899 \r\nL 107.271074 -91.142181 \r\nL 100.097521 -91.152241 \r\nL 92.923967 -91.142181 \r\nL 85.750413 -91.066292 \r\nL 78.57686 -91.0526 \r\nL 71.403306 -90.956518 \r\nL 64.229752 -90.825387 \r\nL 57.056198 -83.762298 \r\nL 49.882645 -51.617855 \r\nL 42.709091 -86.004938 \r\nz\r\n\" id=\"m097b54304d\" style=\"stroke:#4c4c4c;stroke-width:1.5;\"/>\r\n    </defs>\r\n    <g clip-path=\"url(#p855f3dc648)\">\r\n     <use style=\"fill:#5875a4;stroke:#4c4c4c;stroke-width:1.5;\" x=\"0\" xlink:href=\"#m097b54304d\" y=\"266.374219\"/>\r\n    </g>\r\n   </g>\r\n   <g id=\"line2d_23\">\r\n    <path clip-path=\"url(#p855f3dc648)\" d=\"M 50.040667 175.221818 \r\nL 50.094682 175.221818 \r\n\" style=\"fill:none;stroke:#4c4c4c;stroke-linecap:round;stroke-width:1.5;\"/>\r\n   </g>\r\n   <g id=\"line2d_24\">\r\n    <path clip-path=\"url(#p855f3dc648)\" d=\"M 50.041046 175.221818 \r\nL 50.06257 175.221818 \r\n\" style=\"fill:none;stroke:#4c4c4c;stroke-linecap:round;stroke-width:4.5;\"/>\r\n   </g>\r\n   <g id=\"patch_9\">\r\n    <path d=\"M 7.2 224.64 \r\nL 7.2 125.803636 \r\n\" style=\"fill:none;stroke:#ffffff;stroke-linecap:square;stroke-linejoin:miter;stroke-width:1.25;\"/>\r\n   </g>\r\n   <g id=\"patch_10\">\r\n    <path d=\"M 788.4 224.64 \r\nL 788.4 125.803636 \r\n\" style=\"fill:none;stroke:#ffffff;stroke-linecap:square;stroke-linejoin:miter;stroke-width:1.25;\"/>\r\n   </g>\r\n   <g id=\"patch_11\">\r\n    <path d=\"M 7.2 224.64 \r\nL 788.4 224.64 \r\n\" style=\"fill:none;stroke:#ffffff;stroke-linecap:square;stroke-linejoin:miter;stroke-width:1.25;\"/>\r\n   </g>\r\n   <g id=\"patch_12\">\r\n    <path d=\"M 7.2 125.803636 \r\nL 788.4 125.803636 \r\n\" style=\"fill:none;stroke:#ffffff;stroke-linecap:square;stroke-linejoin:miter;stroke-width:1.25;\"/>\r\n   </g>\r\n   <g id=\"PathCollection_1\">\r\n    <defs>\r\n     <path d=\"M 0 1.5 \r\nC 0.397805 1.5 0.77937 1.341951 1.06066 1.06066 \r\nC 1.341951 0.77937 1.5 0.397805 1.5 0 \r\nC 1.5 -0.397805 1.341951 -0.77937 1.06066 -1.06066 \r\nC 0.77937 -1.341951 0.397805 -1.5 0 -1.5 \r\nC -0.397805 -1.5 -0.77937 -1.341951 -1.06066 -1.06066 \r\nC -1.341951 -0.77937 -1.5 -0.397805 -1.5 0 \r\nC -1.5 0.397805 -1.341951 0.77937 -1.06066 1.06066 \r\nC -0.77937 1.341951 -0.397805 1.5 0 1.5 \r\nz\r\n\" id=\"md63d262bc7\" style=\"stroke:#4c4c4c;\"/>\r\n    </defs>\r\n    <g clip-path=\"url(#p855f3dc648)\">\r\n     <use style=\"fill:#ffffff;stroke:#4c4c4c;\" x=\"50.042931\" xlink:href=\"#md63d262bc7\" y=\"175.221818\"/>\r\n    </g>\r\n   </g>\r\n  </g>\r\n </g>\r\n <defs>\r\n  <clipPath id=\"p4f83d7dc98\">\r\n   <rect height=\"98.836364\" width=\"781.2\" x=\"7.2\" y=\"7.2\"/>\r\n  </clipPath>\r\n  <clipPath id=\"p855f3dc648\">\r\n   <rect height=\"98.836364\" width=\"781.2\" x=\"7.2\" y=\"125.803636\"/>\r\n  </clipPath>\r\n </defs>\r\n</svg>\r\n",
      "image/png": "[encoded data removed]"
     },
     "metadata": {}
    }
   ],
   "source": [
    "_, axes = plt.subplots(2, 1, sharex=True, figsize=(14, 4))\n",
    "sns.boxplot(x='AREA_HA', data=data2, ax=axes[0])\n",
    "sns.violinplot(x='AREA_HA', data=data2, ax=axes[1])"
   ]
  },
  {
   "cell_type": "code",
   "execution_count": 35,
   "metadata": {},
   "outputs": [],
   "source": [
    "a = data2['STRTDATIT'][1]-data2['STRTDATIT'][0]"
   ]
  },
  {
   "cell_type": "code",
   "execution_count": 36,
   "metadata": {},
   "outputs": [
    {
     "output_type": "execute_result",
     "data": {
      "text/plain": [
       "Timedelta('1826 days 00:00:00')"
      ]
     },
     "metadata": {},
     "execution_count": 36
    }
   ],
   "source": [
    "a"
   ]
  },
  {
   "cell_type": "code",
   "execution_count": 41,
   "metadata": {},
   "outputs": [],
   "source": [
    "import datetime,time"
   ]
  },
  {
   "cell_type": "code",
   "execution_count": 42,
   "metadata": {},
   "outputs": [],
   "source": [
    "delta = datetime.timedelta(days=3)"
   ]
  },
  {
   "cell_type": "code",
   "execution_count": 43,
   "metadata": {},
   "outputs": [
    {
     "output_type": "execute_result",
     "data": {
      "text/plain": [
       "datetime.timedelta(days=3)"
      ]
     },
     "metadata": {},
     "execution_count": 43
    }
   ],
   "source": [
    "delta"
   ]
  },
  {
   "cell_type": "code",
   "execution_count": 44,
   "metadata": {},
   "outputs": [
    {
     "output_type": "execute_result",
     "data": {
      "text/plain": [
       "Timestamp('1932-01-01 00:00:00')"
      ]
     },
     "metadata": {},
     "execution_count": 44
    }
   ],
   "source": [
    "data2['STRTDATIT'][1]"
   ]
  },
  {
   "cell_type": "code",
   "execution_count": 45,
   "metadata": {},
   "outputs": [
    {
     "output_type": "execute_result",
     "data": {
      "text/plain": [
       "Timestamp('1932-01-04 00:00:00')"
      ]
     },
     "metadata": {},
     "execution_count": 45
    }
   ],
   "source": [
    "data2['STRTDATIT'][1]+delta"
   ]
  },
  {
   "cell_type": "code",
   "execution_count": 46,
   "metadata": {},
   "outputs": [
    {
     "output_type": "execute_result",
     "data": {
      "text/plain": [
       "True"
      ]
     },
     "metadata": {},
     "execution_count": 46
    }
   ],
   "source": [
    "a>delta"
   ]
  },
  {
   "cell_type": "code",
   "execution_count": 47,
   "metadata": {},
   "outputs": [
    {
     "output_type": "execute_result",
     "data": {
      "text/plain": [
       "False"
      ]
     },
     "metadata": {},
     "execution_count": 47
    }
   ],
   "source": [
    "a==delta"
   ]
  },
  {
   "cell_type": "code",
   "execution_count": 49,
   "metadata": {},
   "outputs": [],
   "source": [
    "b = data2['STRTDATIT'][0]"
   ]
  },
  {
   "cell_type": "code",
   "execution_count": 50,
   "metadata": {},
   "outputs": [
    {
     "output_type": "error",
     "ename": "TypeError",
     "evalue": "an integer is required (got type Timestamp)",
     "traceback": [
      "\u001b[1;31m---------------------------------------------------------------------------\u001b[0m",
      "\u001b[1;31mTypeError\u001b[0m                                 Traceback (most recent call last)",
      "\u001b[1;32m<ipython-input-50-40dbfd45d317>\u001b[0m in \u001b[0;36m<module>\u001b[1;34m\u001b[0m\n\u001b[1;32m----> 1\u001b[1;33m \u001b[0mtime\u001b[0m\u001b[1;33m.\u001b[0m\u001b[0mlocaltime\u001b[0m\u001b[1;33m(\u001b[0m\u001b[0mb\u001b[0m\u001b[1;33m)\u001b[0m\u001b[1;33m\u001b[0m\u001b[1;33m\u001b[0m\u001b[0m\n\u001b[0m",
      "\u001b[1;31mTypeError\u001b[0m: an integer is required (got type Timestamp)"
     ]
    }
   ],
   "source": [
    "time.localtime(b)"
   ]
  },
  {
   "cell_type": "code",
   "execution_count": 33,
   "metadata": {},
   "outputs": [
    {
     "output_type": "execute_result",
     "data": {
      "text/plain": [
       "pandas._libs.tslibs.timestamps.Timestamp"
      ]
     },
     "metadata": {},
     "execution_count": 33
    }
   ],
   "source": [
    "type(data2['STRTDATIT'][0])"
   ]
  },
  {
   "cell_type": "code",
   "execution_count": 76,
   "metadata": {},
   "outputs": [],
   "source": [
    "data3 = data2[:]"
   ]
  },
  {
   "cell_type": "code",
   "execution_count": 77,
   "metadata": {},
   "outputs": [
    {
     "output_type": "execute_result",
     "data": {
      "text/plain": [
       "                           NAME  STRTDATIT     AREA_HA\n",
       "0                               1927-01-01    21097.05\n",
       "1                               1932-01-01    17576.89\n",
       "2                               1936-01-01      691.93\n",
       "3                               1938-01-01     1493.73\n",
       "4                               1939-01-01  3417937.46\n",
       "...                         ...        ...         ...\n",
       "2362      YIELIMA - HUGHES LANE 2014-01-05       36.67\n",
       "2363  Yandoit - McPhersons Lane 2012-12-31       54.39\n",
       "2364  Yanipy - Miram South Road 2015-10-25      114.28\n",
       "2365         Yarram - Napier Rd 2009-02-23     1400.84\n",
       "2366        Yellow Bog Rd (NSW) 2020-01-08      273.86\n",
       "\n",
       "[2366 rows x 3 columns]"
      ],
      "text/html": "<div>\n<style scoped>\n    .dataframe tbody tr th:only-of-type {\n        vertical-align: middle;\n    }\n\n    .dataframe tbody tr th {\n        vertical-align: top;\n    }\n\n    .dataframe thead th {\n        text-align: right;\n    }\n</style>\n<table border=\"1\" class=\"dataframe\">\n  <thead>\n    <tr style=\"text-align: right;\">\n      <th></th>\n      <th>NAME</th>\n      <th>STRTDATIT</th>\n      <th>AREA_HA</th>\n    </tr>\n  </thead>\n  <tbody>\n    <tr>\n      <th>0</th>\n      <td></td>\n      <td>1927-01-01</td>\n      <td>21097.05</td>\n    </tr>\n    <tr>\n      <th>1</th>\n      <td></td>\n      <td>1932-01-01</td>\n      <td>17576.89</td>\n    </tr>\n    <tr>\n      <th>2</th>\n      <td></td>\n      <td>1936-01-01</td>\n      <td>691.93</td>\n    </tr>\n    <tr>\n      <th>3</th>\n      <td></td>\n      <td>1938-01-01</td>\n      <td>1493.73</td>\n    </tr>\n    <tr>\n      <th>4</th>\n      <td></td>\n      <td>1939-01-01</td>\n      <td>3417937.46</td>\n    </tr>\n    <tr>\n      <th>...</th>\n      <td>...</td>\n      <td>...</td>\n      <td>...</td>\n    </tr>\n    <tr>\n      <th>2362</th>\n      <td>YIELIMA - HUGHES LANE</td>\n      <td>2014-01-05</td>\n      <td>36.67</td>\n    </tr>\n    <tr>\n      <th>2363</th>\n      <td>Yandoit - McPhersons Lane</td>\n      <td>2012-12-31</td>\n      <td>54.39</td>\n    </tr>\n    <tr>\n      <th>2364</th>\n      <td>Yanipy - Miram South Road</td>\n      <td>2015-10-25</td>\n      <td>114.28</td>\n    </tr>\n    <tr>\n      <th>2365</th>\n      <td>Yarram - Napier Rd</td>\n      <td>2009-02-23</td>\n      <td>1400.84</td>\n    </tr>\n    <tr>\n      <th>2366</th>\n      <td>Yellow Bog Rd (NSW)</td>\n      <td>2020-01-08</td>\n      <td>273.86</td>\n    </tr>\n  </tbody>\n</table>\n<p>2366 rows × 3 columns</p>\n</div>"
     },
     "metadata": {},
     "execution_count": 77
    }
   ],
   "source": [
    "data3"
   ]
  },
  {
   "cell_type": "code",
   "execution_count": 78,
   "metadata": {},
   "outputs": [
    {
     "output_type": "execute_result",
     "data": {
      "text/plain": [
       "Timestamp('1991-01-01 00:00:00')"
      ]
     },
     "metadata": {},
     "execution_count": 78
    }
   ],
   "source": [
    "date_start = \"1991-01-01\"\n",
    "date_start = pd.to_datetime(date_start)\n",
    "date_start"
   ]
  },
  {
   "cell_type": "code",
   "execution_count": 79,
   "metadata": {},
   "outputs": [
    {
     "output_type": "execute_result",
     "data": {
      "text/plain": [
       "                           NAME  STRTDATIT   AREA_HA\n",
       "86                              1991-01-01  25001.99\n",
       "87                              1991-01-08    964.63\n",
       "88                              1991-11-25  12484.08\n",
       "89                              1992-01-01   6169.29\n",
       "90                              1993-01-01   4360.03\n",
       "...                         ...        ...       ...\n",
       "2362      YIELIMA - HUGHES LANE 2014-01-05     36.67\n",
       "2363  Yandoit - McPhersons Lane 2012-12-31     54.39\n",
       "2364  Yanipy - Miram South Road 2015-10-25    114.28\n",
       "2365         Yarram - Napier Rd 2009-02-23   1400.84\n",
       "2366        Yellow Bog Rd (NSW) 2020-01-08    273.86\n",
       "\n",
       "[2265 rows x 3 columns]"
      ],
      "text/html": "<div>\n<style scoped>\n    .dataframe tbody tr th:only-of-type {\n        vertical-align: middle;\n    }\n\n    .dataframe tbody tr th {\n        vertical-align: top;\n    }\n\n    .dataframe thead th {\n        text-align: right;\n    }\n</style>\n<table border=\"1\" class=\"dataframe\">\n  <thead>\n    <tr style=\"text-align: right;\">\n      <th></th>\n      <th>NAME</th>\n      <th>STRTDATIT</th>\n      <th>AREA_HA</th>\n    </tr>\n  </thead>\n  <tbody>\n    <tr>\n      <th>86</th>\n      <td></td>\n      <td>1991-01-01</td>\n      <td>25001.99</td>\n    </tr>\n    <tr>\n      <th>87</th>\n      <td></td>\n      <td>1991-01-08</td>\n      <td>964.63</td>\n    </tr>\n    <tr>\n      <th>88</th>\n      <td></td>\n      <td>1991-11-25</td>\n      <td>12484.08</td>\n    </tr>\n    <tr>\n      <th>89</th>\n      <td></td>\n      <td>1992-01-01</td>\n      <td>6169.29</td>\n    </tr>\n    <tr>\n      <th>90</th>\n      <td></td>\n      <td>1993-01-01</td>\n      <td>4360.03</td>\n    </tr>\n    <tr>\n      <th>...</th>\n      <td>...</td>\n      <td>...</td>\n      <td>...</td>\n    </tr>\n    <tr>\n      <th>2362</th>\n      <td>YIELIMA - HUGHES LANE</td>\n      <td>2014-01-05</td>\n      <td>36.67</td>\n    </tr>\n    <tr>\n      <th>2363</th>\n      <td>Yandoit - McPhersons Lane</td>\n      <td>2012-12-31</td>\n      <td>54.39</td>\n    </tr>\n    <tr>\n      <th>2364</th>\n      <td>Yanipy - Miram South Road</td>\n      <td>2015-10-25</td>\n      <td>114.28</td>\n    </tr>\n    <tr>\n      <th>2365</th>\n      <td>Yarram - Napier Rd</td>\n      <td>2009-02-23</td>\n      <td>1400.84</td>\n    </tr>\n    <tr>\n      <th>2366</th>\n      <td>Yellow Bog Rd (NSW)</td>\n      <td>2020-01-08</td>\n      <td>273.86</td>\n    </tr>\n  </tbody>\n</table>\n<p>2265 rows × 3 columns</p>\n</div>"
     },
     "metadata": {},
     "execution_count": 79
    }
   ],
   "source": [
    "data3 = data3[data3['STRTDATIT'] >= date_start]\n",
    "data3"
   ]
  },
  {
   "cell_type": "code",
   "execution_count": 80,
   "metadata": {},
   "outputs": [],
   "source": [
    "data3['time_d'] = data3['STRTDATIT'] - date_start\n",
    "data3 = data3.reset_index(drop=True)   # 重新定义行索引"
   ]
  },
  {
   "cell_type": "code",
   "execution_count": 81,
   "metadata": {},
   "outputs": [
    {
     "output_type": "execute_result",
     "data": {
      "text/plain": [
       "                           NAME  STRTDATIT   AREA_HA     time_d\n",
       "0                               1991-01-01  25001.99     0 days\n",
       "1                               1991-01-08    964.63     7 days\n",
       "2                               1991-11-25  12484.08   328 days\n",
       "3                               1992-01-01   6169.29   365 days\n",
       "4                               1993-01-01   4360.03   731 days\n",
       "...                         ...        ...       ...        ...\n",
       "2260      YIELIMA - HUGHES LANE 2014-01-05     36.67  8405 days\n",
       "2261  Yandoit - McPhersons Lane 2012-12-31     54.39  8035 days\n",
       "2262  Yanipy - Miram South Road 2015-10-25    114.28  9063 days\n",
       "2263         Yarram - Napier Rd 2009-02-23   1400.84  6628 days\n",
       "2264        Yellow Bog Rd (NSW) 2020-01-08    273.86 10599 days\n",
       "\n",
       "[2265 rows x 4 columns]"
      ],
      "text/html": "<div>\n<style scoped>\n    .dataframe tbody tr th:only-of-type {\n        vertical-align: middle;\n    }\n\n    .dataframe tbody tr th {\n        vertical-align: top;\n    }\n\n    .dataframe thead th {\n        text-align: right;\n    }\n</style>\n<table border=\"1\" class=\"dataframe\">\n  <thead>\n    <tr style=\"text-align: right;\">\n      <th></th>\n      <th>NAME</th>\n      <th>STRTDATIT</th>\n      <th>AREA_HA</th>\n      <th>time_d</th>\n    </tr>\n  </thead>\n  <tbody>\n    <tr>\n      <th>0</th>\n      <td></td>\n      <td>1991-01-01</td>\n      <td>25001.99</td>\n      <td>0 days</td>\n    </tr>\n    <tr>\n      <th>1</th>\n      <td></td>\n      <td>1991-01-08</td>\n      <td>964.63</td>\n      <td>7 days</td>\n    </tr>\n    <tr>\n      <th>2</th>\n      <td></td>\n      <td>1991-11-25</td>\n      <td>12484.08</td>\n      <td>328 days</td>\n    </tr>\n    <tr>\n      <th>3</th>\n      <td></td>\n      <td>1992-01-01</td>\n      <td>6169.29</td>\n      <td>365 days</td>\n    </tr>\n    <tr>\n      <th>4</th>\n      <td></td>\n      <td>1993-01-01</td>\n      <td>4360.03</td>\n      <td>731 days</td>\n    </tr>\n    <tr>\n      <th>...</th>\n      <td>...</td>\n      <td>...</td>\n      <td>...</td>\n      <td>...</td>\n    </tr>\n    <tr>\n      <th>2260</th>\n      <td>YIELIMA - HUGHES LANE</td>\n      <td>2014-01-05</td>\n      <td>36.67</td>\n      <td>8405 days</td>\n    </tr>\n    <tr>\n      <th>2261</th>\n      <td>Yandoit - McPhersons Lane</td>\n      <td>2012-12-31</td>\n      <td>54.39</td>\n      <td>8035 days</td>\n    </tr>\n    <tr>\n      <th>2262</th>\n      <td>Yanipy - Miram South Road</td>\n      <td>2015-10-25</td>\n      <td>114.28</td>\n      <td>9063 days</td>\n    </tr>\n    <tr>\n      <th>2263</th>\n      <td>Yarram - Napier Rd</td>\n      <td>2009-02-23</td>\n      <td>1400.84</td>\n      <td>6628 days</td>\n    </tr>\n    <tr>\n      <th>2264</th>\n      <td>Yellow Bog Rd (NSW)</td>\n      <td>2020-01-08</td>\n      <td>273.86</td>\n      <td>10599 days</td>\n    </tr>\n  </tbody>\n</table>\n<p>2265 rows × 4 columns</p>\n</div>"
     },
     "metadata": {},
     "execution_count": 81
    }
   ],
   "source": [
    "data3"
   ]
  },
  {
   "cell_type": "code",
   "execution_count": 83,
   "metadata": {},
   "outputs": [],
   "source": [
    "data3['days'] = data3['time_d'].apply(lambda x:x.days)  # 将timestamp的数据转换成整数"
   ]
  },
  {
   "cell_type": "code",
   "execution_count": 84,
   "metadata": {},
   "outputs": [
    {
     "output_type": "execute_result",
     "data": {
      "text/plain": [
       "                           NAME  STRTDATIT   AREA_HA     time_d   days\n",
       "0                               1991-01-01  25001.99     0 days      0\n",
       "1                               1991-01-08    964.63     7 days      7\n",
       "2                               1991-11-25  12484.08   328 days    328\n",
       "3                               1992-01-01   6169.29   365 days    365\n",
       "4                               1993-01-01   4360.03   731 days    731\n",
       "...                         ...        ...       ...        ...    ...\n",
       "2260      YIELIMA - HUGHES LANE 2014-01-05     36.67  8405 days   8405\n",
       "2261  Yandoit - McPhersons Lane 2012-12-31     54.39  8035 days   8035\n",
       "2262  Yanipy - Miram South Road 2015-10-25    114.28  9063 days   9063\n",
       "2263         Yarram - Napier Rd 2009-02-23   1400.84  6628 days   6628\n",
       "2264        Yellow Bog Rd (NSW) 2020-01-08    273.86 10599 days  10599\n",
       "\n",
       "[2265 rows x 5 columns]"
      ],
      "text/html": "<div>\n<style scoped>\n    .dataframe tbody tr th:only-of-type {\n        vertical-align: middle;\n    }\n\n    .dataframe tbody tr th {\n        vertical-align: top;\n    }\n\n    .dataframe thead th {\n        text-align: right;\n    }\n</style>\n<table border=\"1\" class=\"dataframe\">\n  <thead>\n    <tr style=\"text-align: right;\">\n      <th></th>\n      <th>NAME</th>\n      <th>STRTDATIT</th>\n      <th>AREA_HA</th>\n      <th>time_d</th>\n      <th>days</th>\n    </tr>\n  </thead>\n  <tbody>\n    <tr>\n      <th>0</th>\n      <td></td>\n      <td>1991-01-01</td>\n      <td>25001.99</td>\n      <td>0 days</td>\n      <td>0</td>\n    </tr>\n    <tr>\n      <th>1</th>\n      <td></td>\n      <td>1991-01-08</td>\n      <td>964.63</td>\n      <td>7 days</td>\n      <td>7</td>\n    </tr>\n    <tr>\n      <th>2</th>\n      <td></td>\n      <td>1991-11-25</td>\n      <td>12484.08</td>\n      <td>328 days</td>\n      <td>328</td>\n    </tr>\n    <tr>\n      <th>3</th>\n      <td></td>\n      <td>1992-01-01</td>\n      <td>6169.29</td>\n      <td>365 days</td>\n      <td>365</td>\n    </tr>\n    <tr>\n      <th>4</th>\n      <td></td>\n      <td>1993-01-01</td>\n      <td>4360.03</td>\n      <td>731 days</td>\n      <td>731</td>\n    </tr>\n    <tr>\n      <th>...</th>\n      <td>...</td>\n      <td>...</td>\n      <td>...</td>\n      <td>...</td>\n      <td>...</td>\n    </tr>\n    <tr>\n      <th>2260</th>\n      <td>YIELIMA - HUGHES LANE</td>\n      <td>2014-01-05</td>\n      <td>36.67</td>\n      <td>8405 days</td>\n      <td>8405</td>\n    </tr>\n    <tr>\n      <th>2261</th>\n      <td>Yandoit - McPhersons Lane</td>\n      <td>2012-12-31</td>\n      <td>54.39</td>\n      <td>8035 days</td>\n      <td>8035</td>\n    </tr>\n    <tr>\n      <th>2262</th>\n      <td>Yanipy - Miram South Road</td>\n      <td>2015-10-25</td>\n      <td>114.28</td>\n      <td>9063 days</td>\n      <td>9063</td>\n    </tr>\n    <tr>\n      <th>2263</th>\n      <td>Yarram - Napier Rd</td>\n      <td>2009-02-23</td>\n      <td>1400.84</td>\n      <td>6628 days</td>\n      <td>6628</td>\n    </tr>\n    <tr>\n      <th>2264</th>\n      <td>Yellow Bog Rd (NSW)</td>\n      <td>2020-01-08</td>\n      <td>273.86</td>\n      <td>10599 days</td>\n      <td>10599</td>\n    </tr>\n  </tbody>\n</table>\n<p>2265 rows × 5 columns</p>\n</div>"
     },
     "metadata": {},
     "execution_count": 84
    }
   ],
   "source": [
    "data3"
   ]
  },
  {
   "cell_type": "code",
   "execution_count": 85,
   "metadata": {},
   "outputs": [],
   "source": [
    "outputfile3 = 'C:/Users/Lenovo/Desktop/firedata3.csv'\n",
    "data3.to_csv(outputfile3)"
   ]
  },
  {
   "cell_type": "code",
   "execution_count": 90,
   "metadata": {},
   "outputs": [],
   "source": [
    "location2 = 'C:\\\\Users\\\\Lenovo\\Desktop\\\\database_11072015.xlsx'\n",
    "data_history0 = pd.read_excel(location2)"
   ]
  },
  {
   "cell_type": "code",
   "execution_count": 91,
   "metadata": {},
   "outputs": [
    {
     "output_type": "execute_result",
     "data": {
      "text/plain": [
       "       id More info?  resourceType                                  title  \\\n",
       "0     NaN         JH      Bushfire      Bushfire - New South Wales - 2013   \n",
       "1    3487        QLD       Cyclone     Cyclone Oswald - Queensland - 2013   \n",
       "2    3437         JH      Bushfire      Bushfire - New South Wales - 2013   \n",
       "3    4212         HW      Heatwave             Heatwave - Victoria - 2012   \n",
       "4    3413         JH      Bushfire             Bushfire - Tasmania - 2013   \n",
       "..    ...        ...           ...                                    ...   \n",
       "311   NaN        INS         Flood      Flood - Northern Territory - 1967   \n",
       "312   154         NO      Bushfire              Bushfire -Tasmania - 1967   \n",
       "313   NaN        REV       Cyclone      Cyclone Dinah - Queensland - 1967   \n",
       "314   NaN        INS  Severe Storm  Severe Storm - New South Wales - 1967   \n",
       "315   NaN        NaN           NaN                                    NaN   \n",
       "\n",
       "                                           description           startDate  \\\n",
       "0    The 2013 New South Wales bushfires were a seri... 2013-10-17 00:00:00   \n",
       "1    Tropical Cyclone Oswald formed in the Gulf of ... 2013-01-21 09:49:40   \n",
       "2    Bushfires started in the southern regions of N... 2013-01-07 14:41:09   \n",
       "3    From late December 2012 to early January 2013,... 2012-12-27 00:00:00   \n",
       "4    In early January 2013 up to 40 fires were burn... 2013-01-03 13:49:51   \n",
       "..                                                 ...                 ...   \n",
       "311  Between February 5 and March 8, 1967, central ... 1967-02-05 00:00:00   \n",
       "312  On 7 February 1967 over 100 fires were burning... 1967-02-07 00:00:00   \n",
       "313  TC Dinah initially caused severe damage at Her... 1967-01-28 00:00:00   \n",
       "314  Shortly after 6pm on the 28th January 1967 a t... 1967-01-28 00:00:00   \n",
       "315                                                NaN                 NaT   \n",
       "\n",
       "                 endDate     Month    Year  \\\n",
       "0    2013-10-27 00:00:00   October  2013.0   \n",
       "1    2013-01-29 09:49:40   January  2013.0   \n",
       "2    2013-01-20 14:41:09   January  2013.0   \n",
       "3    2013-01-19 00:00:00   January  2013.0   \n",
       "4    2013-01-14 13:49:51   January  2013.0   \n",
       "..                   ...       ...     ...   \n",
       "311  1967-03-08 00:00:00     March  1967.0   \n",
       "312  1967-02-07 00:00:00  February  1967.0   \n",
       "313  1967-01-28 00:00:00  February  1967.0   \n",
       "314  1967-01-28 00:00:00   January  1967.0   \n",
       "315                            NaN     NaN   \n",
       "\n",
       "                                          Towns/Cities  ...  \\\n",
       "0    Lithgow, Springwood; Mount Victoria; Bell, Bil...  ...   \n",
       "1                                                  NaN  ...   \n",
       "2    Coonabarabran, Yass, Cooma, Shoalhaven, Jugion...  ...   \n",
       "3                                                  NaN  ...   \n",
       "4    Bicheno; Boomer Bay, Connelly’s Marsh, Copping...  ...   \n",
       "..                                                 ...  ...   \n",
       "311                                          Lake Eyre  ...   \n",
       "312  Hamilton; Bothwell; Derwent Valley; Huon Valle...  ...   \n",
       "313  Sandy Cape; Rockhampton; Grafton; Bundaberg; M...  ...   \n",
       "314                                    Finley, Benella  ...   \n",
       "315                                                NaN  ...   \n",
       "\n",
       "    Livestock_Destroyed_Count_Sheep_Goats Livestock_Destroyed_Count_Poultry  \\\n",
       "0                                     NaN                               NaN   \n",
       "1                                     NaN                               NaN   \n",
       "2                                     NaN                               NaN   \n",
       "3                                     NaN                               NaN   \n",
       "4                                     NaN                               NaN   \n",
       "..                                    ...                               ...   \n",
       "311                                   NaN                               NaN   \n",
       "312                               60000.0                           24000.0   \n",
       "313                                   NaN                               NaN   \n",
       "314                                   NaN                               NaN   \n",
       "315                                   NaN                               NaN   \n",
       "\n",
       "    Livestock_Destroyed_Count_Pigs  Livestock_Destroyed_Count_Other  \\\n",
       "0                              NaN                              NaN   \n",
       "1                              NaN                              NaN   \n",
       "2                              NaN                              NaN   \n",
       "3                              NaN                              NaN   \n",
       "4                              NaN                              NaN   \n",
       "..                             ...                              ...   \n",
       "311                            NaN                              NaN   \n",
       "312                            NaN                            500.0   \n",
       "313                            NaN                              NaN   \n",
       "314                            NaN                              NaN   \n",
       "315                            NaN                              NaN   \n",
       "\n",
       "    Livestock_Destroyed_Dollars  Fencing Environmental_Count  \\\n",
       "0                           NaN      NaN                 NaN   \n",
       "1                           NaN      NaN                 NaN   \n",
       "2                           NaN      NaN                 NaN   \n",
       "3                           NaN      NaN                 NaN   \n",
       "4                           NaN      NaN                 NaN   \n",
       "..                          ...      ...                 ...   \n",
       "311                         NaN      NaN                 NaN   \n",
       "312                         NaN   5400.0                 NaN   \n",
       "313                         NaN      NaN                 NaN   \n",
       "314                         NaN      NaN                 NaN   \n",
       "315                         NaN      NaN                 NaN   \n",
       "\n",
       "     Environmental_Dollars  Indirects - Business disruption  Column1  \n",
       "0                      NaN                       30000000.0      9.0  \n",
       "1                      NaN                              NaN      9.0  \n",
       "2                      NaN                              NaN      5.0  \n",
       "3                      NaN                              NaN      0.0  \n",
       "4                      NaN                              NaN      9.0  \n",
       "..                     ...                              ...      ...  \n",
       "311                    NaN                              NaN      2.0  \n",
       "312                    NaN                              NaN     16.0  \n",
       "313                    NaN                              NaN      6.0  \n",
       "314                    NaN                              NaN      0.0  \n",
       "315                    NaN                              NaN      NaN  \n",
       "\n",
       "[316 rows x 113 columns]"
      ],
      "text/html": "<div>\n<style scoped>\n    .dataframe tbody tr th:only-of-type {\n        vertical-align: middle;\n    }\n\n    .dataframe tbody tr th {\n        vertical-align: top;\n    }\n\n    .dataframe thead th {\n        text-align: right;\n    }\n</style>\n<table border=\"1\" class=\"dataframe\">\n  <thead>\n    <tr style=\"text-align: right;\">\n      <th></th>\n      <th>id</th>\n      <th>More info?</th>\n      <th>resourceType</th>\n      <th>title</th>\n      <th>description</th>\n      <th>startDate</th>\n      <th>endDate</th>\n      <th>Month</th>\n      <th>Year</th>\n      <th>Towns/Cities</th>\n      <th>...</th>\n      <th>Livestock_Destroyed_Count_Sheep_Goats</th>\n      <th>Livestock_Destroyed_Count_Poultry</th>\n      <th>Livestock_Destroyed_Count_Pigs</th>\n      <th>Livestock_Destroyed_Count_Other</th>\n      <th>Livestock_Destroyed_Dollars</th>\n      <th>Fencing</th>\n      <th>Environmental_Count</th>\n      <th>Environmental_Dollars</th>\n      <th>Indirects - Business disruption</th>\n      <th>Column1</th>\n    </tr>\n  </thead>\n  <tbody>\n    <tr>\n      <th>0</th>\n      <td>NaN</td>\n      <td>JH</td>\n      <td>Bushfire</td>\n      <td>Bushfire - New South Wales - 2013</td>\n      <td>The 2013 New South Wales bushfires were a seri...</td>\n      <td>2013-10-17 00:00:00</td>\n      <td>2013-10-27 00:00:00</td>\n      <td>October</td>\n      <td>2013.0</td>\n      <td>Lithgow, Springwood; Mount Victoria; Bell, Bil...</td>\n      <td>...</td>\n      <td>NaN</td>\n      <td>NaN</td>\n      <td>NaN</td>\n      <td>NaN</td>\n      <td>NaN</td>\n      <td>NaN</td>\n      <td>NaN</td>\n      <td>NaN</td>\n      <td>30000000.0</td>\n      <td>9.0</td>\n    </tr>\n    <tr>\n      <th>1</th>\n      <td>3487</td>\n      <td>QLD</td>\n      <td>Cyclone</td>\n      <td>Cyclone Oswald - Queensland - 2013</td>\n      <td>Tropical Cyclone Oswald formed in the Gulf of ...</td>\n      <td>2013-01-21 09:49:40</td>\n      <td>2013-01-29 09:49:40</td>\n      <td>January</td>\n      <td>2013.0</td>\n      <td>NaN</td>\n      <td>...</td>\n      <td>NaN</td>\n      <td>NaN</td>\n      <td>NaN</td>\n      <td>NaN</td>\n      <td>NaN</td>\n      <td>NaN</td>\n      <td>NaN</td>\n      <td>NaN</td>\n      <td>NaN</td>\n      <td>9.0</td>\n    </tr>\n    <tr>\n      <th>2</th>\n      <td>3437</td>\n      <td>JH</td>\n      <td>Bushfire</td>\n      <td>Bushfire - New South Wales - 2013</td>\n      <td>Bushfires started in the southern regions of N...</td>\n      <td>2013-01-07 14:41:09</td>\n      <td>2013-01-20 14:41:09</td>\n      <td>January</td>\n      <td>2013.0</td>\n      <td>Coonabarabran, Yass, Cooma, Shoalhaven, Jugion...</td>\n      <td>...</td>\n      <td>NaN</td>\n      <td>NaN</td>\n      <td>NaN</td>\n      <td>NaN</td>\n      <td>NaN</td>\n      <td>NaN</td>\n      <td>NaN</td>\n      <td>NaN</td>\n      <td>NaN</td>\n      <td>5.0</td>\n    </tr>\n    <tr>\n      <th>3</th>\n      <td>4212</td>\n      <td>HW</td>\n      <td>Heatwave</td>\n      <td>Heatwave - Victoria - 2012</td>\n      <td>From late December 2012 to early January 2013,...</td>\n      <td>2012-12-27 00:00:00</td>\n      <td>2013-01-19 00:00:00</td>\n      <td>January</td>\n      <td>2013.0</td>\n      <td>NaN</td>\n      <td>...</td>\n      <td>NaN</td>\n      <td>NaN</td>\n      <td>NaN</td>\n      <td>NaN</td>\n      <td>NaN</td>\n      <td>NaN</td>\n      <td>NaN</td>\n      <td>NaN</td>\n      <td>NaN</td>\n      <td>0.0</td>\n    </tr>\n    <tr>\n      <th>4</th>\n      <td>3413</td>\n      <td>JH</td>\n      <td>Bushfire</td>\n      <td>Bushfire - Tasmania - 2013</td>\n      <td>In early January 2013 up to 40 fires were burn...</td>\n      <td>2013-01-03 13:49:51</td>\n      <td>2013-01-14 13:49:51</td>\n      <td>January</td>\n      <td>2013.0</td>\n      <td>Bicheno; Boomer Bay, Connelly’s Marsh, Copping...</td>\n      <td>...</td>\n      <td>NaN</td>\n      <td>NaN</td>\n      <td>NaN</td>\n      <td>NaN</td>\n      <td>NaN</td>\n      <td>NaN</td>\n      <td>NaN</td>\n      <td>NaN</td>\n      <td>NaN</td>\n      <td>9.0</td>\n    </tr>\n    <tr>\n      <th>...</th>\n      <td>...</td>\n      <td>...</td>\n      <td>...</td>\n      <td>...</td>\n      <td>...</td>\n      <td>...</td>\n      <td>...</td>\n      <td>...</td>\n      <td>...</td>\n      <td>...</td>\n      <td>...</td>\n      <td>...</td>\n      <td>...</td>\n      <td>...</td>\n      <td>...</td>\n      <td>...</td>\n      <td>...</td>\n      <td>...</td>\n      <td>...</td>\n      <td>...</td>\n      <td>...</td>\n    </tr>\n    <tr>\n      <th>311</th>\n      <td>NaN</td>\n      <td>INS</td>\n      <td>Flood</td>\n      <td>Flood - Northern Territory - 1967</td>\n      <td>Between February 5 and March 8, 1967, central ...</td>\n      <td>1967-02-05 00:00:00</td>\n      <td>1967-03-08 00:00:00</td>\n      <td>March</td>\n      <td>1967.0</td>\n      <td>Lake Eyre</td>\n      <td>...</td>\n      <td>NaN</td>\n      <td>NaN</td>\n      <td>NaN</td>\n      <td>NaN</td>\n      <td>NaN</td>\n      <td>NaN</td>\n      <td>NaN</td>\n      <td>NaN</td>\n      <td>NaN</td>\n      <td>2.0</td>\n    </tr>\n    <tr>\n      <th>312</th>\n      <td>154</td>\n      <td>NO</td>\n      <td>Bushfire</td>\n      <td>Bushfire -Tasmania - 1967</td>\n      <td>On 7 February 1967 over 100 fires were burning...</td>\n      <td>1967-02-07 00:00:00</td>\n      <td>1967-02-07 00:00:00</td>\n      <td>February</td>\n      <td>1967.0</td>\n      <td>Hamilton; Bothwell; Derwent Valley; Huon Valle...</td>\n      <td>...</td>\n      <td>60000.0</td>\n      <td>24000.0</td>\n      <td>NaN</td>\n      <td>500.0</td>\n      <td>NaN</td>\n      <td>5400.0</td>\n      <td>NaN</td>\n      <td>NaN</td>\n      <td>NaN</td>\n      <td>16.0</td>\n    </tr>\n    <tr>\n      <th>313</th>\n      <td>NaN</td>\n      <td>REV</td>\n      <td>Cyclone</td>\n      <td>Cyclone Dinah - Queensland - 1967</td>\n      <td>TC Dinah initially caused severe damage at Her...</td>\n      <td>1967-01-28 00:00:00</td>\n      <td>1967-01-28 00:00:00</td>\n      <td>February</td>\n      <td>1967.0</td>\n      <td>Sandy Cape; Rockhampton; Grafton; Bundaberg; M...</td>\n      <td>...</td>\n      <td>NaN</td>\n      <td>NaN</td>\n      <td>NaN</td>\n      <td>NaN</td>\n      <td>NaN</td>\n      <td>NaN</td>\n      <td>NaN</td>\n      <td>NaN</td>\n      <td>NaN</td>\n      <td>6.0</td>\n    </tr>\n    <tr>\n      <th>314</th>\n      <td>NaN</td>\n      <td>INS</td>\n      <td>Severe Storm</td>\n      <td>Severe Storm - New South Wales - 1967</td>\n      <td>Shortly after 6pm on the 28th January 1967 a t...</td>\n      <td>1967-01-28 00:00:00</td>\n      <td>1967-01-28 00:00:00</td>\n      <td>January</td>\n      <td>1967.0</td>\n      <td>Finley, Benella</td>\n      <td>...</td>\n      <td>NaN</td>\n      <td>NaN</td>\n      <td>NaN</td>\n      <td>NaN</td>\n      <td>NaN</td>\n      <td>NaN</td>\n      <td>NaN</td>\n      <td>NaN</td>\n      <td>NaN</td>\n      <td>0.0</td>\n    </tr>\n    <tr>\n      <th>315</th>\n      <td>NaN</td>\n      <td>NaN</td>\n      <td>NaN</td>\n      <td>NaN</td>\n      <td>NaN</td>\n      <td>NaT</td>\n      <td></td>\n      <td>NaN</td>\n      <td>NaN</td>\n      <td>NaN</td>\n      <td>...</td>\n      <td>NaN</td>\n      <td>NaN</td>\n      <td>NaN</td>\n      <td>NaN</td>\n      <td>NaN</td>\n      <td>NaN</td>\n      <td>NaN</td>\n      <td>NaN</td>\n      <td>NaN</td>\n      <td>NaN</td>\n    </tr>\n  </tbody>\n</table>\n<p>316 rows × 113 columns</p>\n</div>"
     },
     "metadata": {},
     "execution_count": 91
    }
   ],
   "source": [
    "data_history0"
   ]
  },
  {
   "cell_type": "code",
   "execution_count": 97,
   "metadata": {},
   "outputs": [],
   "source": [
    "data_history = data_history0[data_history0['resourceType'] == 'Bushfire']"
   ]
  },
  {
   "cell_type": "code",
   "execution_count": 98,
   "metadata": {},
   "outputs": [],
   "source": [
    "data_history =  data_history[data_history['State 1'] == 'Victoria']"
   ]
  },
  {
   "cell_type": "code",
   "execution_count": 99,
   "metadata": {},
   "outputs": [
    {
     "output_type": "execute_result",
     "data": {
      "text/plain": [
       "      id More info? resourceType                              title  \\\n",
       "30   482         JH     Bushfire         Bushfire - Victoria - 2009   \n",
       "45    22         JH     Bushfire         Bushfire - Victoria - 2007   \n",
       "50   442         NO     Bushfire  Bushfire - New South Wales - 2006   \n",
       "75   374         NO     Bushfire         Bushfire - Victoria - 2003   \n",
       "114  210         JH     Bushfire         Bushfire - Victoria - 1998   \n",
       "135   36         JH     Bushfire         Bushfire - Victoria - 1997   \n",
       "176  NaN         JH     Bushfire         Bushfire - Victoria - 1991   \n",
       "220  196         JH     Bushfire         Bushfire - Victoria - 1985   \n",
       "230  131        REV     Bushfire         Bushfire - Victoria - 1983   \n",
       "266  309         JH     Bushfire         Bushfire - Victoria - 1977   \n",
       "305  140         JH     Bushfire         Bushfire - Victoria - 1969   \n",
       "\n",
       "                                           description  startDate  \\\n",
       "30   On 7 February 2009 as many as 400 fires were r... 2009-02-07   \n",
       "45   Victoria experienced a very adverse fire seaso... 2006-12-01   \n",
       "50   More than 500 fires broke out across the state... 2005-12-31   \n",
       "75   The Alpine bushfires started on 8 January 2003... 2003-01-08   \n",
       "114  On 2 December 1998, a fire six km north of Lin... 1998-12-02   \n",
       "135  On 19 January 1997, temperatures soared above ... 1997-01-19   \n",
       "176                                                NaN 1990-12-27   \n",
       "220  On 14 January 1985 a significant number of bus... 1985-01-14   \n",
       "230  The 'Ash Wednesday' fires of 16 February 1983 ... 1983-02-16   \n",
       "266  On 12 February 1977, Streatham was partially d... 1977-02-12   \n",
       "305  On 8 January 1969 a total fire ban day was dec... 1969-01-08   \n",
       "\n",
       "                 endDate     Month    Year  \\\n",
       "30   2009-02-08 00:00:00  February  2009.0   \n",
       "45   2007-02-07 00:00:00  February  2007.0   \n",
       "50   2006-01-31 00:00:00   January  2006.0   \n",
       "75   2003-03-19 00:00:00   January  2003.0   \n",
       "114  1998-12-02 00:00:00  December  1998.0   \n",
       "135  1997-01-21 00:00:00   January  1997.0   \n",
       "176  1991-01-10 00:00:00   January  1991.0   \n",
       "220  1985-01-28 00:00:00   January  1985.0   \n",
       "230  1983-02-18 00:00:00  February  1983.0   \n",
       "266  1977-02-12 00:00:00  February  1977.0   \n",
       "305  1969-01-09 00:00:00   January  1969.0   \n",
       "\n",
       "                                          Towns/Cities  ...  \\\n",
       "30                                                 NaN  ...   \n",
       "45   Alpine Shire, Benalla, Indigo Shire, Mansfield...  ...   \n",
       "50   Ararat, Baw Baw Shire, Glenelg Shire, Golden P...  ...   \n",
       "75                                                 NaN  ...   \n",
       "114                                                NaN  ...   \n",
       "135  Dandenong Ranges, Creswick, Heathcote, Teddywa...  ...   \n",
       "176                                 Strathbogie Ranges  ...   \n",
       "220  Kilmore, Avoca, Lara, Maryborough, Little Rive...  ...   \n",
       "230  Monivae, Branxholme, Cockatoo East, Trentham, ...  ...   \n",
       "266  Streatham, Penshurst, Tatyoon, Creswick, Pura ...  ...   \n",
       "305  Lara; Daylesford; Dulgana; Yea; Darraweit; Kan...  ...   \n",
       "\n",
       "    Livestock_Destroyed_Count_Sheep_Goats Livestock_Destroyed_Count_Poultry  \\\n",
       "30                                 4500.0                               NaN   \n",
       "45                                    NaN                               NaN   \n",
       "50                                63243.0                               NaN   \n",
       "75                                 9185.0                               NaN   \n",
       "114                                   NaN                               NaN   \n",
       "135                                   NaN                               NaN   \n",
       "176                                   NaN                               NaN   \n",
       "220                                   NaN                               NaN   \n",
       "230                              246900.0                               NaN   \n",
       "266                              250000.0                               NaN   \n",
       "305                                   NaN                           10000.0   \n",
       "\n",
       "    Livestock_Destroyed_Count_Pigs  Livestock_Destroyed_Count_Other  \\\n",
       "30                             NaN                           3300.0   \n",
       "45                             NaN                              NaN   \n",
       "50                             NaN                           2964.0   \n",
       "75                             NaN                            184.0   \n",
       "114                            NaN                              NaN   \n",
       "135                            NaN                              NaN   \n",
       "176                            NaN                              NaN   \n",
       "220                            NaN                              NaN   \n",
       "230                            NaN                            760.0   \n",
       "266                            NaN                              NaN   \n",
       "305                            NaN                              NaN   \n",
       "\n",
       "    Livestock_Destroyed_Dollars  Fencing Environmental_Count  \\\n",
       "30                          NaN      NaN                 NaN   \n",
       "45                          NaN      NaN                 NaN   \n",
       "50                          NaN   2645.0                 NaN   \n",
       "75                          NaN   3000.0                 NaN   \n",
       "114                         NaN      NaN                 NaN   \n",
       "135                         NaN      NaN                 NaN   \n",
       "176                         NaN      NaN                 NaN   \n",
       "220                         NaN      NaN                 NaN   \n",
       "230                 300000000.0  18939.0                 NaN   \n",
       "266                         NaN  10000.0                 NaN   \n",
       "305                         NaN  10000.0                 NaN   \n",
       "\n",
       "     Environmental_Dollars  Indirects - Business disruption  Column1  \n",
       "30                     NaN                              NaN     15.0  \n",
       "45                     NaN                              NaN      4.0  \n",
       "50                     NaN                      100000000.0     14.0  \n",
       "75            1.095000e+09                              NaN     22.0  \n",
       "114                    NaN                              NaN      1.0  \n",
       "135                    NaN                              NaN      2.0  \n",
       "176                    NaN                              NaN      5.0  \n",
       "220                    NaN                              NaN      6.0  \n",
       "230                    NaN                              NaN     19.0  \n",
       "266                    NaN                              NaN      9.0  \n",
       "305                    NaN                              NaN     13.0  \n",
       "\n",
       "[11 rows x 113 columns]"
      ],
      "text/html": "<div>\n<style scoped>\n    .dataframe tbody tr th:only-of-type {\n        vertical-align: middle;\n    }\n\n    .dataframe tbody tr th {\n        vertical-align: top;\n    }\n\n    .dataframe thead th {\n        text-align: right;\n    }\n</style>\n<table border=\"1\" class=\"dataframe\">\n  <thead>\n    <tr style=\"text-align: right;\">\n      <th></th>\n      <th>id</th>\n      <th>More info?</th>\n      <th>resourceType</th>\n      <th>title</th>\n      <th>description</th>\n      <th>startDate</th>\n      <th>endDate</th>\n      <th>Month</th>\n      <th>Year</th>\n      <th>Towns/Cities</th>\n      <th>...</th>\n      <th>Livestock_Destroyed_Count_Sheep_Goats</th>\n      <th>Livestock_Destroyed_Count_Poultry</th>\n      <th>Livestock_Destroyed_Count_Pigs</th>\n      <th>Livestock_Destroyed_Count_Other</th>\n      <th>Livestock_Destroyed_Dollars</th>\n      <th>Fencing</th>\n      <th>Environmental_Count</th>\n      <th>Environmental_Dollars</th>\n      <th>Indirects - Business disruption</th>\n      <th>Column1</th>\n    </tr>\n  </thead>\n  <tbody>\n    <tr>\n      <th>30</th>\n      <td>482</td>\n      <td>JH</td>\n      <td>Bushfire</td>\n      <td>Bushfire - Victoria - 2009</td>\n      <td>On 7 February 2009 as many as 400 fires were r...</td>\n      <td>2009-02-07</td>\n      <td>2009-02-08 00:00:00</td>\n      <td>February</td>\n      <td>2009.0</td>\n      <td>NaN</td>\n      <td>...</td>\n      <td>4500.0</td>\n      <td>NaN</td>\n      <td>NaN</td>\n      <td>3300.0</td>\n      <td>NaN</td>\n      <td>NaN</td>\n      <td>NaN</td>\n      <td>NaN</td>\n      <td>NaN</td>\n      <td>15.0</td>\n    </tr>\n    <tr>\n      <th>45</th>\n      <td>22</td>\n      <td>JH</td>\n      <td>Bushfire</td>\n      <td>Bushfire - Victoria - 2007</td>\n      <td>Victoria experienced a very adverse fire seaso...</td>\n      <td>2006-12-01</td>\n      <td>2007-02-07 00:00:00</td>\n      <td>February</td>\n      <td>2007.0</td>\n      <td>Alpine Shire, Benalla, Indigo Shire, Mansfield...</td>\n      <td>...</td>\n      <td>NaN</td>\n      <td>NaN</td>\n      <td>NaN</td>\n      <td>NaN</td>\n      <td>NaN</td>\n      <td>NaN</td>\n      <td>NaN</td>\n      <td>NaN</td>\n      <td>NaN</td>\n      <td>4.0</td>\n    </tr>\n    <tr>\n      <th>50</th>\n      <td>442</td>\n      <td>NO</td>\n      <td>Bushfire</td>\n      <td>Bushfire - New South Wales - 2006</td>\n      <td>More than 500 fires broke out across the state...</td>\n      <td>2005-12-31</td>\n      <td>2006-01-31 00:00:00</td>\n      <td>January</td>\n      <td>2006.0</td>\n      <td>Ararat, Baw Baw Shire, Glenelg Shire, Golden P...</td>\n      <td>...</td>\n      <td>63243.0</td>\n      <td>NaN</td>\n      <td>NaN</td>\n      <td>2964.0</td>\n      <td>NaN</td>\n      <td>2645.0</td>\n      <td>NaN</td>\n      <td>NaN</td>\n      <td>100000000.0</td>\n      <td>14.0</td>\n    </tr>\n    <tr>\n      <th>75</th>\n      <td>374</td>\n      <td>NO</td>\n      <td>Bushfire</td>\n      <td>Bushfire - Victoria - 2003</td>\n      <td>The Alpine bushfires started on 8 January 2003...</td>\n      <td>2003-01-08</td>\n      <td>2003-03-19 00:00:00</td>\n      <td>January</td>\n      <td>2003.0</td>\n      <td>NaN</td>\n      <td>...</td>\n      <td>9185.0</td>\n      <td>NaN</td>\n      <td>NaN</td>\n      <td>184.0</td>\n      <td>NaN</td>\n      <td>3000.0</td>\n      <td>NaN</td>\n      <td>1.095000e+09</td>\n      <td>NaN</td>\n      <td>22.0</td>\n    </tr>\n    <tr>\n      <th>114</th>\n      <td>210</td>\n      <td>JH</td>\n      <td>Bushfire</td>\n      <td>Bushfire - Victoria - 1998</td>\n      <td>On 2 December 1998, a fire six km north of Lin...</td>\n      <td>1998-12-02</td>\n      <td>1998-12-02 00:00:00</td>\n      <td>December</td>\n      <td>1998.0</td>\n      <td>NaN</td>\n      <td>...</td>\n      <td>NaN</td>\n      <td>NaN</td>\n      <td>NaN</td>\n      <td>NaN</td>\n      <td>NaN</td>\n      <td>NaN</td>\n      <td>NaN</td>\n      <td>NaN</td>\n      <td>NaN</td>\n      <td>1.0</td>\n    </tr>\n    <tr>\n      <th>135</th>\n      <td>36</td>\n      <td>JH</td>\n      <td>Bushfire</td>\n      <td>Bushfire - Victoria - 1997</td>\n      <td>On 19 January 1997, temperatures soared above ...</td>\n      <td>1997-01-19</td>\n      <td>1997-01-21 00:00:00</td>\n      <td>January</td>\n      <td>1997.0</td>\n      <td>Dandenong Ranges, Creswick, Heathcote, Teddywa...</td>\n      <td>...</td>\n      <td>NaN</td>\n      <td>NaN</td>\n      <td>NaN</td>\n      <td>NaN</td>\n      <td>NaN</td>\n      <td>NaN</td>\n      <td>NaN</td>\n      <td>NaN</td>\n      <td>NaN</td>\n      <td>2.0</td>\n    </tr>\n    <tr>\n      <th>176</th>\n      <td>NaN</td>\n      <td>JH</td>\n      <td>Bushfire</td>\n      <td>Bushfire - Victoria - 1991</td>\n      <td>NaN</td>\n      <td>1990-12-27</td>\n      <td>1991-01-10 00:00:00</td>\n      <td>January</td>\n      <td>1991.0</td>\n      <td>Strathbogie Ranges</td>\n      <td>...</td>\n      <td>NaN</td>\n      <td>NaN</td>\n      <td>NaN</td>\n      <td>NaN</td>\n      <td>NaN</td>\n      <td>NaN</td>\n      <td>NaN</td>\n      <td>NaN</td>\n      <td>NaN</td>\n      <td>5.0</td>\n    </tr>\n    <tr>\n      <th>220</th>\n      <td>196</td>\n      <td>JH</td>\n      <td>Bushfire</td>\n      <td>Bushfire - Victoria - 1985</td>\n      <td>On 14 January 1985 a significant number of bus...</td>\n      <td>1985-01-14</td>\n      <td>1985-01-28 00:00:00</td>\n      <td>January</td>\n      <td>1985.0</td>\n      <td>Kilmore, Avoca, Lara, Maryborough, Little Rive...</td>\n      <td>...</td>\n      <td>NaN</td>\n      <td>NaN</td>\n      <td>NaN</td>\n      <td>NaN</td>\n      <td>NaN</td>\n      <td>NaN</td>\n      <td>NaN</td>\n      <td>NaN</td>\n      <td>NaN</td>\n      <td>6.0</td>\n    </tr>\n    <tr>\n      <th>230</th>\n      <td>131</td>\n      <td>REV</td>\n      <td>Bushfire</td>\n      <td>Bushfire - Victoria - 1983</td>\n      <td>The 'Ash Wednesday' fires of 16 February 1983 ...</td>\n      <td>1983-02-16</td>\n      <td>1983-02-18 00:00:00</td>\n      <td>February</td>\n      <td>1983.0</td>\n      <td>Monivae, Branxholme, Cockatoo East, Trentham, ...</td>\n      <td>...</td>\n      <td>246900.0</td>\n      <td>NaN</td>\n      <td>NaN</td>\n      <td>760.0</td>\n      <td>300000000.0</td>\n      <td>18939.0</td>\n      <td>NaN</td>\n      <td>NaN</td>\n      <td>NaN</td>\n      <td>19.0</td>\n    </tr>\n    <tr>\n      <th>266</th>\n      <td>309</td>\n      <td>JH</td>\n      <td>Bushfire</td>\n      <td>Bushfire - Victoria - 1977</td>\n      <td>On 12 February 1977, Streatham was partially d...</td>\n      <td>1977-02-12</td>\n      <td>1977-02-12 00:00:00</td>\n      <td>February</td>\n      <td>1977.0</td>\n      <td>Streatham, Penshurst, Tatyoon, Creswick, Pura ...</td>\n      <td>...</td>\n      <td>250000.0</td>\n      <td>NaN</td>\n      <td>NaN</td>\n      <td>NaN</td>\n      <td>NaN</td>\n      <td>10000.0</td>\n      <td>NaN</td>\n      <td>NaN</td>\n      <td>NaN</td>\n      <td>9.0</td>\n    </tr>\n    <tr>\n      <th>305</th>\n      <td>140</td>\n      <td>JH</td>\n      <td>Bushfire</td>\n      <td>Bushfire - Victoria - 1969</td>\n      <td>On 8 January 1969 a total fire ban day was dec...</td>\n      <td>1969-01-08</td>\n      <td>1969-01-09 00:00:00</td>\n      <td>January</td>\n      <td>1969.0</td>\n      <td>Lara; Daylesford; Dulgana; Yea; Darraweit; Kan...</td>\n      <td>...</td>\n      <td>NaN</td>\n      <td>10000.0</td>\n      <td>NaN</td>\n      <td>NaN</td>\n      <td>NaN</td>\n      <td>10000.0</td>\n      <td>NaN</td>\n      <td>NaN</td>\n      <td>NaN</td>\n      <td>13.0</td>\n    </tr>\n  </tbody>\n</table>\n<p>11 rows × 113 columns</p>\n</div>"
     },
     "metadata": {},
     "execution_count": 99
    }
   ],
   "source": [
    "data_history"
   ]
  },
  {
   "cell_type": "code",
   "execution_count": 107,
   "metadata": {},
   "outputs": [
    {
     "output_type": "execute_result",
     "data": {
      "text/plain": [
       "    startDate              endDate\n",
       "0  2009-02-07  2009-02-08 00:00:00\n",
       "1  2006-12-01  2007-02-07 00:00:00\n",
       "2  2005-12-31  2006-01-31 00:00:00\n",
       "3  2003-01-08  2003-03-19 00:00:00\n",
       "4  1998-12-02  1998-12-02 00:00:00\n",
       "5  1997-01-19  1997-01-21 00:00:00\n",
       "6  1990-12-27  1991-01-10 00:00:00\n",
       "7  1985-01-14  1985-01-28 00:00:00\n",
       "8  1983-02-16  1983-02-18 00:00:00\n",
       "9  1977-02-12  1977-02-12 00:00:00\n",
       "10 1969-01-08  1969-01-09 00:00:00"
      ],
      "text/html": "<div>\n<style scoped>\n    .dataframe tbody tr th:only-of-type {\n        vertical-align: middle;\n    }\n\n    .dataframe tbody tr th {\n        vertical-align: top;\n    }\n\n    .dataframe thead th {\n        text-align: right;\n    }\n</style>\n<table border=\"1\" class=\"dataframe\">\n  <thead>\n    <tr style=\"text-align: right;\">\n      <th></th>\n      <th>startDate</th>\n      <th>endDate</th>\n    </tr>\n  </thead>\n  <tbody>\n    <tr>\n      <th>0</th>\n      <td>2009-02-07</td>\n      <td>2009-02-08 00:00:00</td>\n    </tr>\n    <tr>\n      <th>1</th>\n      <td>2006-12-01</td>\n      <td>2007-02-07 00:00:00</td>\n    </tr>\n    <tr>\n      <th>2</th>\n      <td>2005-12-31</td>\n      <td>2006-01-31 00:00:00</td>\n    </tr>\n    <tr>\n      <th>3</th>\n      <td>2003-01-08</td>\n      <td>2003-03-19 00:00:00</td>\n    </tr>\n    <tr>\n      <th>4</th>\n      <td>1998-12-02</td>\n      <td>1998-12-02 00:00:00</td>\n    </tr>\n    <tr>\n      <th>5</th>\n      <td>1997-01-19</td>\n      <td>1997-01-21 00:00:00</td>\n    </tr>\n    <tr>\n      <th>6</th>\n      <td>1990-12-27</td>\n      <td>1991-01-10 00:00:00</td>\n    </tr>\n    <tr>\n      <th>7</th>\n      <td>1985-01-14</td>\n      <td>1985-01-28 00:00:00</td>\n    </tr>\n    <tr>\n      <th>8</th>\n      <td>1983-02-16</td>\n      <td>1983-02-18 00:00:00</td>\n    </tr>\n    <tr>\n      <th>9</th>\n      <td>1977-02-12</td>\n      <td>1977-02-12 00:00:00</td>\n    </tr>\n    <tr>\n      <th>10</th>\n      <td>1969-01-08</td>\n      <td>1969-01-09 00:00:00</td>\n    </tr>\n  </tbody>\n</table>\n</div>"
     },
     "metadata": {},
     "execution_count": 107
    }
   ],
   "source": [
    "data_history1 = data_history.loc[:,['startDate', 'endDate']]\n",
    "data_history1 = data_history1.reset_index(drop=True)   # 重新定义行索引\n",
    "data_history1"
   ]
  },
  {
   "cell_type": "code",
   "execution_count": 108,
   "metadata": {},
   "outputs": [
    {
     "output_type": "execute_result",
     "data": {
      "text/plain": [
       "pandas._libs.tslibs.timestamps.Timestamp"
      ]
     },
     "metadata": {},
     "execution_count": 108
    }
   ],
   "source": [
    "type(data_history1['startDate'][0])"
   ]
  },
  {
   "cell_type": "code",
   "execution_count": 111,
   "metadata": {},
   "outputs": [
    {
     "output_type": "execute_result",
     "data": {
      "text/plain": [
       "pandas._libs.tslibs.timestamps.Timestamp"
      ]
     },
     "metadata": {},
     "execution_count": 111
    }
   ],
   "source": [
    "type(data_history1['endDate'][0])"
   ]
  },
  {
   "cell_type": "code",
   "execution_count": 110,
   "metadata": {},
   "outputs": [],
   "source": [
    "data_history1['endDate'] = pd.to_datetime(data_history1['endDate'])"
   ]
  },
  {
   "cell_type": "code",
   "execution_count": 115,
   "metadata": {},
   "outputs": [
    {
     "output_type": "execute_result",
     "data": {
      "text/plain": [
       "    startDate    endDate     day  days\n",
       "0  2009-02-07 2009-02-08  1 days     1\n",
       "1  2006-12-01 2007-02-07 68 days    68\n",
       "2  2005-12-31 2006-01-31 31 days    31\n",
       "3  2003-01-08 2003-03-19 70 days    70\n",
       "4  1998-12-02 1998-12-02  0 days     0\n",
       "5  1997-01-19 1997-01-21  2 days     2\n",
       "6  1990-12-27 1991-01-10 14 days    14\n",
       "7  1985-01-14 1985-01-28 14 days    14\n",
       "8  1983-02-16 1983-02-18  2 days     2\n",
       "9  1977-02-12 1977-02-12  0 days     0\n",
       "10 1969-01-08 1969-01-09  1 days     1"
      ],
      "text/html": "<div>\n<style scoped>\n    .dataframe tbody tr th:only-of-type {\n        vertical-align: middle;\n    }\n\n    .dataframe tbody tr th {\n        vertical-align: top;\n    }\n\n    .dataframe thead th {\n        text-align: right;\n    }\n</style>\n<table border=\"1\" class=\"dataframe\">\n  <thead>\n    <tr style=\"text-align: right;\">\n      <th></th>\n      <th>startDate</th>\n      <th>endDate</th>\n      <th>day</th>\n      <th>days</th>\n    </tr>\n  </thead>\n  <tbody>\n    <tr>\n      <th>0</th>\n      <td>2009-02-07</td>\n      <td>2009-02-08</td>\n      <td>1 days</td>\n      <td>1</td>\n    </tr>\n    <tr>\n      <th>1</th>\n      <td>2006-12-01</td>\n      <td>2007-02-07</td>\n      <td>68 days</td>\n      <td>68</td>\n    </tr>\n    <tr>\n      <th>2</th>\n      <td>2005-12-31</td>\n      <td>2006-01-31</td>\n      <td>31 days</td>\n      <td>31</td>\n    </tr>\n    <tr>\n      <th>3</th>\n      <td>2003-01-08</td>\n      <td>2003-03-19</td>\n      <td>70 days</td>\n      <td>70</td>\n    </tr>\n    <tr>\n      <th>4</th>\n      <td>1998-12-02</td>\n      <td>1998-12-02</td>\n      <td>0 days</td>\n      <td>0</td>\n    </tr>\n    <tr>\n      <th>5</th>\n      <td>1997-01-19</td>\n      <td>1997-01-21</td>\n      <td>2 days</td>\n      <td>2</td>\n    </tr>\n    <tr>\n      <th>6</th>\n      <td>1990-12-27</td>\n      <td>1991-01-10</td>\n      <td>14 days</td>\n      <td>14</td>\n    </tr>\n    <tr>\n      <th>7</th>\n      <td>1985-01-14</td>\n      <td>1985-01-28</td>\n      <td>14 days</td>\n      <td>14</td>\n    </tr>\n    <tr>\n      <th>8</th>\n      <td>1983-02-16</td>\n      <td>1983-02-18</td>\n      <td>2 days</td>\n      <td>2</td>\n    </tr>\n    <tr>\n      <th>9</th>\n      <td>1977-02-12</td>\n      <td>1977-02-12</td>\n      <td>0 days</td>\n      <td>0</td>\n    </tr>\n    <tr>\n      <th>10</th>\n      <td>1969-01-08</td>\n      <td>1969-01-09</td>\n      <td>1 days</td>\n      <td>1</td>\n    </tr>\n  </tbody>\n</table>\n</div>"
     },
     "metadata": {},
     "execution_count": 115
    }
   ],
   "source": [
    "data_history1['day'] = data_history1['endDate'] - data_history1['startDate']\n",
    "data_history1['days'] = data_history1['day'].apply(lambda x:x.days)  # 将timestamp的数据转换成整数\n",
    "data_history1"
   ]
  },
  {
   "cell_type": "code",
   "execution_count": 120,
   "metadata": {},
   "outputs": [
    {
     "output_type": "stream",
     "name": "stdout",
     "text": [
      "18.454545454545453\n"
     ]
    }
   ],
   "source": [
    "print(data_history1['days'].mean())"
   ]
  },
  {
   "cell_type": "code",
   "execution_count": 121,
   "metadata": {},
   "outputs": [
    {
     "output_type": "execute_result",
     "data": {
      "text/plain": [
       "                           NAME  STRTDATIT   AREA_HA     time_d   days\n",
       "0                               1991-01-01  25001.99     0 days      0\n",
       "1                               1991-01-08    964.63     7 days      7\n",
       "2                               1991-11-25  12484.08   328 days    328\n",
       "3                               1992-01-01   6169.29   365 days    365\n",
       "4                               1993-01-01   4360.03   731 days    731\n",
       "...                         ...        ...       ...        ...    ...\n",
       "2260      YIELIMA - HUGHES LANE 2014-01-05     36.67  8405 days   8405\n",
       "2261  Yandoit - McPhersons Lane 2012-12-31     54.39  8035 days   8035\n",
       "2262  Yanipy - Miram South Road 2015-10-25    114.28  9063 days   9063\n",
       "2263         Yarram - Napier Rd 2009-02-23   1400.84  6628 days   6628\n",
       "2264        Yellow Bog Rd (NSW) 2020-01-08    273.86 10599 days  10599\n",
       "\n",
       "[2265 rows x 5 columns]"
      ],
      "text/html": "<div>\n<style scoped>\n    .dataframe tbody tr th:only-of-type {\n        vertical-align: middle;\n    }\n\n    .dataframe tbody tr th {\n        vertical-align: top;\n    }\n\n    .dataframe thead th {\n        text-align: right;\n    }\n</style>\n<table border=\"1\" class=\"dataframe\">\n  <thead>\n    <tr style=\"text-align: right;\">\n      <th></th>\n      <th>NAME</th>\n      <th>STRTDATIT</th>\n      <th>AREA_HA</th>\n      <th>time_d</th>\n      <th>days</th>\n    </tr>\n  </thead>\n  <tbody>\n    <tr>\n      <th>0</th>\n      <td></td>\n      <td>1991-01-01</td>\n      <td>25001.99</td>\n      <td>0 days</td>\n      <td>0</td>\n    </tr>\n    <tr>\n      <th>1</th>\n      <td></td>\n      <td>1991-01-08</td>\n      <td>964.63</td>\n      <td>7 days</td>\n      <td>7</td>\n    </tr>\n    <tr>\n      <th>2</th>\n      <td></td>\n      <td>1991-11-25</td>\n      <td>12484.08</td>\n      <td>328 days</td>\n      <td>328</td>\n    </tr>\n    <tr>\n      <th>3</th>\n      <td></td>\n      <td>1992-01-01</td>\n      <td>6169.29</td>\n      <td>365 days</td>\n      <td>365</td>\n    </tr>\n    <tr>\n      <th>4</th>\n      <td></td>\n      <td>1993-01-01</td>\n      <td>4360.03</td>\n      <td>731 days</td>\n      <td>731</td>\n    </tr>\n    <tr>\n      <th>...</th>\n      <td>...</td>\n      <td>...</td>\n      <td>...</td>\n      <td>...</td>\n      <td>...</td>\n    </tr>\n    <tr>\n      <th>2260</th>\n      <td>YIELIMA - HUGHES LANE</td>\n      <td>2014-01-05</td>\n      <td>36.67</td>\n      <td>8405 days</td>\n      <td>8405</td>\n    </tr>\n    <tr>\n      <th>2261</th>\n      <td>Yandoit - McPhersons Lane</td>\n      <td>2012-12-31</td>\n      <td>54.39</td>\n      <td>8035 days</td>\n      <td>8035</td>\n    </tr>\n    <tr>\n      <th>2262</th>\n      <td>Yanipy - Miram South Road</td>\n      <td>2015-10-25</td>\n      <td>114.28</td>\n      <td>9063 days</td>\n      <td>9063</td>\n    </tr>\n    <tr>\n      <th>2263</th>\n      <td>Yarram - Napier Rd</td>\n      <td>2009-02-23</td>\n      <td>1400.84</td>\n      <td>6628 days</td>\n      <td>6628</td>\n    </tr>\n    <tr>\n      <th>2264</th>\n      <td>Yellow Bog Rd (NSW)</td>\n      <td>2020-01-08</td>\n      <td>273.86</td>\n      <td>10599 days</td>\n      <td>10599</td>\n    </tr>\n  </tbody>\n</table>\n<p>2265 rows × 5 columns</p>\n</div>"
     },
     "metadata": {},
     "execution_count": 121
    }
   ],
   "source": [
    "data3"
   ]
  },
  {
   "cell_type": "code",
   "execution_count": null,
   "metadata": {},
   "outputs": [],
   "source": []
  }
 ]
}